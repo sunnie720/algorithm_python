{
  "nbformat": 4,
  "nbformat_minor": 0,
  "metadata": {
    "colab": {
      "provenance": [],
      "authorship_tag": "ABX9TyPW4L2JJxJTTpULlVS0QVnE"
    },
    "kernelspec": {
      "name": "python3",
      "display_name": "Python 3"
    },
    "language_info": {
      "name": "python"
    }
  },
  "cells": [
    {
      "cell_type": "markdown",
      "source": [
        "# 정렬"
      ],
      "metadata": {
        "id": "jFCIAxKMkkGJ"
      }
    },
    {
      "cell_type": "markdown",
      "source": [
        "## 응용예제 01. 성적별로 조 편성하기 (2023.04.21)\n",
        "- 학생의 성적별로 정렬한 후 가장 성적이 높은 학생과 가장 성적이 낮은 학생을 짝으로 조 편성 (전체 학생 수는 짝수라고 가정)"
      ],
      "metadata": {
        "id": "AmvFjKVNkmVu"
      }
    },
    {
      "cell_type": "code",
      "execution_count": 3,
      "metadata": {
        "colab": {
          "base_uri": "https://localhost:8080/"
        },
        "id": "QUuYAXYCiZv8",
        "outputId": "d77de296-af92-4dfd-e07e-f1da2c21cdfa"
      },
      "outputs": [
        {
          "output_type": "stream",
          "name": "stdout",
          "text": [
            "영웅 : 초아\n",
            "화사 : 민호\n",
            "영탁 : 선미\n"
          ]
        }
      ],
      "source": [
        "before = [['선미',88],['초아',99],['화사',71],\n",
        "          ['영탁',78],['영웅',67],['민호',92]]\n",
        "after = sorted(before, key=(lambda x: x[1]))\n",
        "\n",
        "n = len(after)\n",
        "for i in range(n):\n",
        "  if i<n/2:\n",
        "    print(after[i][0],':',after[n-i-1][0])"
      ]
    },
    {
      "cell_type": "markdown",
      "source": [
        "## 응용예제 02. 2차원 배열의 중앙값 찾기 (2023.04.21)\n",
        "- 2차원 배열 값에서 중앙값을 찾는다. 2차원 배열을 1차원 배열로 만든 후 정렬"
      ],
      "metadata": {
        "id": "uuDBI6ShnToe"
      }
    },
    {
      "cell_type": "code",
      "source": [
        "import numpy as np\n",
        "arr = [[55,33,250,44],\n",
        "       [88,1,76,23],\n",
        "       [199,222,38,47],\n",
        "       [155,145,20,99]]\n",
        "arr = np.array(arr)\n",
        "arr = list(arr.reshape(-1))\n",
        "arr = sorted(arr)\n",
        "n = len(arr)\n",
        "print('중앙값 -->', arr[n//2])"
      ],
      "metadata": {
        "colab": {
          "base_uri": "https://localhost:8080/"
        },
        "id": "BILDnxfelxe4",
        "outputId": "0160e583-c8a2-4c25-87dd-1e91a3b49502"
      },
      "execution_count": 24,
      "outputs": [
        {
          "output_type": "stream",
          "name": "stdout",
          "text": [
            "중앙값 --> 76\n"
          ]
        }
      ]
    },
    {
      "cell_type": "markdown",
      "source": [
        "##프로그래머스 Lv1. K번째 수 (2023.04.22)"
      ],
      "metadata": {
        "id": "VFnnsFnpFMxP"
      }
    },
    {
      "cell_type": "code",
      "source": [
        "def solution(array, commands):\n",
        "    return [sorted(array[lst[0]-1:lst[1]])[lst[2]-1] for lst in commands]"
      ],
      "metadata": {
        "id": "caIoIvxjq9eQ"
      },
      "execution_count": 7,
      "outputs": []
    },
    {
      "cell_type": "code",
      "source": [
        "# 다른 풀이 : 리스트 컴프리헨션 말고 map으로도!\n",
        "def solution(array, commands):\n",
        "    return list(map(lambda x: sorted(array[x[0]-1:x[1]])[x[2]-1], commands))"
      ],
      "metadata": {
        "id": "VQIyt6dsJAp2"
      },
      "execution_count": 5,
      "outputs": []
    },
    {
      "cell_type": "code",
      "source": [
        "solution([1, 5, 2, 6, 3, 7, 4], [[2, 5, 3], [4, 4, 1], [1, 7, 3]])"
      ],
      "metadata": {
        "colab": {
          "base_uri": "https://localhost:8080/"
        },
        "id": "xGLca8VxI3L1",
        "outputId": "d3162515-7186-42c3-d6b1-9d2d7240da7d"
      },
      "execution_count": 8,
      "outputs": [
        {
          "output_type": "execute_result",
          "data": {
            "text/plain": [
              "[5, 6, 3]"
            ]
          },
          "metadata": {},
          "execution_count": 8
        }
      ]
    },
    {
      "cell_type": "code",
      "source": [],
      "metadata": {
        "id": "6nRS4IMIQy43"
      },
      "execution_count": null,
      "outputs": []
    }
  ]
}