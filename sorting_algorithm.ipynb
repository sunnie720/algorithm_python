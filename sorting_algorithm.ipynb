{
  "nbformat": 4,
  "nbformat_minor": 0,
  "metadata": {
    "colab": {
      "provenance": [],
      "authorship_tag": "ABX9TyPP7L8bd5WruMVzUKnWbCZk"
    },
    "kernelspec": {
      "name": "python3",
      "display_name": "Python 3"
    },
    "language_info": {
      "name": "python"
    }
  },
  "cells": [
    {
      "cell_type": "markdown",
      "source": [
        "# 정렬"
      ],
      "metadata": {
        "id": "jFCIAxKMkkGJ"
      }
    },
    {
      "cell_type": "markdown",
      "source": [
        "## 버블정렬"
      ],
      "metadata": {
        "id": "ewLAIKlAXzco"
      }
    },
    {
      "cell_type": "code",
      "source": [
        "def bubble(a):\n",
        "  n = len(a)\n",
        "  cnt = 0  #비교횟수\n",
        "  for i in range(n-1):\n",
        "    for j in range(n-1,i,-1):\n",
        "      cnt+=1\n",
        "      if a[j-1] > a[j]:  # 오름차순 정렬\n",
        "        a[j-1], a[j] = a[j], a[j-1]\n",
        "  print(f'비교횟수: {cnt}',f'정렬 결과: {a}',sep='\\n')\n",
        "\n",
        "bubble([1,6,4,3,7,8,9])"
      ],
      "metadata": {
        "colab": {
          "base_uri": "https://localhost:8080/"
        },
        "id": "XAYft2DiXy-K",
        "outputId": "14fac14f-f33a-492c-d9fc-9ae54b5ff353"
      },
      "execution_count": null,
      "outputs": [
        {
          "output_type": "stream",
          "name": "stdout",
          "text": [
            "비교횟수: 21\n",
            "정렬 결과: [1, 3, 4, 6, 7, 8, 9]\n"
          ]
        }
      ]
    },
    {
      "cell_type": "markdown",
      "source": [
        "## 버블정렬 & 교환이 없으면 멈추기"
      ],
      "metadata": {
        "id": "UGl3UxOpYhZO"
      }
    },
    {
      "cell_type": "code",
      "source": [
        "def bubble1(a):\n",
        "  n = len(a)\n",
        "  cnt = 0  #비교횟수\n",
        "  for i in range(n-1):\n",
        "    exchange = 0  #교환횟수\n",
        "    for j in range(n-1,i,-1):\n",
        "      cnt+=1\n",
        "      if a[j-1] > a[j]:  # 오름차순 정렬\n",
        "        a[j-1], a[j] = a[j], a[j-1]\n",
        "        exchange+=1\n",
        "    if exchange==0:\n",
        "      break\n",
        "  print(f'비교횟수: {cnt}',f'정렬 결과: {a}',sep='\\n')\n",
        "\n",
        "bubble1([1,6,4,3,7,8,9])"
      ],
      "metadata": {
        "colab": {
          "base_uri": "https://localhost:8080/"
        },
        "id": "p21-L0uEYtQ0",
        "outputId": "4646b217-e519-409f-cf4d-82a10230c05d"
      },
      "execution_count": null,
      "outputs": [
        {
          "output_type": "stream",
          "name": "stdout",
          "text": [
            "비교횟수: 15\n",
            "정렬 결과: [1, 3, 4, 6, 7, 8, 9]\n"
          ]
        }
      ]
    },
    {
      "cell_type": "markdown",
      "source": [
        "## 버블정렬 & 정렬 완료된 부분은 다음번에 교환x"
      ],
      "metadata": {
        "id": "vTb6GyzDZ6B1"
      }
    },
    {
      "cell_type": "code",
      "source": [
        "def bubble2(a):\n",
        "  n = len(a)\n",
        "  cnt = 0  #비교횟수\n",
        "  k = 0\n",
        "  while k<n-1:  # 다 정렬 완료되면 종료\n",
        "    last = n-1  \n",
        "    for j in range(n-1,k,-1): # 맨 뒤부터 정렬된 위치까지만 비교\n",
        "      cnt+=1\n",
        "      if a[j-1] > a[j]:  # 오름차순 정렬\n",
        "        a[j-1], a[j] = a[j], a[j-1]\n",
        "        last = j  # 정렬 완료된 위치 저장 \n",
        "    k = last  # k 업데이트\n",
        "  print(f'비교횟수: {cnt}',f'정렬 결과: {a}',sep='\\n')\n",
        "\n",
        "bubble2([1,6,4,3,7,8,9])"
      ],
      "metadata": {
        "colab": {
          "base_uri": "https://localhost:8080/"
        },
        "id": "eJAKxAWUYtNl",
        "outputId": "b2be8878-3df2-4b54-fc75-854b4c634fa6"
      },
      "execution_count": null,
      "outputs": [
        {
          "output_type": "stream",
          "name": "stdout",
          "text": [
            "비교횟수: 13\n",
            "정렬 결과: [1, 3, 4, 6, 7, 8, 9]\n"
          ]
        }
      ]
    },
    {
      "cell_type": "markdown",
      "source": [
        "## 셰이커 정렬; 양방향 버블 정렬; 칵테일 정렬; 칵테일 셰이커 정렬"
      ],
      "metadata": {
        "id": "jf7UFTn7bkfk"
      }
    },
    {
      "cell_type": "code",
      "source": [
        "def shaker(a):\n",
        "  cnt = 0  #비교횟수\n",
        "  left = 0\n",
        "  right = len(a) -1\n",
        "  k = right\n",
        "  while left < right:\n",
        "    cnt+=1\n",
        "    for j in range(right, left, -1):\n",
        "      cnt+=1\n",
        "      if a[j-1] > a[j]:\n",
        "        a[j-1], a[j] = a[j], a[j-1]\n",
        "        last = j\n",
        "    left = last\n",
        "    for j in range(left, right):\n",
        "      cnt+=1\n",
        "      if a[j] > a[j+1]:\n",
        "        a[j], a[j+1] = a[j+1], a[j]\n",
        "        last = j\n",
        "    right = last\n",
        "  print(f'비교횟수: {cnt}',f'정렬 결과: {a}',sep='\\n')\n",
        "\n",
        "shaker([1,6,4,3,7,8,9])"
      ],
      "metadata": {
        "colab": {
          "base_uri": "https://localhost:8080/"
        },
        "id": "afXf23qdbtV-",
        "outputId": "2a68d4c0-22ca-4741-cfce-ac3e30067610"
      },
      "execution_count": null,
      "outputs": [
        {
          "output_type": "stream",
          "name": "stdout",
          "text": [
            "비교횟수: 11\n",
            "정렬 결과: [1, 3, 4, 6, 7, 8, 9]\n"
          ]
        }
      ]
    },
    {
      "cell_type": "markdown",
      "source": [
        "## 단순 선택 정렬"
      ],
      "metadata": {
        "id": "DV-g63yUcytA"
      }
    },
    {
      "cell_type": "code",
      "source": [
        "def selection_sort(a):\n",
        "  '''가장 작은 값 선택해서 정렬되지 않은 부분에서 맨 앞에 있는 원소와 교환'''\n",
        "  n = len(a)\n",
        "  cnt = 0 \n",
        "  for i in range(n-1):\n",
        "    min = i  # 정렬할 부분에서 가장 작은 원소의 인덱스\n",
        "    for j in range(i+1, n):\n",
        "      cnt+=1\n",
        "      if a[j] < a[min]:\n",
        "        min = j # min 인덱스 업데이트\n",
        "        a[i], a[min] = a[min], a[i]\n",
        "  print(f'비교횟수: {cnt}',f'정렬 결과: {a}',sep='\\n')\n",
        "\n",
        "selection_sort([1,6,4,3,7,8,9])"
      ],
      "metadata": {
        "colab": {
          "base_uri": "https://localhost:8080/"
        },
        "id": "9Ock-JH7c1SP",
        "outputId": "c2273ce9-55f6-457a-b1d8-9446ae5c7caa"
      },
      "execution_count": null,
      "outputs": [
        {
          "output_type": "stream",
          "name": "stdout",
          "text": [
            "비교횟수: 21\n",
            "정렬 결과: [1, 3, 4, 6, 7, 8, 9]\n"
          ]
        }
      ]
    },
    {
      "cell_type": "markdown",
      "source": [
        "## 단순 삽입 정렬"
      ],
      "metadata": {
        "id": "L7UAeUzserUe"
      }
    },
    {
      "cell_type": "code",
      "source": [
        "def insertion_sort(a):\n",
        "  '''원소 하나씩 주목하면서 알맞은 위치에 삽입'''\n",
        "  n = len(a)\n",
        "  cnt = 0 \n",
        "  for i in range(1,n):  # 두번째 원소부터 주목\n",
        "    j = i\n",
        "    tmp = a[i] # 주목한 원소의 값\n",
        "    cnt+=1\n",
        "    while j>0 and a[j-1]>tmp:  # 주목한 원소가 앞의 원소보다 작으면\n",
        "      a[j] = a[j-1]  # 주목한 원소의 값을 작은 값으로 바꾸기\n",
        "      j -= 1 \n",
        "      cnt+=1\n",
        "    a[j] = tmp  # 기존에 주목한 원소가 있던 위치에는 마지막으로 비교한 원소 값 넣기\n",
        "  print(f'비교횟수: {cnt}',f'정렬 결과: {a}',sep='\\n')\n",
        "\n",
        "insertion_sort([1,6,4,3,7,8,9])"
      ],
      "metadata": {
        "colab": {
          "base_uri": "https://localhost:8080/"
        },
        "id": "sZgSAngEeuEw",
        "outputId": "e799e209-148b-4c30-d70b-04d123936af9"
      },
      "execution_count": null,
      "outputs": [
        {
          "output_type": "stream",
          "name": "stdout",
          "text": [
            "비교횟수: 9\n",
            "정렬 결과: [1, 3, 4, 6, 7, 8, 9]\n"
          ]
        }
      ]
    },
    {
      "cell_type": "markdown",
      "source": [
        "## 이진 삽입 정렬\n",
        "단순 삽입 정렬의 시간복잡도를 줄이는 방법 "
      ],
      "metadata": {
        "id": "5UhfzAVPkoNe"
      }
    },
    {
      "cell_type": "code",
      "source": [
        "def binary_insertion_sort(a):\n",
        "  '''단순 삽입 정렬에서 이미 정렬을 마친 배열을 제외하고 원소를 삽입해야 할 위치를 검사'''\n",
        "  n = len(a)\n",
        "  cnt = 0\n",
        "  for i in range(1,n):\n",
        "    key = a[i]    # 주목하고 있는 원소값\n",
        "    i_l = 0       # 검사 범위의 맨 앞 원소 인덱스\n",
        "    i_r = i-1     # 검사 범위의 맨 뒤 원소 인덱스\n",
        "    while True:\n",
        "      cnt+=1\n",
        "      i_c = (i_l + i_r) // 2  # 검사 범위 중앙 원소 인덱스\n",
        "      if a[i_c] == key:       # 검색 성공\n",
        "        break\n",
        "      elif a[i_c] < key:\n",
        "        i_l = i_c + 1         # 검색 범위를 뒤쪽 절반으로 좁힘\n",
        "      elif a[i_c] > key:\n",
        "        i_r = i_c -1          # 검색 범위를 앞쪽 절반으로 좁힘\n",
        "      if i_l > i_r:\n",
        "        break\n",
        "    i_d = i_c+1 if i_l <= i_r else i_r+1  # 삽입해야할 위치의 인덱스\n",
        "    \n",
        "    for j in range(i, i_d, -1):  # 앞서 찾은 위치까지 단순 삽입 정렬\n",
        "      a[j] = a[j-1]\n",
        "    a[i_d] = key \n",
        "  print(f'비교횟수: {cnt}',f'정렬 결과: {a}',sep='\\n')\n",
        "\n",
        "binary_insertion_sort([1,6,4,3,7,8,9])"
      ],
      "metadata": {
        "colab": {
          "base_uri": "https://localhost:8080/"
        },
        "id": "rBK6gdsbkqir",
        "outputId": "5fd9b6ae-ef32-41fc-ed45-7499e5b1a633"
      },
      "execution_count": null,
      "outputs": [
        {
          "output_type": "stream",
          "name": "stdout",
          "text": [
            "비교횟수: 14\n",
            "정렬 결과: [1, 3, 4, 6, 7, 8, 9]\n"
          ]
        }
      ]
    },
    {
      "cell_type": "code",
      "source": [
        "# 단순 삽입 정렬 vs 이진 삽입 정렬\n",
        "insertion_sort([9,3,4,1,8,7,9,4,3,7,8,2,4,9,1,4,3,7,5,4,3,8,2,2,8,1,8,1,4,7,9,3,2,2,4,5,7,8,9,3,4,3,4,4,8,8,2,5,4,3,5,4,8,9,5])\n",
        "binary_insertion_sort([9,3,4,1,8,7,9,4,3,7,8,2,4,9,1,4,3,7,5,4,3,8,2,2,8,1,8,1,4,7,9,3,2,2,4,5,7,8,9,3,4,3,4,4,8,8,2,5,4,3,5,4,8,9,5])"
      ],
      "metadata": {
        "colab": {
          "base_uri": "https://localhost:8080/"
        },
        "id": "S5_IZ8lVoL2P",
        "outputId": "d570afd8-8c74-462d-9aa1-fd8e647a063c"
      },
      "execution_count": null,
      "outputs": [
        {
          "output_type": "stream",
          "name": "stdout",
          "text": [
            "비교횟수: 672\n",
            "정렬 결과: [1, 1, 1, 1, 2, 2, 2, 2, 2, 2, 3, 3, 3, 3, 3, 3, 3, 3, 4, 4, 4, 4, 4, 4, 4, 4, 4, 4, 4, 4, 5, 5, 5, 5, 5, 7, 7, 7, 7, 7, 8, 8, 8, 8, 8, 8, 8, 8, 8, 9, 9, 9, 9, 9, 9]\n",
            "비교횟수: 137\n",
            "정렬 결과: [1, 1, 1, 1, 2, 2, 2, 2, 2, 2, 3, 3, 3, 3, 3, 3, 3, 3, 4, 4, 4, 4, 4, 4, 4, 4, 4, 4, 4, 4, 5, 5, 5, 5, 5, 7, 7, 7, 7, 7, 8, 8, 8, 8, 8, 8, 8, 8, 8, 9, 9, 9, 9, 9, 9]\n"
          ]
        }
      ]
    },
    {
      "cell_type": "code",
      "source": [],
      "metadata": {
        "id": "RNHRvvIArKRL"
      },
      "execution_count": null,
      "outputs": []
    },
    {
      "cell_type": "markdown",
      "source": [
        "\n",
        "\n",
        "---\n",
        "\n",
        "\n",
        "\n",
        "---\n",
        "\n"
      ],
      "metadata": {
        "id": "XDK1ncHsrIFp"
      }
    },
    {
      "cell_type": "markdown",
      "source": [
        "## 응용예제 01. 성적별로 조 편성하기 (2023.04.21)\n",
        "- 학생의 성적별로 정렬한 후 가장 성적이 높은 학생과 가장 성적이 낮은 학생을 짝으로 조 편성 (전체 학생 수는 짝수라고 가정)"
      ],
      "metadata": {
        "id": "AmvFjKVNkmVu"
      }
    },
    {
      "cell_type": "code",
      "execution_count": null,
      "metadata": {
        "colab": {
          "base_uri": "https://localhost:8080/"
        },
        "id": "QUuYAXYCiZv8",
        "outputId": "4a01ca1a-9a78-4370-a104-4a60c73a8ca3"
      },
      "outputs": [
        {
          "output_type": "stream",
          "name": "stdout",
          "text": [
            "영웅 : 초아\n",
            "화사 : 민호\n",
            "영탁 : 선미\n"
          ]
        }
      ],
      "source": [
        "before = [['선미',88],['초아',99],['화사',71],\n",
        "          ['영탁',78],['영웅',67],['민호',92]]\n",
        "after = sorted(before, key=(lambda x: x[1]))\n",
        "\n",
        "n = len(after)\n",
        "for i in range(n):\n",
        "  if i<n/2:\n",
        "    print(after[i][0],':',after[n-i-1][0])"
      ]
    },
    {
      "cell_type": "markdown",
      "source": [
        "## 응용예제 02. 2차원 배열의 중앙값 찾기 (2023.04.21)\n",
        "- 2차원 배열 값에서 중앙값을 찾는다. 2차원 배열을 1차원 배열로 만든 후 정렬"
      ],
      "metadata": {
        "id": "uuDBI6ShnToe"
      }
    },
    {
      "cell_type": "code",
      "source": [
        "import numpy as np\n",
        "arr = [[55,33,250,44],\n",
        "       [88,1,76,23],\n",
        "       [199,222,38,47],\n",
        "       [155,145,20,99]]\n",
        "arr = np.array(arr)\n",
        "arr = list(arr.reshape(-1))\n",
        "arr = sorted(arr)\n",
        "n = len(arr)\n",
        "print('중앙값 -->', arr[n//2])"
      ],
      "metadata": {
        "colab": {
          "base_uri": "https://localhost:8080/"
        },
        "id": "BILDnxfelxe4",
        "outputId": "8ee1aab9-fad2-421a-b489-5789541d1f1c"
      },
      "execution_count": null,
      "outputs": [
        {
          "output_type": "stream",
          "name": "stdout",
          "text": [
            "중앙값 --> 76\n"
          ]
        }
      ]
    },
    {
      "cell_type": "markdown",
      "source": [
        "##프로그래머스 Lv1. K번째 수 (2023.04.22)"
      ],
      "metadata": {
        "id": "VFnnsFnpFMxP"
      }
    },
    {
      "cell_type": "code",
      "source": [
        "def solution(array, commands):\n",
        "    return [sorted(array[lst[0]-1:lst[1]])[lst[2]-1] for lst in commands]"
      ],
      "metadata": {
        "id": "caIoIvxjq9eQ"
      },
      "execution_count": null,
      "outputs": []
    },
    {
      "cell_type": "code",
      "source": [
        "# 다른 풀이 : 리스트 컴프리헨션 말고 map으로도!\n",
        "def solution(array, commands):\n",
        "    return list(map(lambda x: sorted(array[x[0]-1:x[1]])[x[2]-1], commands))"
      ],
      "metadata": {
        "id": "VQIyt6dsJAp2"
      },
      "execution_count": null,
      "outputs": []
    },
    {
      "cell_type": "code",
      "source": [
        "solution([1, 5, 2, 6, 3, 7, 4], [[2, 5, 3], [4, 4, 1], [1, 7, 3]])"
      ],
      "metadata": {
        "colab": {
          "base_uri": "https://localhost:8080/"
        },
        "id": "xGLca8VxI3L1",
        "outputId": "afc2f947-bab9-43cd-8cc3-7dc6b1073183"
      },
      "execution_count": null,
      "outputs": [
        {
          "output_type": "execute_result",
          "data": {
            "text/plain": [
              "[5, 6, 3]"
            ]
          },
          "metadata": {},
          "execution_count": 5
        }
      ]
    },
    {
      "cell_type": "markdown",
      "source": [
        "##프로그래머스 Lv2. 가장 큰 수 (2023.04.25)"
      ],
      "metadata": {
        "id": "UG1PVYJm1VNV"
      }
    },
    {
      "cell_type": "code",
      "source": [
        "def solution(numbers):\n",
        "    numbers = list(map(str, numbers))\n",
        "    numbers = sorted(numbers, \n",
        "                     key=lambda x: x*3,\n",
        "                    reverse=True)\n",
        "    return str(int(''.join(numbers)))  # '000' 등은 '0'으로 바꿔주기 위해 str(int())"
      ],
      "metadata": {
        "id": "6nRS4IMIQy43"
      },
      "execution_count": null,
      "outputs": []
    },
    {
      "cell_type": "code",
      "source": [
        "solution([6, 10, 2])"
      ],
      "metadata": {
        "colab": {
          "base_uri": "https://localhost:8080/",
          "height": 36
        },
        "id": "QpkdKy1e1_n7",
        "outputId": "04867344-44cd-4582-b32a-b595205efbc6"
      },
      "execution_count": null,
      "outputs": [
        {
          "output_type": "execute_result",
          "data": {
            "text/plain": [
              "'6210'"
            ],
            "application/vnd.google.colaboratory.intrinsic+json": {
              "type": "string"
            }
          },
          "metadata": {},
          "execution_count": 8
        }
      ]
    },
    {
      "cell_type": "code",
      "source": [
        "solution([3, 30, 34, 5, 9])"
      ],
      "metadata": {
        "colab": {
          "base_uri": "https://localhost:8080/",
          "height": 36
        },
        "id": "8yyYMCOabYef",
        "outputId": "672314f9-9474-441c-e14e-5be32b48e9e8"
      },
      "execution_count": null,
      "outputs": [
        {
          "output_type": "execute_result",
          "data": {
            "text/plain": [
              "'9534330'"
            ],
            "application/vnd.google.colaboratory.intrinsic+json": {
              "type": "string"
            }
          },
          "metadata": {},
          "execution_count": 9
        }
      ]
    },
    {
      "cell_type": "code",
      "source": [
        "# ⭐️문자열 숫자 비교연산\n",
        "## 문자열의 경우 첫번째 인덱스부터 차례대로 ASCII 숫자로 바꿔서 대소비교 \n",
        "\n",
        "print(sorted(['221', '2', '10'], reverse=True))\n",
        "print(sorted(['221'*2, '2'*2, '10'*2], reverse=True))\n",
        "print(sorted(['221'*3, '2'*3, '10'*3], reverse=True))  # 문제에서 'numbers의 원소는 0 이상 1,000 이하'이므로 세자리 수까지 비교하려면 곱하기 3"
      ],
      "metadata": {
        "colab": {
          "base_uri": "https://localhost:8080/"
        },
        "id": "BUx6lboV2C13",
        "outputId": "1570f7ee-ce19-4133-84a0-a8a5302a5c81"
      },
      "execution_count": null,
      "outputs": [
        {
          "output_type": "stream",
          "name": "stdout",
          "text": [
            "['221', '2', '10']\n",
            "['221221', '22', '1010']\n",
            "['222', '221221221', '101010']\n"
          ]
        }
      ]
    },
    {
      "cell_type": "markdown",
      "source": [
        "\n",
        "\n",
        "---\n",
        "\n",
        "\n",
        "\n",
        "---\n",
        "\n"
      ],
      "metadata": {
        "id": "NsLCSf8pMaso"
      }
    },
    {
      "cell_type": "markdown",
      "source": [
        "# Week 11 - 고급정렬 알고리즘"
      ],
      "metadata": {
        "id": "3Ue7ijMCMciK"
      }
    },
    {
      "cell_type": "markdown",
      "source": [
        "## 응용예제 01. 선택 정렬과 퀵 정렬의 성능 비교하기 (2023.05.18)"
      ],
      "metadata": {
        "id": "hpuk4aepMzea"
      }
    },
    {
      "cell_type": "code",
      "source": [
        "import numpy as np\n",
        "from time import time\n",
        "\n",
        "# 선택 정렬\n",
        "def selection_sort(ary):\n",
        "  '''가장 작은 값 선택해서 정렬되지 않은 부분에서 맨 앞에 있는 원소와 교환'''\n",
        "  n = len(ary)\n",
        "  cnt = 0 \n",
        "  for i in range(n-1):\n",
        "    min = i  # 정렬할 부분에서 가장 작은 원소의 인덱스\n",
        "    for j in range(i+1, n):\n",
        "      cnt+=1\n",
        "      if ary[j] < ary[min]:\n",
        "        min = j # min 인덱스 업데이트\n",
        "        ary[i], ary[min] = ary[min], ary[i]\n",
        "  return ary\n",
        "\n",
        "# 퀵 정렬 \n",
        "def quick_sort(ary):\n",
        "  '''기준값을 기준으로 왼쪽과 오른쪽 정렬'''\n",
        "  n = len(ary)\n",
        "  if n <= 1: # 정렬할 리스트의 개수가 1개 이하면\n",
        "    return ary\n",
        "  pivot = ary[n // 2]   # 기준값을 중간값으로 지정\n",
        "  leftAry, rightAry = [], []\n",
        "  for num in ary:\n",
        "    if num < pivot:\n",
        "      leftAry.append(num)\n",
        "    elif num > pivot:\n",
        "      rightAry.append(num)\n",
        "  return quick_sort(leftAry) + [pivot] + quick_sort(rightAry)\n",
        "\n",
        "# 선택정렬 퀵정렬 성능 비교\n",
        "def compare_sortings(model1, model2, data):\n",
        "  bub_time1 = time()\n",
        "  data_bub = model1(data)\n",
        "  bub_time2 = time()\n",
        "\n",
        "  q_time1 = time()\n",
        "  data_q = model2(data)\n",
        "  q_time2 = time()\n",
        "\n",
        "  print(f'    선택 정렬 ㅡ>      {round(bub_time2-bub_time1, 3)} 초')\n",
        "  print(f'    퀵 정렬 ㅡ>       {round(q_time2-q_time1, 3)} 초')\n",
        "\n",
        "# main\n",
        "n = int(input('## 데이터 수: '))\n",
        "data = np.random.randn(n)\n",
        "compare_sortings(selection_sort, quick_sort, data)\n",
        "\n",
        "n = int(input('## 데이터 수: '))\n",
        "data = np.random.randn(n)\n",
        "compare_sortings(selection_sort, quick_sort, data)\n",
        "\n",
        "n = int(input('## 데이터 수: '))\n",
        "data = np.random.randn(n)\n",
        "compare_sortings(selection_sort, quick_sort, data)\n",
        "\n",
        "n = int(input('## 데이터 수: '))\n",
        "data = np.random.randn(n)\n",
        "compare_sortings(selection_sort, quick_sort, data)"
      ],
      "metadata": {
        "colab": {
          "base_uri": "https://localhost:8080/"
        },
        "id": "9Y8OrR8ZTK1e",
        "outputId": "80f26c9b-cd83-477b-8403-06aeaf7cb38b"
      },
      "execution_count": 9,
      "outputs": [
        {
          "output_type": "stream",
          "name": "stdout",
          "text": [
            "## 데이터 수: 1000\n",
            "    선택 정렬 ㅡ>      0.145 초\n",
            "    퀵 정렬 ㅡ>       0.003 초\n",
            "## 데이터 수: 10000\n",
            "    선택 정렬 ㅡ>      14.912 초\n",
            "    퀵 정렬 ㅡ>       0.021 초\n",
            "## 데이터 수: 12000\n",
            "    선택 정렬 ㅡ>      21.415 초\n",
            "    퀵 정렬 ㅡ>       0.025 초\n",
            "## 데이터 수: 15000\n",
            "    선택 정렬 ㅡ>      32.078 초\n",
            "    퀵 정렬 ㅡ>       0.033 초\n"
          ]
        }
      ]
    },
    {
      "cell_type": "markdown",
      "source": [
        "## 응용예제 02. 이미 정렬된 줄에 끼어들기 (2023.05.18)"
      ],
      "metadata": {
        "id": "PkemqgcKS7mS"
      }
    },
    {
      "cell_type": "code",
      "source": [
        "import numpy as np\n",
        "from time import time\n",
        "\n",
        "# 버블 정렬 \n",
        "def bubble_sort(ary) :\n",
        "  '''맨 앞부터 하나씩 정렬'''\n",
        "  n = len(ary)\n",
        "  for end in range(n-1, 0, -1):\n",
        "    changeYN = False\n",
        "    print('#사이클 -->', ary)\n",
        "    for cur in range(0, end):\n",
        "      if (ary[cur] > ary[cur+1]):\n",
        "        ary[cur], ary[cur+1] = ary[cur+1], ary[cur]\n",
        "        changeYN = True\n",
        "    if not changeYN:\n",
        "      break\n",
        "  return ary\n",
        "\n",
        "# 퀵 정렬 \n",
        "def quick_sort(ary):\n",
        "  '''기준값을 기준으로 왼쪽과 오른쪽 정렬'''\n",
        "  n = len(ary)\n",
        "  if n <= 1: # 정렬할 리스트의 개수가 1개 이하면\n",
        "    return ary\n",
        "  pivot = ary[n // 2]   # 기준값을 중간값으로 지정\n",
        "  leftAry, rightAry = [], []\n",
        "  for num in ary:\n",
        "    if num < pivot:\n",
        "      leftAry.append(num)\n",
        "    elif num > pivot:\n",
        "      rightAry.append(num)\n",
        "  return quick_sort(leftAry) + [pivot] + quick_sort(rightAry)\n",
        "\n",
        "# 버블정렬 퀵정렬 성능 비교\n",
        "def compare_sortings(model1, model2, data):\n",
        "  bub_time1 = time()\n",
        "  data_bub = model1(data)\n",
        "  bub_time2 = time()\n",
        "\n",
        "  q_time1 = time()\n",
        "  data_q = model2(data)\n",
        "  q_time2 = time()\n",
        "\n",
        "  print(f'다시 정렬 시간(버블 정렬) ㅡ>      {round(bub_time2-bub_time1, 3)} 초')\n",
        "  print(f'다시 정렬 시간(퀵 정렬)  ㅡ>      {round(q_time2-q_time1, 3)} 초')\n",
        "\n",
        "# main\n",
        "n = int(input('# 데이터 개수: '))\n",
        "m = int(input('# 끼어든 위치: '))\n",
        "pos = m\n",
        "ary = np.sort(np.random.randn(n))\n",
        "data = np.insert(ary[:-1], pos, ary[-1])  # pos 위치에 가장 큰 값 넣기 \n",
        "compare_sortings(bubble_sort, quick_sort, data)"
      ],
      "metadata": {
        "colab": {
          "base_uri": "https://localhost:8080/"
        },
        "id": "bUMVZ5NQPvHo",
        "outputId": "9aedfec5-3773-4cfb-8d6c-a4ecbd8d3358"
      },
      "execution_count": 27,
      "outputs": [
        {
          "output_type": "stream",
          "name": "stdout",
          "text": [
            "# 데이터 개수: 10000\n",
            "# 끼어든 위치: 8967\n",
            "#사이클 --> [-3.88764484 -3.62310382 -3.3763735  ...  3.42212098  3.50333008\n",
            "  3.68661785]\n",
            "#사이클 --> [-3.88764484 -3.62310382 -3.3763735  ...  3.50333008  3.68661785\n",
            "  4.10067937]\n",
            "다시 정렬 시간(버블 정렬) ㅡ>      0.015 초\n",
            "다시 정렬 시간(퀵 정렬)  ㅡ>      0.026 초\n"
          ]
        }
      ]
    },
    {
      "cell_type": "code",
      "source": [],
      "metadata": {
        "id": "Now9eWK2YTgk"
      },
      "execution_count": 22,
      "outputs": []
    }
  ]
}