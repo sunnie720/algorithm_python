{
  "nbformat": 4,
  "nbformat_minor": 0,
  "metadata": {
    "colab": {
      "provenance": [],
      "authorship_tag": "ABX9TyOGB9xtMUcU7z6iHCdc0VzN"
    },
    "kernelspec": {
      "name": "python3",
      "display_name": "Python 3"
    },
    "language_info": {
      "name": "python"
    }
  },
  "cells": [
    {
      "cell_type": "markdown",
      "source": [
        "## 1. 치킨 쿠폰"
      ],
      "metadata": {
        "id": "2vIJN_syOWWf"
      }
    },
    {
      "cell_type": "code",
      "execution_count": null,
      "metadata": {
        "id": "kjCATcf4NoCf"
      },
      "outputs": [],
      "source": [
        "def solution(chicken):\n",
        "    free = 0\n",
        "    if chicken >=10:\n",
        "        chicken -= 10\n",
        "        free += 1\n",
        "        free += chicken//9\n",
        "    return free"
      ]
    },
    {
      "cell_type": "code",
      "source": [
        "solution(100)"
      ],
      "metadata": {
        "id": "YGoXT6vSOaq6",
        "outputId": "f54bc142-90fe-4003-92b9-24be59e8659f",
        "colab": {
          "base_uri": "https://localhost:8080/"
        }
      },
      "execution_count": null,
      "outputs": [
        {
          "output_type": "execute_result",
          "data": {
            "text/plain": [
              "11"
            ]
          },
          "metadata": {},
          "execution_count": 2
        }
      ]
    },
    {
      "cell_type": "code",
      "source": [
        "solution(1081)"
      ],
      "metadata": {
        "id": "NvcVp8NjOTyA",
        "outputId": "ea274fd1-7d9d-4f26-946d-ab6e891d4509",
        "colab": {
          "base_uri": "https://localhost:8080/"
        }
      },
      "execution_count": null,
      "outputs": [
        {
          "output_type": "execute_result",
          "data": {
            "text/plain": [
              "120"
            ]
          },
          "metadata": {},
          "execution_count": 3
        }
      ]
    },
    {
      "cell_type": "markdown",
      "source": [
        "##2. 겹치는 선분의 길이\n"
      ],
      "metadata": {
        "id": "MGbWr8R63diQ"
      }
    },
    {
      "cell_type": "code",
      "source": [
        "def solution(lines):\n",
        "    answer = 0\n",
        "    for i in range(len(lines)):\n",
        "        try: \n",
        "            a, b = lines[i][0], lines[i][1]\n",
        "            x, y = lines[i+1][0], lines[i+1][1]\n",
        "            if max(b-x, y-a) < (b-a)+(y-x):\n",
        "                if (a<=x<y<=b) or (x<=a<b<=y):\n",
        "                    answer += min(b-a, y-x)\n",
        "                else:\n",
        "                    answer += min(b-x, y-a)\n",
        "        except:\n",
        "            if max(b-lines[0][0], lines[0][1]-a) < (b-a)+(lines[0][1]-lines[0][0]):\n",
        "                answer += min(b-lines[0][0], lines[0][1]-a)\n",
        "    return answer"
      ],
      "metadata": {
        "id": "ezAAoypnObmW"
      },
      "execution_count": null,
      "outputs": []
    },
    {
      "cell_type": "code",
      "source": [
        "def solution(lines):\n",
        "    answer = 0\n",
        "    for i in range(len(lines)):\n",
        "        for j in range(len(lines)):\n",
        "            if i<j:\n",
        "                a, b = lines[i][0], lines[i][1]\n",
        "                x, y = lines[j][0], lines[j][1]\n",
        "                if max(b-x, y-a) < (b-a)+(y-x):\n",
        "                    if (a<=x<y<=b) or (x<=a<b<=y):\n",
        "                        answer += min(b-a, y-x)\n",
        "                    else:\n",
        "                        answer += min(b-x, y-a)\n",
        "    return answer"
      ],
      "metadata": {
        "id": "QWnWPbGY8Gy6"
      },
      "execution_count": null,
      "outputs": []
    },
    {
      "cell_type": "code",
      "source": [
        "solution([[0, 1], [2, 5], [3, 9]])"
      ],
      "metadata": {
        "colab": {
          "base_uri": "https://localhost:8080/"
        },
        "id": "BV4LSfiz3dUd",
        "outputId": "abae3e9a-479b-452a-9d18-71a0d4522cf4"
      },
      "execution_count": null,
      "outputs": [
        {
          "output_type": "execute_result",
          "data": {
            "text/plain": [
              "2"
            ]
          },
          "metadata": {},
          "execution_count": 38
        }
      ]
    },
    {
      "cell_type": "code",
      "source": [
        "solution([[-1, 1], [1, 3], [3, 9]])"
      ],
      "metadata": {
        "colab": {
          "base_uri": "https://localhost:8080/"
        },
        "id": "NQmOvcHM3khZ",
        "outputId": "3a0e6e33-a3ce-4ad7-86e7-41bf3ab25d3f"
      },
      "execution_count": null,
      "outputs": [
        {
          "output_type": "execute_result",
          "data": {
            "text/plain": [
              "0"
            ]
          },
          "metadata": {},
          "execution_count": 39
        }
      ]
    },
    {
      "cell_type": "code",
      "source": [
        "solution([[0, 5], [3, 9], [1, 10]])"
      ],
      "metadata": {
        "colab": {
          "base_uri": "https://localhost:8080/"
        },
        "id": "dDEatXQI3lof",
        "outputId": "52746cad-91c0-4d8b-b374-ed50792a9a2e"
      },
      "execution_count": null,
      "outputs": [
        {
          "output_type": "execute_result",
          "data": {
            "text/plain": [
              "12"
            ]
          },
          "metadata": {},
          "execution_count": 40
        }
      ]
    },
    {
      "cell_type": "markdown",
      "source": [
        "## 3. 조건에 맞게 수열 변환하기 2 (2023.05.11)"
      ],
      "metadata": {
        "id": "FoMHTn-4RaJ-"
      }
    },
    {
      "cell_type": "code",
      "source": [
        "def solution(arr):\n",
        "    answer = 0\n",
        "    while True:\n",
        "        updated = []\n",
        "        for i in arr:\n",
        "            if (i>=50) & (i%2==0): \n",
        "                updated.append(i/2)\n",
        "            elif (i<50) & (i%2!=0):\n",
        "                updated.append(i*2+1)\n",
        "            else:\n",
        "                updated.append(i)\n",
        "        if arr == updated:\n",
        "            break\n",
        "        else: \n",
        "            arr = updated\n",
        "        answer+=1\n",
        "    return answer"
      ],
      "metadata": {
        "id": "NY-9dvvd64lY"
      },
      "execution_count": null,
      "outputs": []
    },
    {
      "cell_type": "code",
      "source": [
        "solution([1, 2, 3, 100, 99, 98])"
      ],
      "metadata": {
        "colab": {
          "base_uri": "https://localhost:8080/"
        },
        "id": "0Sa3M9XiRsVR",
        "outputId": "44b3a12e-0249-4232-bb0f-5f8ed58cf895"
      },
      "execution_count": null,
      "outputs": [
        {
          "output_type": "execute_result",
          "data": {
            "text/plain": [
              "5"
            ]
          },
          "metadata": {},
          "execution_count": 3
        }
      ]
    },
    {
      "cell_type": "markdown",
      "source": [
        "## 4. 배열의 길이를 2의 거듭제곱으로 만들기 (2023.05.25)"
      ],
      "metadata": {
        "id": "FaKB7RXz82gc"
      }
    },
    {
      "cell_type": "code",
      "source": [
        "def solution(arr):\n",
        "    if (len(arr) == 1) or bool(int(bin(len(arr))[3:])) == False:\n",
        "        return arr\n",
        "    else: \n",
        "        length = 2**len(bin(len(arr))[2:])\n",
        "        add = (length - len(arr)) * [0]\n",
        "        arr += add\n",
        "        return arr"
      ],
      "metadata": {
        "id": "ejTG32PqRwkS"
      },
      "execution_count": 1,
      "outputs": []
    },
    {
      "cell_type": "code",
      "source": [
        "solution([1, 2, 3, 4, 5, 6])"
      ],
      "metadata": {
        "colab": {
          "base_uri": "https://localhost:8080/"
        },
        "id": "4yQiVc8d85bK",
        "outputId": "acb24452-a1cc-42ef-9bdf-9fe1e33987e1"
      },
      "execution_count": 2,
      "outputs": [
        {
          "output_type": "execute_result",
          "data": {
            "text/plain": [
              "[1, 2, 3, 4, 5, 6, 0, 0]"
            ]
          },
          "metadata": {},
          "execution_count": 2
        }
      ]
    },
    {
      "cell_type": "code",
      "source": [
        "solution([58, 172, 746, 89])"
      ],
      "metadata": {
        "colab": {
          "base_uri": "https://localhost:8080/"
        },
        "id": "OlUUZadH9FA3",
        "outputId": "8e917190-fe8a-47be-8f6b-06489a1863c8"
      },
      "execution_count": 3,
      "outputs": [
        {
          "output_type": "execute_result",
          "data": {
            "text/plain": [
              "[58, 172, 746, 89]"
            ]
          },
          "metadata": {},
          "execution_count": 3
        }
      ]
    },
    {
      "cell_type": "code",
      "source": [
        "solution([1])"
      ],
      "metadata": {
        "colab": {
          "base_uri": "https://localhost:8080/"
        },
        "id": "MM8-_Obo9HR4",
        "outputId": "140d88ce-c7ec-43ab-9279-09b36f942e7d"
      },
      "execution_count": 4,
      "outputs": [
        {
          "output_type": "execute_result",
          "data": {
            "text/plain": [
              "[1]"
            ]
          },
          "metadata": {},
          "execution_count": 4
        }
      ]
    },
    {
      "cell_type": "code",
      "source": [
        "# 다른 풀이 - 그냥 거듭제곱을 반복문으로!\n",
        "def solution(arr):\n",
        "    a = 1\n",
        "    b = len(arr)\n",
        "    while a < b :\n",
        "        a *= 2\n",
        "    return arr + [0] * (a-b)\n",
        "\n",
        "def solution(arr):\n",
        "    answer = [2**i for i in range(11)]\n",
        "    while len(arr) not in answer:\n",
        "        arr.append(0)\n",
        "    return arr"
      ],
      "metadata": {
        "id": "Wk93nUfC9INu"
      },
      "execution_count": null,
      "outputs": []
    },
    {
      "cell_type": "markdown",
      "source": [
        "## 5. 이차원 배열 대각선 순회하기 (2023.05.25)"
      ],
      "metadata": {
        "id": "umeNPWuPrM5o"
      }
    },
    {
      "cell_type": "code",
      "source": [
        "def solution(board, k):\n",
        "    answer = 0\n",
        "    for i in range(len(board)):\n",
        "        if k+1-i!=0:\n",
        "            answer += sum(board[i][:k+1-i])\n",
        "        else:\n",
        "            break\n",
        "    return answer"
      ],
      "metadata": {
        "id": "_1BRMw7orPMq"
      },
      "execution_count": 5,
      "outputs": []
    },
    {
      "cell_type": "code",
      "source": [
        "solution([[0, 1, 2],[1, 2, 3],[2, 3, 4],[3, 4, 5]],2)"
      ],
      "metadata": {
        "colab": {
          "base_uri": "https://localhost:8080/"
        },
        "id": "RHpt7NzprP9u",
        "outputId": "bb0e5d4d-0e38-40b3-f921-266888f64ed4"
      },
      "execution_count": 6,
      "outputs": [
        {
          "output_type": "execute_result",
          "data": {
            "text/plain": [
              "8"
            ]
          },
          "metadata": {},
          "execution_count": 6
        }
      ]
    },
    {
      "cell_type": "code",
      "source": [
        "solution([[0, 1, 2],[1, 2, 3],[2, 3, 4],[3, 4, 5]],0)"
      ],
      "metadata": {
        "colab": {
          "base_uri": "https://localhost:8080/"
        },
        "id": "KpqGFaI0raBD",
        "outputId": "1a98910d-a903-48d7-f071-09862defe113"
      },
      "execution_count": 7,
      "outputs": [
        {
          "output_type": "execute_result",
          "data": {
            "text/plain": [
              "0"
            ]
          },
          "metadata": {},
          "execution_count": 7
        }
      ]
    },
    {
      "cell_type": "code",
      "source": [
        "# 다른 풀이 - 이중for문 많이들 사용함\n",
        "def solution(board, k):\n",
        "    answer = 0\n",
        "    for i in range(len(board)):\n",
        "        for j in range(len(board[1])):\n",
        "            if i+j <= k:\n",
        "                answer+= board[i][j]\n",
        "    return answer"
      ],
      "metadata": {
        "id": "GYB0hxxZrb6T"
      },
      "execution_count": null,
      "outputs": []
    }
  ]
}