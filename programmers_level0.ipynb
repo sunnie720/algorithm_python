{
  "nbformat": 4,
  "nbformat_minor": 0,
  "metadata": {
    "colab": {
      "provenance": [],
      "authorship_tag": "ABX9TyOkP6bJ9CQbIXiDRYyrVv8j"
    },
    "kernelspec": {
      "name": "python3",
      "display_name": "Python 3"
    },
    "language_info": {
      "name": "python"
    }
  },
  "cells": [
    {
      "cell_type": "markdown",
      "source": [
        "## 1. 치킨 쿠폰"
      ],
      "metadata": {
        "id": "2vIJN_syOWWf"
      }
    },
    {
      "cell_type": "code",
      "execution_count": null,
      "metadata": {
        "id": "kjCATcf4NoCf"
      },
      "outputs": [],
      "source": [
        "def solution(chicken):\n",
        "    free = 0\n",
        "    if chicken >=10:\n",
        "        chicken -= 10\n",
        "        free += 1\n",
        "        free += chicken//9\n",
        "    return free"
      ]
    },
    {
      "cell_type": "code",
      "source": [
        "solution(100)"
      ],
      "metadata": {
        "id": "YGoXT6vSOaq6",
        "outputId": "f54bc142-90fe-4003-92b9-24be59e8659f",
        "colab": {
          "base_uri": "https://localhost:8080/"
        }
      },
      "execution_count": null,
      "outputs": [
        {
          "output_type": "execute_result",
          "data": {
            "text/plain": [
              "11"
            ]
          },
          "metadata": {},
          "execution_count": 2
        }
      ]
    },
    {
      "cell_type": "code",
      "source": [
        "solution(1081)"
      ],
      "metadata": {
        "id": "NvcVp8NjOTyA",
        "outputId": "ea274fd1-7d9d-4f26-946d-ab6e891d4509",
        "colab": {
          "base_uri": "https://localhost:8080/"
        }
      },
      "execution_count": null,
      "outputs": [
        {
          "output_type": "execute_result",
          "data": {
            "text/plain": [
              "120"
            ]
          },
          "metadata": {},
          "execution_count": 3
        }
      ]
    },
    {
      "cell_type": "markdown",
      "source": [
        "##2. 겹치는 선분의 길이\n"
      ],
      "metadata": {
        "id": "MGbWr8R63diQ"
      }
    },
    {
      "cell_type": "code",
      "source": [
        "def solution(lines):\n",
        "    answer = 0\n",
        "    for i in range(len(lines)):\n",
        "        try: \n",
        "            a, b = lines[i][0], lines[i][1]\n",
        "            x, y = lines[i+1][0], lines[i+1][1]\n",
        "            if max(b-x, y-a) < (b-a)+(y-x):\n",
        "                if (a<=x<y<=b) or (x<=a<b<=y):\n",
        "                    answer += min(b-a, y-x)\n",
        "                else:\n",
        "                    answer += min(b-x, y-a)\n",
        "        except:\n",
        "            if max(b-lines[0][0], lines[0][1]-a) < (b-a)+(lines[0][1]-lines[0][0]):\n",
        "                answer += min(b-lines[0][0], lines[0][1]-a)\n",
        "    return answer"
      ],
      "metadata": {
        "id": "ezAAoypnObmW"
      },
      "execution_count": null,
      "outputs": []
    },
    {
      "cell_type": "code",
      "source": [
        "def solution(lines):\n",
        "    answer = 0\n",
        "    for i in range(len(lines)):\n",
        "        for j in range(len(lines)):\n",
        "            if i<j:\n",
        "                a, b = lines[i][0], lines[i][1]\n",
        "                x, y = lines[j][0], lines[j][1]\n",
        "                if max(b-x, y-a) < (b-a)+(y-x):\n",
        "                    if (a<=x<y<=b) or (x<=a<b<=y):\n",
        "                        answer += min(b-a, y-x)\n",
        "                    else:\n",
        "                        answer += min(b-x, y-a)\n",
        "    return answer"
      ],
      "metadata": {
        "id": "QWnWPbGY8Gy6"
      },
      "execution_count": null,
      "outputs": []
    },
    {
      "cell_type": "code",
      "source": [
        "solution([[0, 1], [2, 5], [3, 9]])"
      ],
      "metadata": {
        "colab": {
          "base_uri": "https://localhost:8080/"
        },
        "id": "BV4LSfiz3dUd",
        "outputId": "abae3e9a-479b-452a-9d18-71a0d4522cf4"
      },
      "execution_count": null,
      "outputs": [
        {
          "output_type": "execute_result",
          "data": {
            "text/plain": [
              "2"
            ]
          },
          "metadata": {},
          "execution_count": 38
        }
      ]
    },
    {
      "cell_type": "code",
      "source": [
        "solution([[-1, 1], [1, 3], [3, 9]])"
      ],
      "metadata": {
        "colab": {
          "base_uri": "https://localhost:8080/"
        },
        "id": "NQmOvcHM3khZ",
        "outputId": "3a0e6e33-a3ce-4ad7-86e7-41bf3ab25d3f"
      },
      "execution_count": null,
      "outputs": [
        {
          "output_type": "execute_result",
          "data": {
            "text/plain": [
              "0"
            ]
          },
          "metadata": {},
          "execution_count": 39
        }
      ]
    },
    {
      "cell_type": "code",
      "source": [
        "solution([[0, 5], [3, 9], [1, 10]])"
      ],
      "metadata": {
        "colab": {
          "base_uri": "https://localhost:8080/"
        },
        "id": "dDEatXQI3lof",
        "outputId": "52746cad-91c0-4d8b-b374-ed50792a9a2e"
      },
      "execution_count": null,
      "outputs": [
        {
          "output_type": "execute_result",
          "data": {
            "text/plain": [
              "12"
            ]
          },
          "metadata": {},
          "execution_count": 40
        }
      ]
    },
    {
      "cell_type": "markdown",
      "source": [
        "## 3. 조건에 맞게 수열 변환하기 2 (2023.05.11)"
      ],
      "metadata": {
        "id": "FoMHTn-4RaJ-"
      }
    },
    {
      "cell_type": "code",
      "source": [
        "def solution(arr):\n",
        "    answer = 0\n",
        "    while True:\n",
        "        updated = []\n",
        "        for i in arr:\n",
        "            if (i>=50) & (i%2==0): \n",
        "                updated.append(i/2)\n",
        "            elif (i<50) & (i%2!=0):\n",
        "                updated.append(i*2+1)\n",
        "            else:\n",
        "                updated.append(i)\n",
        "        if arr == updated:\n",
        "            break\n",
        "        else: \n",
        "            arr = updated\n",
        "        answer+=1\n",
        "    return answer"
      ],
      "metadata": {
        "id": "NY-9dvvd64lY"
      },
      "execution_count": 2,
      "outputs": []
    },
    {
      "cell_type": "code",
      "source": [
        "solution([1, 2, 3, 100, 99, 98])"
      ],
      "metadata": {
        "colab": {
          "base_uri": "https://localhost:8080/"
        },
        "id": "0Sa3M9XiRsVR",
        "outputId": "44b3a12e-0249-4232-bb0f-5f8ed58cf895"
      },
      "execution_count": 3,
      "outputs": [
        {
          "output_type": "execute_result",
          "data": {
            "text/plain": [
              "5"
            ]
          },
          "metadata": {},
          "execution_count": 3
        }
      ]
    },
    {
      "cell_type": "code",
      "source": [],
      "metadata": {
        "id": "ejTG32PqRwkS"
      },
      "execution_count": null,
      "outputs": []
    }
  ]
}