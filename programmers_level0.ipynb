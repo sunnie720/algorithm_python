{
  "nbformat": 4,
  "nbformat_minor": 0,
  "metadata": {
    "colab": {
      "provenance": [],
      "authorship_tag": "ABX9TyNkswp9YdNK0o4h2P2iw/pV"
    },
    "kernelspec": {
      "name": "python3",
      "display_name": "Python 3"
    },
    "language_info": {
      "name": "python"
    }
  },
  "cells": [
    {
      "cell_type": "markdown",
      "source": [
        "## 1. 치킨 쿠폰"
      ],
      "metadata": {
        "id": "2vIJN_syOWWf"
      }
    },
    {
      "cell_type": "code",
      "execution_count": 1,
      "metadata": {
        "id": "kjCATcf4NoCf"
      },
      "outputs": [],
      "source": [
        "def solution(chicken):\n",
        "    free = 0\n",
        "    if chicken >=10:\n",
        "        chicken -= 10\n",
        "        free += 1\n",
        "        free += chicken//9\n",
        "    return free"
      ]
    },
    {
      "cell_type": "code",
      "source": [
        "solution(100)"
      ],
      "metadata": {
        "colab": {
          "base_uri": "https://localhost:8080/"
        },
        "id": "YGoXT6vSOaq6",
        "outputId": "f54bc142-90fe-4003-92b9-24be59e8659f"
      },
      "execution_count": 2,
      "outputs": [
        {
          "output_type": "execute_result",
          "data": {
            "text/plain": [
              "11"
            ]
          },
          "metadata": {},
          "execution_count": 2
        }
      ]
    },
    {
      "cell_type": "code",
      "source": [
        "solution(1081)"
      ],
      "metadata": {
        "colab": {
          "base_uri": "https://localhost:8080/"
        },
        "id": "NvcVp8NjOTyA",
        "outputId": "ea274fd1-7d9d-4f26-946d-ab6e891d4509"
      },
      "execution_count": 3,
      "outputs": [
        {
          "output_type": "execute_result",
          "data": {
            "text/plain": [
              "120"
            ]
          },
          "metadata": {},
          "execution_count": 3
        }
      ]
    },
    {
      "cell_type": "code",
      "source": [],
      "metadata": {
        "id": "ezAAoypnObmW"
      },
      "execution_count": null,
      "outputs": []
    }
  ]
}