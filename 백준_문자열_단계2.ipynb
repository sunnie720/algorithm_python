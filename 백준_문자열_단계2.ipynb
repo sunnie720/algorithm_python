{
  "nbformat": 4,
  "nbformat_minor": 0,
  "metadata": {
    "colab": {
      "name": "백준_문자열_단계2.ipynb",
      "provenance": [],
      "authorship_tag": "ABX9TyPDq7xzRZ7F2Xp8Te79mq7I"
    },
    "kernelspec": {
      "name": "python3",
      "display_name": "Python 3"
    },
    "language_info": {
      "name": "python"
    }
  },
  "cells": [
    {
      "cell_type": "markdown",
      "source": [
        "문제8(5622): 다이얼"
      ],
      "metadata": {
        "id": "otdoGNlqwfVZ"
      }
    },
    {
      "cell_type": "code",
      "execution_count": null,
      "metadata": {
        "colab": {
          "base_uri": "https://localhost:8080/"
        },
        "id": "bKZcGGNcwcvr",
        "outputId": "3bcddf73-1099-4088-89aa-6dcbf73df9bd"
      },
      "outputs": [
        {
          "output_type": "stream",
          "name": "stdout",
          "text": [
            "UNUCIC\n",
            "36\n"
          ]
        }
      ],
      "source": [
        "S=input()\n",
        "sum=0\n",
        "for i in range(len(S)):\n",
        "  ascii=ord(S[i])\n",
        "  if ascii<80:\n",
        "    sum+=(ascii+1)//3-19 \n",
        "  elif ascii<84:\n",
        "    sum+=8\n",
        "  elif ascii<87:\n",
        "    sum+=9\n",
        "  else: sum+=10\n",
        "print(sum)"
      ]
    },
    {
      "cell_type": "code",
      "source": [
        "key=['ABC', 'DEF', 'GHI', 'JKL', 'MNO', 'PQRS', 'TUV', 'WXYZ']\n",
        "S=input()\n",
        "sum=0\n",
        "for i in S:\n",
        "  for j in key:\n",
        "    if i in j :\n",
        "      sum+=key.index(j)+3\n",
        "print(sum)"
      ],
      "metadata": {
        "colab": {
          "base_uri": "https://localhost:8080/"
        },
        "id": "yrWK5Lw_zm44",
        "outputId": "45f14b29-53ba-44d8-ef75-aabb72d8abd2"
      },
      "execution_count": null,
      "outputs": [
        {
          "output_type": "stream",
          "name": "stdout",
          "text": [
            "UNUCIC\n",
            "36\n"
          ]
        }
      ]
    },
    {
      "cell_type": "markdown",
      "source": [
        "문제9(2941): 크로아티아 알파벳"
      ],
      "metadata": {
        "id": "VjmyaVsM80m4"
      }
    },
    {
      "cell_type": "code",
      "source": [
        "S=input()\n",
        "compound=0\n",
        "for i in range(len(S)-1,0,-1):\n",
        "  if S[i]=='j' and S[i-1] in ['l','n']: compound+=1\n",
        "  elif S[i]=='-': compound+=1\n",
        "  elif S[i]=='=':\n",
        "    try:\n",
        "      if S[-1]!=False:\n",
        "        if S[i-2]=='d' and S[i-1]=='z': compound+=2\n",
        "        else: compound+=1\n",
        "    except: pass\n",
        "  else: pass\n",
        "print(len(S)-compound)"
      ],
      "metadata": {
        "colab": {
          "base_uri": "https://localhost:8080/"
        },
        "id": "TJcX-i_-HMUY",
        "outputId": "f9673136-1aa4-4d15-c0db-986c81073877"
      },
      "execution_count": null,
      "outputs": [
        {
          "output_type": "stream",
          "name": "stdout",
          "text": [
            "dz=ak\n",
            "3\n"
          ]
        }
      ]
    },
    {
      "cell_type": "code",
      "source": [
        "normal_word = ['c=','c-','dz=','d-','lj','s=','z=','nj']\n",
        "\n",
        "word = input()\n",
        "for i in normal_word:\n",
        "    if i in word:\n",
        "        word = word.replace(i, 'a')\n",
        "\n",
        "print(len(word))"
      ],
      "metadata": {
        "id": "GHCl-d2MfQTy"
      },
      "execution_count": null,
      "outputs": []
    }
  ]
}