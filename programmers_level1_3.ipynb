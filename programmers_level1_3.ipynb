{
  "nbformat": 4,
  "nbformat_minor": 0,
  "metadata": {
    "colab": {
      "provenance": [],
      "authorship_tag": "ABX9TyMUrM1vRBtQD5YLhBdVBtiY"
    },
    "kernelspec": {
      "name": "python3",
      "display_name": "Python 3"
    },
    "language_info": {
      "name": "python"
    }
  },
  "cells": [
    {
      "cell_type": "markdown",
      "source": [
        "## 1. 핸드폰 번호 가리기 (2023.03.26)"
      ],
      "metadata": {
        "id": "daA3QRJjPBRz"
      }
    },
    {
      "cell_type": "code",
      "execution_count": null,
      "metadata": {
        "id": "t_XLn6H-OnDd"
      },
      "outputs": [],
      "source": [
        "def solution(phone_number):\n",
        "    return'*'*(len(phone_number)-4) + phone_number[-4:]"
      ]
    },
    {
      "cell_type": "code",
      "source": [
        "solution(\"01033334444\")"
      ],
      "metadata": {
        "colab": {
          "base_uri": "https://localhost:8080/",
          "height": 36
        },
        "id": "1sdM3hULPrlj",
        "outputId": "152bfb22-b97d-48e9-dcc8-e34e14921743"
      },
      "execution_count": null,
      "outputs": [
        {
          "output_type": "execute_result",
          "data": {
            "text/plain": [
              "'*******4444'"
            ],
            "application/vnd.google.colaboratory.intrinsic+json": {
              "type": "string"
            }
          },
          "metadata": {},
          "execution_count": 2
        }
      ]
    },
    {
      "cell_type": "code",
      "source": [
        "solution(\"027778888\")"
      ],
      "metadata": {
        "colab": {
          "base_uri": "https://localhost:8080/",
          "height": 36
        },
        "id": "XAicyhvQPv7a",
        "outputId": "a7505b18-2e71-4cf7-ee54-cac54f4de4c0"
      },
      "execution_count": null,
      "outputs": [
        {
          "output_type": "execute_result",
          "data": {
            "text/plain": [
              "'*****8888'"
            ],
            "application/vnd.google.colaboratory.intrinsic+json": {
              "type": "string"
            }
          },
          "metadata": {},
          "execution_count": 3
        }
      ]
    },
    {
      "cell_type": "markdown",
      "source": [
        "## 2. 이상한 문자 만들기 (2023.03.26)"
      ],
      "metadata": {
        "id": "S7mmqhqUP6bl"
      }
    },
    {
      "cell_type": "code",
      "source": [
        "def solution(ss):\n",
        "    '''슬라이싱 사용해서 대문자 대체'''\n",
        "    ss = ss.lower()\n",
        "    words = []\n",
        "    for s in ss.split(' '):\n",
        "        word = list(s)\n",
        "        word[::2] = s[::2].upper()\n",
        "        words.append(''.join(word))\n",
        "    return ' '.join(words)"
      ],
      "metadata": {
        "id": "QNaT7DHFPx_x"
      },
      "execution_count": null,
      "outputs": []
    },
    {
      "cell_type": "code",
      "source": [
        "solution(\"try hello world\")"
      ],
      "metadata": {
        "colab": {
          "base_uri": "https://localhost:8080/",
          "height": 36
        },
        "id": "44s4ujDdR4JU",
        "outputId": "7bcff61b-f92c-4e86-fac1-d7789496574e"
      },
      "execution_count": null,
      "outputs": [
        {
          "output_type": "execute_result",
          "data": {
            "text/plain": [
              "'TrY HeLlO WoRlD'"
            ],
            "application/vnd.google.colaboratory.intrinsic+json": {
              "type": "string"
            }
          },
          "metadata": {},
          "execution_count": 22
        }
      ]
    },
    {
      "cell_type": "code",
      "source": [
        "# 다른 사람 풀이\n",
        "def toWeirdCase(s):\n",
        "    '''2로 나눴을 때 나머지 확인하는 방법으로 짝수 인덱스 대문자 대체\n",
        "    map 사용하는 방법 확인하기!'''\n",
        "    return \" \".join(map(lambda x: \"\".join([a.lower() if i % 2 else a.upper() for i, a in enumerate(x)]), s.split(\" \")))"
      ],
      "metadata": {
        "id": "zOLXVLspU5G0"
      },
      "execution_count": null,
      "outputs": []
    },
    {
      "cell_type": "code",
      "source": [
        "s = \"try hello world\"\n",
        "print(list(map(lambda x: ([a.lower() if i % 2 else a.upper() for i, a in enumerate(x)]), s.split(\" \"))))\n",
        "print(list(map(lambda x: \"\".join([a.lower() if i % 2 else a.upper() for i, a in enumerate(x)]), s.split(\" \"))))\n",
        "print(\" \".join(map(lambda x: \"\".join([a.lower() if i % 2 else a.upper() for i, a in enumerate(x)]), s.split(\" \"))))"
      ],
      "metadata": {
        "colab": {
          "base_uri": "https://localhost:8080/"
        },
        "id": "y8n364NlTNMy",
        "outputId": "439fbb9f-d9bd-4ccb-9596-15bf14794df5"
      },
      "execution_count": null,
      "outputs": [
        {
          "output_type": "stream",
          "name": "stdout",
          "text": [
            "[['T', 'r', 'Y'], ['H', 'e', 'L', 'l', 'O'], ['W', 'o', 'R', 'l', 'D']]\n",
            "['TrY', 'HeLlO', 'WoRlD']\n",
            "TrY HeLlO WoRlD\n"
          ]
        }
      ]
    },
    {
      "cell_type": "markdown",
      "source": [
        "## 3. [1차] 비밀지도 (2018 KAKAO BLIND RECRUITMENT) (2023.03.27)"
      ],
      "metadata": {
        "id": "e2WHSq8UYiII"
      }
    },
    {
      "cell_type": "code",
      "source": [
        "def solution(n, arr1, arr2):\n",
        "    result = []\n",
        "    bin1 = [b[2:] if len(b)==n+2 else (n-len(b)+2)*'0'+b[2:] for b in list(map(bin, arr1))]\n",
        "    bin2 = [b[2:] if len(b)==n+2 else (n-len(b)+2)*'0'+b[2:] for b in list(map(bin, arr2))]\n",
        "    for b1,b2 in zip(bin1, bin2):\n",
        "        answer = []\n",
        "        for i in range(n):\n",
        "            if b1[i] == '1':\n",
        "                answer.append('#')\n",
        "            else:\n",
        "                if b2[i] == '0':\n",
        "                    answer.append(' ')\n",
        "                else:\n",
        "                    answer.append('#')\n",
        "        result.append(''.join(answer))\n",
        "    return result"
      ],
      "metadata": {
        "id": "fjt-fPPfwy-Q"
      },
      "execution_count": null,
      "outputs": []
    },
    {
      "cell_type": "code",
      "source": [
        "solution(5, [9, 20, 28, 18, 11], \t[30, 1, 21, 17, 28])"
      ],
      "metadata": {
        "colab": {
          "base_uri": "https://localhost:8080/"
        },
        "id": "vviw9qrZ8zNK",
        "outputId": "a62a3a33-cbd5-4b6c-a8c2-a622073789f9"
      },
      "execution_count": null,
      "outputs": [
        {
          "output_type": "execute_result",
          "data": {
            "text/plain": [
              "['#####', '# # #', '### #', '#  ##', '#####']"
            ]
          },
          "metadata": {},
          "execution_count": 51
        }
      ]
    },
    {
      "cell_type": "code",
      "source": [
        "# 다른 풀이\n",
        "def solution(n, arr1, arr2):\n",
        "    answer = []\n",
        "    for i,j in zip(arr1,arr2):\n",
        "        a12 = str(bin(i|j)[2:])\n",
        "        a12=a12.rjust(n,'0')\n",
        "        a12=a12.replace('1','#')\n",
        "        a12=a12.replace('0',' ')\n",
        "        answer.append(a12)\n",
        "    return answer"
      ],
      "metadata": {
        "id": "TJzDlMaGAgU4"
      },
      "execution_count": null,
      "outputs": []
    },
    {
      "cell_type": "code",
      "source": [
        "# ⭐️문자열 정리 함수들!! \n",
        "## rjust(len, 공백 채울 문자) : 오른쪽 정렬 with 원하는 문자\n",
        "val = \"77\".rjust(5, \"a\")\n",
        "print(val)\n",
        "\n",
        "## ljust(len, 공백 채울 문자) : 왼쪽 정렬 with 원하는 문자\n",
        "val = \"77\".ljust(5, \"a\")\n",
        "print(val)\n",
        "\n",
        "## zfill(len) : 왼쪽 정렬 with 0\n",
        "val = \"77\".zfill(5)\n",
        "print(val)"
      ],
      "metadata": {
        "colab": {
          "base_uri": "https://localhost:8080/"
        },
        "id": "Dd-0s2A1XLWr",
        "outputId": "acfae822-de3e-48a7-9e2e-1e8a96836e7e"
      },
      "execution_count": null,
      "outputs": [
        {
          "output_type": "stream",
          "name": "stdout",
          "text": [
            "aaa77\n",
            "77aaa\n",
            "00077\n"
          ]
        }
      ]
    },
    {
      "cell_type": "code",
      "source": [
        "# ⭐️비트연산자\n",
        "## AND(&) :  대응되는 두 비트가 모두 1일 때만 1을 반환하며, 다른 경우는 모두 0을 반환\n",
        "## OR(|) :  대응되는 두 비트 중 하나라도 1이면 1을 반환하며, 두 비트가 모두 0일 때만 0을 \n",
        "## XOR(^) : 대응되는 두 비트가 서로 다르면 1을 반환하고, 서로 같으면 0을 반환\n",
        "## NOT(~) : 하나의 비트에 대해서 해당 비트가 1이면 0을 반환하고, 0이면 1을 반환\n",
        "\n",
        "print('9  이진수:', bin(20))\n",
        "print('30 이진수:', bin(1))\n",
        "print('-'*20)\n",
        "print('OR 연산 이진수:', bin(20|1))"
      ],
      "metadata": {
        "colab": {
          "base_uri": "https://localhost:8080/"
        },
        "id": "ykJe4Fr5X50b",
        "outputId": "0f9f4756-61e2-4735-cd3b-0525c978eaae"
      },
      "execution_count": null,
      "outputs": [
        {
          "output_type": "stream",
          "name": "stdout",
          "text": [
            "9  이진수: 0b10100\n",
            "30 이진수: 0b1\n",
            "--------------------\n",
            "OR 연산 이진수: 0b10101\n"
          ]
        }
      ]
    },
    {
      "cell_type": "markdown",
      "source": [
        "## 4. 정수 제곱근 판별 (2023.04.06)"
      ],
      "metadata": {
        "id": "cjVvJslBdmN3"
      }
    },
    {
      "cell_type": "code",
      "source": [
        "def solution(n):\n",
        "    sqrt = n**(1/2)\n",
        "    if sqrt %1 == 0: # 제곱근이 정수이면\n",
        "        answer = (sqrt+1)**2\n",
        "    else: answer = -1\n",
        "    return answer"
      ],
      "metadata": {
        "id": "1nsGcnuMZH74"
      },
      "execution_count": 7,
      "outputs": []
    },
    {
      "cell_type": "code",
      "source": [
        "solution(121)"
      ],
      "metadata": {
        "colab": {
          "base_uri": "https://localhost:8080/"
        },
        "id": "QvFFRnyYwd_A",
        "outputId": "6357f825-bdae-49cd-8dc0-ae7c3cd1a8c7"
      },
      "execution_count": 8,
      "outputs": [
        {
          "output_type": "execute_result",
          "data": {
            "text/plain": [
              "144.0"
            ]
          },
          "metadata": {},
          "execution_count": 8
        }
      ]
    },
    {
      "cell_type": "code",
      "source": [
        "solution(3)"
      ],
      "metadata": {
        "colab": {
          "base_uri": "https://localhost:8080/"
        },
        "id": "vcMbt0Ydwhem",
        "outputId": "9a95fbc3-14c1-49e9-a872-f41d8a6df111"
      },
      "execution_count": 9,
      "outputs": [
        {
          "output_type": "execute_result",
          "data": {
            "text/plain": [
              "-1"
            ]
          },
          "metadata": {},
          "execution_count": 9
        }
      ]
    },
    {
      "cell_type": "markdown",
      "source": [
        "## 5. 자연수 뒤집어 배열로 만들기 (2023.04.06)"
      ],
      "metadata": {
        "id": "BufqMA1Zw9Gv"
      }
    },
    {
      "cell_type": "code",
      "source": [
        "def solution(n):\n",
        "    return list(map(int, str(n)))[::-1]"
      ],
      "metadata": {
        "id": "z7hmEwMFwiMJ"
      },
      "execution_count": 30,
      "outputs": []
    },
    {
      "cell_type": "code",
      "source": [
        "solution(12345)"
      ],
      "metadata": {
        "colab": {
          "base_uri": "https://localhost:8080/"
        },
        "id": "QVlLpGkYxFp2",
        "outputId": "cd23d64e-03c1-4977-a4fd-ca0903b96cc7"
      },
      "execution_count": 31,
      "outputs": [
        {
          "output_type": "execute_result",
          "data": {
            "text/plain": [
              "[5, 4, 3, 2, 1]"
            ]
          },
          "metadata": {},
          "execution_count": 31
        }
      ]
    },
    {
      "cell_type": "code",
      "source": [
        "# 다른 풀이\n",
        "## [::-1] 대신에 reversed() 사용할 수 있음!!\n",
        "def digit_reverse(n):\n",
        "    return list(map(int, reversed(str(n))))"
      ],
      "metadata": {
        "id": "JfGzGlLdx3Tp"
      },
      "execution_count": 35,
      "outputs": []
    },
    {
      "cell_type": "code",
      "source": [
        "digit_reverse(12345)"
      ],
      "metadata": {
        "colab": {
          "base_uri": "https://localhost:8080/"
        },
        "id": "D78k9u33zbjz",
        "outputId": "e57ce7c3-e095-4c31-89e6-7d6f51fafe26"
      },
      "execution_count": 36,
      "outputs": [
        {
          "output_type": "execute_result",
          "data": {
            "text/plain": [
              "[5, 4, 3, 2, 1]"
            ]
          },
          "metadata": {},
          "execution_count": 36
        }
      ]
    },
    {
      "cell_type": "markdown",
      "source": [
        "## 6. 정수 내림차순으로 배치하기 (2023.04.06)"
      ],
      "metadata": {
        "id": "T--_2c63znn2"
      }
    },
    {
      "cell_type": "code",
      "source": [
        "def solution(n):\n",
        "    return int(''.join(sorted(list(str(n)), reverse=True)))"
      ],
      "metadata": {
        "id": "isg2edp9zcnJ"
      },
      "execution_count": 44,
      "outputs": []
    },
    {
      "cell_type": "code",
      "source": [
        "solution(118372)"
      ],
      "metadata": {
        "colab": {
          "base_uri": "https://localhost:8080/"
        },
        "id": "Vo0J_Habzzx1",
        "outputId": "bb1752b1-42de-4ecf-ace7-d1f665a318d5"
      },
      "execution_count": 45,
      "outputs": [
        {
          "output_type": "execute_result",
          "data": {
            "text/plain": [
              "873211"
            ]
          },
          "metadata": {},
          "execution_count": 45
        }
      ]
    },
    {
      "cell_type": "code",
      "source": [],
      "metadata": {
        "id": "bb6x_9fk0GD7"
      },
      "execution_count": null,
      "outputs": []
    }
  ]
}