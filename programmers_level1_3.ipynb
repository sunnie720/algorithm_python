{
  "nbformat": 4,
  "nbformat_minor": 0,
  "metadata": {
    "colab": {
      "provenance": [],
      "authorship_tag": "ABX9TyOOH6BtwLOrbDrmWgxWzw+u"
    },
    "kernelspec": {
      "name": "python3",
      "display_name": "Python 3"
    },
    "language_info": {
      "name": "python"
    }
  },
  "cells": [
    {
      "cell_type": "markdown",
      "source": [
        "## 1. 핸드폰 번호 가리기 (2023.03.26)"
      ],
      "metadata": {
        "id": "daA3QRJjPBRz"
      }
    },
    {
      "cell_type": "code",
      "execution_count": 1,
      "metadata": {
        "id": "t_XLn6H-OnDd"
      },
      "outputs": [],
      "source": [
        "def solution(phone_number):\n",
        "    return'*'*(len(phone_number)-4) + phone_number[-4:]"
      ]
    },
    {
      "cell_type": "code",
      "source": [
        "solution(\"01033334444\")"
      ],
      "metadata": {
        "colab": {
          "base_uri": "https://localhost:8080/",
          "height": 36
        },
        "id": "1sdM3hULPrlj",
        "outputId": "152bfb22-b97d-48e9-dcc8-e34e14921743"
      },
      "execution_count": 2,
      "outputs": [
        {
          "output_type": "execute_result",
          "data": {
            "text/plain": [
              "'*******4444'"
            ],
            "application/vnd.google.colaboratory.intrinsic+json": {
              "type": "string"
            }
          },
          "metadata": {},
          "execution_count": 2
        }
      ]
    },
    {
      "cell_type": "code",
      "source": [
        "solution(\"027778888\")"
      ],
      "metadata": {
        "colab": {
          "base_uri": "https://localhost:8080/",
          "height": 36
        },
        "id": "XAicyhvQPv7a",
        "outputId": "a7505b18-2e71-4cf7-ee54-cac54f4de4c0"
      },
      "execution_count": 3,
      "outputs": [
        {
          "output_type": "execute_result",
          "data": {
            "text/plain": [
              "'*****8888'"
            ],
            "application/vnd.google.colaboratory.intrinsic+json": {
              "type": "string"
            }
          },
          "metadata": {},
          "execution_count": 3
        }
      ]
    },
    {
      "cell_type": "markdown",
      "source": [
        "## 2. 이상한 문자 만들기 (2023.03.26)"
      ],
      "metadata": {
        "id": "S7mmqhqUP6bl"
      }
    },
    {
      "cell_type": "code",
      "source": [
        "def solution(ss):\n",
        "    '''슬라이싱 사용해서 대문자 대체'''\n",
        "    ss = ss.lower()\n",
        "    words = []\n",
        "    for s in ss.split(' '):\n",
        "        word = list(s)\n",
        "        word[::2] = s[::2].upper()\n",
        "        words.append(''.join(word))\n",
        "    return ' '.join(words)"
      ],
      "metadata": {
        "id": "QNaT7DHFPx_x"
      },
      "execution_count": 21,
      "outputs": []
    },
    {
      "cell_type": "code",
      "source": [
        "solution(\"try hello world\")"
      ],
      "metadata": {
        "colab": {
          "base_uri": "https://localhost:8080/",
          "height": 36
        },
        "id": "44s4ujDdR4JU",
        "outputId": "7bcff61b-f92c-4e86-fac1-d7789496574e"
      },
      "execution_count": 22,
      "outputs": [
        {
          "output_type": "execute_result",
          "data": {
            "text/plain": [
              "'TrY HeLlO WoRlD'"
            ],
            "application/vnd.google.colaboratory.intrinsic+json": {
              "type": "string"
            }
          },
          "metadata": {},
          "execution_count": 22
        }
      ]
    },
    {
      "cell_type": "code",
      "source": [
        "# 다른 사람 풀이\n",
        "def toWeirdCase(s):\n",
        "    '''2로 나눴을 때 나머지 확인하는 방법으로 짝수 인덱스 대문자 대체\n",
        "    map 사용하는 방법 확인하기!'''\n",
        "    return \" \".join(map(lambda x: \"\".join([a.lower() if i % 2 else a.upper() for i, a in enumerate(x)]), s.split(\" \")))"
      ],
      "metadata": {
        "id": "zOLXVLspU5G0"
      },
      "execution_count": null,
      "outputs": []
    },
    {
      "cell_type": "code",
      "source": [
        "s = \"try hello world\"\n",
        "print(list(map(lambda x: ([a.lower() if i % 2 else a.upper() for i, a in enumerate(x)]), s.split(\" \"))))\n",
        "print(list(map(lambda x: \"\".join([a.lower() if i % 2 else a.upper() for i, a in enumerate(x)]), s.split(\" \"))))\n",
        "print(\" \".join(map(lambda x: \"\".join([a.lower() if i % 2 else a.upper() for i, a in enumerate(x)]), s.split(\" \"))))"
      ],
      "metadata": {
        "colab": {
          "base_uri": "https://localhost:8080/"
        },
        "id": "y8n364NlTNMy",
        "outputId": "439fbb9f-d9bd-4ccb-9596-15bf14794df5"
      },
      "execution_count": 27,
      "outputs": [
        {
          "output_type": "stream",
          "name": "stdout",
          "text": [
            "[['T', 'r', 'Y'], ['H', 'e', 'L', 'l', 'O'], ['W', 'o', 'R', 'l', 'D']]\n",
            "['TrY', 'HeLlO', 'WoRlD']\n",
            "TrY HeLlO WoRlD\n"
          ]
        }
      ]
    },
    {
      "cell_type": "code",
      "source": [],
      "metadata": {
        "id": "fMu1veeNWv52"
      },
      "execution_count": null,
      "outputs": []
    }
  ]
}