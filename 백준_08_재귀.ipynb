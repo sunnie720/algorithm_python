{
  "nbformat": 4,
  "nbformat_minor": 0,
  "metadata": {
    "colab": {
      "name": "백준_08_재귀.ipynb",
      "provenance": [],
      "authorship_tag": "ABX9TyM/K1TarZOtuLyETen6oGye"
    },
    "kernelspec": {
      "name": "python3",
      "display_name": "Python 3"
    },
    "language_info": {
      "name": "python"
    }
  },
  "cells": [
    {
      "cell_type": "markdown",
      "source": [
        "# 문제1(10872): 팩토리얼\n",
        "## 문제\n",
        "0보다 크거나 같은 정수 N이 주어진다. 이때, N!을 출력하는 프로그램을 작성하시오.\n",
        "## 입력\n",
        "첫째 줄에 정수 N(0 ≤ N ≤ 12)이 주어진다.\n",
        "## 출력\n",
        "첫째 줄에 N!을 출력한다. "
      ],
      "metadata": {
        "id": "_TbScw6fHyn5"
      }
    },
    {
      "cell_type": "code",
      "source": [
        "def factorial(n):\n",
        "  if n==0:\n",
        "    return 1\n",
        "  else:\n",
        "    return n*factorial(n-1)\n",
        "\n",
        "n=int(input())\n",
        "factorial(n)"
      ],
      "metadata": {
        "colab": {
          "base_uri": "https://localhost:8080/"
        },
        "id": "hnfdO6RGH_p4",
        "outputId": "fd5f5828-ec61-4f63-8fe0-039ebf759f4f"
      },
      "execution_count": null,
      "outputs": [
        {
          "name": "stdout",
          "output_type": "stream",
          "text": [
            "10\n"
          ]
        },
        {
          "output_type": "execute_result",
          "data": {
            "text/plain": [
              "3628800"
            ]
          },
          "metadata": {},
          "execution_count": 7
        }
      ]
    },
    {
      "cell_type": "markdown",
      "source": [
        "# 문제2(10870): 피보나치 수 5\n",
        "## 문제\n",
        "피보나치 수는 0과 1로 시작한다. 0번째 피보나치 수는 0이고, 1번째 피보나치 수는 1이다. 그 다음 2번째 부터는 바로 앞 두 피보나치 수의 합이 된다.\n",
        "\n",
        "이를 식으로 써보면 Fn = Fn-1 + Fn-2 (n ≥ 2)가 된다.\n",
        "\n",
        "n=17일때 까지 피보나치 수를 써보면 다음과 같다.\n",
        "\n",
        "0, 1, 1, 2, 3, 5, 8, 13, 21, 34, 55, 89, 144, 233, 377, 610, 987, 1597\n",
        "\n",
        "n이 주어졌을 때, n번째 피보나치 수를 구하는 프로그램을 작성하시오.\n",
        "## 입력\n",
        "첫째 줄에 n이 주어진다. n은 20보다 작거나 같은 자연수 또는 0이다.\n",
        "## 출력\n",
        "첫째 줄에 n번째 피보나치 수를 출력한다."
      ],
      "metadata": {
        "id": "u2swHIpCZn-B"
      }
    },
    {
      "cell_type": "code",
      "execution_count": 2,
      "metadata": {
        "id": "mCf9lg2_Hpsh",
        "colab": {
          "base_uri": "https://localhost:8080/"
        },
        "outputId": "b91dc60d-34c2-464d-ad1c-03137bdffe4f"
      },
      "outputs": [
        {
          "output_type": "stream",
          "name": "stdout",
          "text": [
            "17\n",
            "1597\n"
          ]
        }
      ],
      "source": [
        "def fibonacci(n):\n",
        "  if n==0:\n",
        "    result=0\n",
        "  elif n==1:\n",
        "    result=1\n",
        "  else:\n",
        "    result=fibonacci(n-1)+fibonacci(n-2)\n",
        "  return result\n",
        "\n",
        "n=int(input())\n",
        "print(fibonacci(n))"
      ]
    },
    {
      "cell_type": "code",
      "source": [
        ""
      ],
      "metadata": {
        "id": "ry4hzAxOqmMv"
      },
      "execution_count": null,
      "outputs": []
    }
  ]
}