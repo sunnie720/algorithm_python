{
  "nbformat": 4,
  "nbformat_minor": 0,
  "metadata": {
    "colab": {
      "name": "백준_08_재귀.ipynb",
      "provenance": [],
      "authorship_tag": "ABX9TyPwDg5aG+QinWQyOvm/w4Yp"
    },
    "kernelspec": {
      "name": "python3",
      "display_name": "Python 3"
    },
    "language_info": {
      "name": "python"
    }
  },
  "cells": [
    {
      "cell_type": "markdown",
      "source": [
        "# 문제1(10872): 팩토리얼\n",
        "## 문제\n",
        "0보다 크거나 같은 정수 N이 주어진다. 이때, N!을 출력하는 프로그램을 작성하시오.\n",
        "## 입력\n",
        "첫째 줄에 정수 N(0 ≤ N ≤ 12)이 주어진다.\n",
        "## 출력\n",
        "첫째 줄에 N!을 출력한다. "
      ],
      "metadata": {
        "id": "_TbScw6fHyn5"
      }
    },
    {
      "cell_type": "code",
      "source": [
        "def factorial(n):\n",
        "  if n==0:\n",
        "    return 1\n",
        "  else:\n",
        "    return n*factorial(n-1)\n",
        "\n",
        "n=int(input())\n",
        "factorial(n)"
      ],
      "metadata": {
        "colab": {
          "base_uri": "https://localhost:8080/"
        },
        "id": "hnfdO6RGH_p4",
        "outputId": "fd5f5828-ec61-4f63-8fe0-039ebf759f4f"
      },
      "execution_count": 7,
      "outputs": [
        {
          "name": "stdout",
          "output_type": "stream",
          "text": [
            "10\n"
          ]
        },
        {
          "output_type": "execute_result",
          "data": {
            "text/plain": [
              "3628800"
            ]
          },
          "metadata": {},
          "execution_count": 7
        }
      ]
    },
    {
      "cell_type": "code",
      "execution_count": null,
      "metadata": {
        "id": "mCf9lg2_Hpsh"
      },
      "outputs": [],
      "source": [
        ""
      ]
    }
  ]
}