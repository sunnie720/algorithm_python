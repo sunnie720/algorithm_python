{
  "nbformat": 4,
  "nbformat_minor": 0,
  "metadata": {
    "colab": {
      "provenance": [],
      "authorship_tag": "ABX9TyNmVZtjEZuDcbYl5gSKyOtx"
    },
    "kernelspec": {
      "name": "python3",
      "display_name": "Python 3"
    },
    "language_info": {
      "name": "python"
    }
  },
  "cells": [
    {
      "cell_type": "markdown",
      "source": [
        "## 1. 과일 장수 (2023.03.22)\n"
      ],
      "metadata": {
        "id": "Q5pqntwlCQX9"
      }
    },
    {
      "cell_type": "code",
      "execution_count": 57,
      "metadata": {
        "id": "i-zihRyQCP0u"
      },
      "outputs": [],
      "source": [
        "def solution(k, m, score):\n",
        "    from collections import Counter\n",
        "    c = dict(Counter(sorted(score, reverse=True)))\n",
        "    res = 0\n",
        "    answer = 0\n",
        "    for p in c:\n",
        "        box = (c[p]+res)//m\n",
        "        res = (c[p]+res)%m\n",
        "        answer += p*m*box\n",
        "    return answer"
      ]
    },
    {
      "cell_type": "code",
      "source": [
        "solution(3,4,[1, 2, 3, 1, 2, 3, 1])"
      ],
      "metadata": {
        "colab": {
          "base_uri": "https://localhost:8080/"
        },
        "id": "xodmNuTKC3BD",
        "outputId": "5605bc40-f694-48bd-8455-eef8ef2751f5"
      },
      "execution_count": 68,
      "outputs": [
        {
          "output_type": "execute_result",
          "data": {
            "text/plain": [
              "8"
            ]
          },
          "metadata": {},
          "execution_count": 68
        }
      ]
    },
    {
      "cell_type": "code",
      "source": [
        "solution(4,3,[4, 1, 2, 2, 4, 4, 4, 4, 1, 2, 4, 2])"
      ],
      "metadata": {
        "colab": {
          "base_uri": "https://localhost:8080/"
        },
        "id": "jyQDVQrIC6nx",
        "outputId": "c994bfe8-2edd-4adb-9f35-bb9bcd516f75"
      },
      "execution_count": 69,
      "outputs": [
        {
          "output_type": "execute_result",
          "data": {
            "text/plain": [
              "33"
            ]
          },
          "metadata": {},
          "execution_count": 69
        }
      ]
    },
    {
      "cell_type": "markdown",
      "source": [
        "다른 사람 풀이\n",
        "\n",
        "[1, 2, 3, 1, 2, 3, 1], m=4\n",
        "- 정렬 : [1, 1, 1, / **2**, 2, 3, 3]\n",
        "- 뒤에서부터 m=4 간격으로 끊었을 때 앞에있는 작은 숫자들끼리 합하고 m 곱해줌\n",
        "\n",
        "[4, 1, 2, 2, 4, 4, 4, 4, 1, 2, 4, 2], m=3\n",
        "- 정렬 : [**1**, 1, 2, / **2**, 2, 2, / **4**, 4, 4, / **4**, 4, 4]"
      ],
      "metadata": {
        "id": "euWzni660okw"
      }
    },
    {
      "cell_type": "code",
      "source": [
        "# 다른 사람 풀이\n",
        "def solution(k, m, score):\n",
        "    return sum(sorted(score)[len(score)%m::m])*m"
      ],
      "metadata": {
        "id": "-9lQdFyyu37p"
      },
      "execution_count": 67,
      "outputs": []
    },
    {
      "cell_type": "markdown",
      "source": [
        "## 2. 제일 작은 수 제거하기 (2023.03.22)"
      ],
      "metadata": {
        "id": "1u-CWiez2RYo"
      }
    },
    {
      "cell_type": "code",
      "source": [
        "def solution(arr):\n",
        "    # 이 방법은 테스트 문제 1번에 시간초과 에러\n",
        "    # answer = [i for i in arr if i!=min(arr)]\n",
        "    # if answer==[]:\n",
        "    #     answer.append(-1)\n",
        "    \n",
        "    if len(arr) >1:\n",
        "        arr.pop(arr.index(min(arr)))\n",
        "    else: arr = [-1]\n",
        "    return arr"
      ],
      "metadata": {
        "id": "Z3hzh-3R8t4d"
      },
      "execution_count": 116,
      "outputs": []
    },
    {
      "cell_type": "code",
      "source": [
        "solution([4,3,2,1])"
      ],
      "metadata": {
        "colab": {
          "base_uri": "https://localhost:8080/"
        },
        "id": "LpGl1jFF6v5P",
        "outputId": "d3d2a493-219e-49d4-8f9b-af38e65afe2d"
      },
      "execution_count": 117,
      "outputs": [
        {
          "output_type": "execute_result",
          "data": {
            "text/plain": [
              "[4, 3, 2]"
            ]
          },
          "metadata": {},
          "execution_count": 117
        }
      ]
    },
    {
      "cell_type": "code",
      "source": [
        "solution([10])"
      ],
      "metadata": {
        "colab": {
          "base_uri": "https://localhost:8080/"
        },
        "id": "g1Isz2Ob7ybx",
        "outputId": "ba9c73ed-137d-4a06-b081-6bf6b456dde9"
      },
      "execution_count": 118,
      "outputs": [
        {
          "output_type": "execute_result",
          "data": {
            "text/plain": [
              "[-1]"
            ]
          },
          "metadata": {},
          "execution_count": 118
        }
      ]
    },
    {
      "cell_type": "markdown",
      "source": [
        "## 3. 없는 숫자 더하기[월간 코드 챌린지 시즌3] (2023.03.22)\n",
        "- 다른 사람 풀이 1번이랑 똑같다!!\n",
        "\n"
      ],
      "metadata": {
        "id": "Sk7rYawOAOJF"
      }
    },
    {
      "cell_type": "code",
      "source": [
        "def solution(numbers):\n",
        "    answer = 45 - sum(numbers)\n",
        "    return answer"
      ],
      "metadata": {
        "id": "rKLoEKg0_q5S"
      },
      "execution_count": 121,
      "outputs": []
    },
    {
      "cell_type": "code",
      "source": [
        "solution([1,2,3,4,6,7,8,0])"
      ],
      "metadata": {
        "colab": {
          "base_uri": "https://localhost:8080/"
        },
        "id": "rPbHZ40EBlJB",
        "outputId": "32c5f660-afb4-4dcc-9b7b-cbefc24bdadb"
      },
      "execution_count": 122,
      "outputs": [
        {
          "output_type": "execute_result",
          "data": {
            "text/plain": [
              "14"
            ]
          },
          "metadata": {},
          "execution_count": 122
        }
      ]
    },
    {
      "cell_type": "code",
      "source": [
        "solution([5,8,4,0,6,7,9])"
      ],
      "metadata": {
        "colab": {
          "base_uri": "https://localhost:8080/"
        },
        "id": "-WC2kS0NBsA_",
        "outputId": "880200ce-9492-47f4-8deb-0f6e78c131cd"
      },
      "execution_count": 123,
      "outputs": [
        {
          "output_type": "execute_result",
          "data": {
            "text/plain": [
              "6"
            ]
          },
          "metadata": {},
          "execution_count": 123
        }
      ]
    },
    {
      "cell_type": "code",
      "source": [],
      "metadata": {
        "id": "VYLWnmHZBwHA"
      },
      "execution_count": null,
      "outputs": []
    }
  ]
}