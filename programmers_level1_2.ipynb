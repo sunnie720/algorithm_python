{
  "nbformat": 4,
  "nbformat_minor": 0,
  "metadata": {
    "colab": {
      "provenance": [],
      "authorship_tag": "ABX9TyN8TQxbIbCF3pfpopz/ea7l"
    },
    "kernelspec": {
      "name": "python3",
      "display_name": "Python 3"
    },
    "language_info": {
      "name": "python"
    }
  },
  "cells": [
    {
      "cell_type": "markdown",
      "source": [
        "## 1. 과일 장수 (2023.03.22)\n"
      ],
      "metadata": {
        "id": "Q5pqntwlCQX9"
      }
    },
    {
      "cell_type": "code",
      "execution_count": null,
      "metadata": {
        "id": "i-zihRyQCP0u"
      },
      "outputs": [],
      "source": [
        "def solution(k, m, score):\n",
        "    from collections import Counter\n",
        "    c = dict(Counter(sorted(score, reverse=True)))\n",
        "    res = 0\n",
        "    answer = 0\n",
        "    for p in c:\n",
        "        box = (c[p]+res)//m\n",
        "        res = (c[p]+res)%m\n",
        "        answer += p*m*box\n",
        "    return answer"
      ]
    },
    {
      "cell_type": "code",
      "source": [
        "solution(3,4,[1, 2, 3, 1, 2, 3, 1])"
      ],
      "metadata": {
        "colab": {
          "base_uri": "https://localhost:8080/"
        },
        "id": "xodmNuTKC3BD",
        "outputId": "5605bc40-f694-48bd-8455-eef8ef2751f5"
      },
      "execution_count": null,
      "outputs": [
        {
          "output_type": "execute_result",
          "data": {
            "text/plain": [
              "8"
            ]
          },
          "metadata": {},
          "execution_count": 68
        }
      ]
    },
    {
      "cell_type": "code",
      "source": [
        "solution(4,3,[4, 1, 2, 2, 4, 4, 4, 4, 1, 2, 4, 2])"
      ],
      "metadata": {
        "colab": {
          "base_uri": "https://localhost:8080/"
        },
        "id": "jyQDVQrIC6nx",
        "outputId": "c994bfe8-2edd-4adb-9f35-bb9bcd516f75"
      },
      "execution_count": null,
      "outputs": [
        {
          "output_type": "execute_result",
          "data": {
            "text/plain": [
              "33"
            ]
          },
          "metadata": {},
          "execution_count": 69
        }
      ]
    },
    {
      "cell_type": "markdown",
      "source": [
        "⭐️ 다른 사람 풀이\n",
        "\n",
        "[1, 2, 3, 1, 2, 3, 1], m=4\n",
        "- 정렬 : [1, 1, 1, / **2**, 2, 3, 3]\n",
        "- 뒤에서부터 m=4 간격으로 끊었을 때 앞에있는 작은 숫자들끼리 합하고 m 곱해줌\n",
        "\n",
        "[4, 1, 2, 2, 4, 4, 4, 4, 1, 2, 4, 2], m=3\n",
        "- 정렬 : [**1**, 1, 2, / **2**, 2, 2, / **4**, 4, 4, / **4**, 4, 4]"
      ],
      "metadata": {
        "id": "euWzni660okw"
      }
    },
    {
      "cell_type": "code",
      "source": [
        "# 다른 사람 풀이\n",
        "def solution(k, m, score):\n",
        "    return sum(sorted(score)[len(score)%m::m])*m"
      ],
      "metadata": {
        "id": "-9lQdFyyu37p"
      },
      "execution_count": null,
      "outputs": []
    },
    {
      "cell_type": "markdown",
      "source": [
        "## 2. 제일 작은 수 제거하기 (2023.03.22)"
      ],
      "metadata": {
        "id": "1u-CWiez2RYo"
      }
    },
    {
      "cell_type": "code",
      "source": [
        "def solution(arr):\n",
        "    # 이 방법은 테스트 문제 1번에 시간초과 에러\n",
        "    # answer = [i for i in arr if i!=min(arr)]\n",
        "    # if answer==[]:\n",
        "    #     answer.append(-1)\n",
        "    \n",
        "    # 이 방법은 성공\n",
        "    if len(arr) >1:\n",
        "        arr.pop(arr.index(min(arr)))\n",
        "    else: arr = [-1]\n",
        "    return arr"
      ],
      "metadata": {
        "id": "Z3hzh-3R8t4d"
      },
      "execution_count": null,
      "outputs": []
    },
    {
      "cell_type": "code",
      "source": [
        "solution([4,3,2,1])"
      ],
      "metadata": {
        "colab": {
          "base_uri": "https://localhost:8080/"
        },
        "id": "LpGl1jFF6v5P",
        "outputId": "d3d2a493-219e-49d4-8f9b-af38e65afe2d"
      },
      "execution_count": null,
      "outputs": [
        {
          "output_type": "execute_result",
          "data": {
            "text/plain": [
              "[4, 3, 2]"
            ]
          },
          "metadata": {},
          "execution_count": 117
        }
      ]
    },
    {
      "cell_type": "code",
      "source": [
        "solution([10])"
      ],
      "metadata": {
        "colab": {
          "base_uri": "https://localhost:8080/"
        },
        "id": "g1Isz2Ob7ybx",
        "outputId": "ba9c73ed-137d-4a06-b081-6bf6b456dde9"
      },
      "execution_count": null,
      "outputs": [
        {
          "output_type": "execute_result",
          "data": {
            "text/plain": [
              "[-1]"
            ]
          },
          "metadata": {},
          "execution_count": 118
        }
      ]
    },
    {
      "cell_type": "markdown",
      "source": [
        "## 3. 없는 숫자 더하기[월간 코드 챌린지 시즌3] (2023.03.22)\n",
        "\n"
      ],
      "metadata": {
        "id": "Sk7rYawOAOJF"
      }
    },
    {
      "cell_type": "code",
      "source": [
        "def solution(numbers):\n",
        "    # 처음으로 다른 사람 풀이 1번이랑 똑같다!!\n",
        "    answer = 45 - sum(numbers)\n",
        "    return answer"
      ],
      "metadata": {
        "id": "rKLoEKg0_q5S"
      },
      "execution_count": null,
      "outputs": []
    },
    {
      "cell_type": "code",
      "source": [
        "solution([1,2,3,4,6,7,8,0])"
      ],
      "metadata": {
        "colab": {
          "base_uri": "https://localhost:8080/"
        },
        "id": "rPbHZ40EBlJB",
        "outputId": "32c5f660-afb4-4dcc-9b7b-cbefc24bdadb"
      },
      "execution_count": null,
      "outputs": [
        {
          "output_type": "execute_result",
          "data": {
            "text/plain": [
              "14"
            ]
          },
          "metadata": {},
          "execution_count": 122
        }
      ]
    },
    {
      "cell_type": "code",
      "source": [
        "solution([5,8,4,0,6,7,9])"
      ],
      "metadata": {
        "colab": {
          "base_uri": "https://localhost:8080/"
        },
        "id": "-WC2kS0NBsA_",
        "outputId": "880200ce-9492-47f4-8deb-0f6e78c131cd"
      },
      "execution_count": null,
      "outputs": [
        {
          "output_type": "execute_result",
          "data": {
            "text/plain": [
              "6"
            ]
          },
          "metadata": {},
          "execution_count": 123
        }
      ]
    },
    {
      "cell_type": "markdown",
      "source": [
        "## 4. 기사단원의 무기 (2023.03.23)"
      ],
      "metadata": {
        "id": "tX0w9VywCbXu"
      }
    },
    {
      "cell_type": "code",
      "source": [
        "def solution(number, limit, power):\n",
        "    real_power = []\n",
        "    answer = 0\n",
        "    for n in range(1,number+1):\n",
        "        cnt = 0\n",
        "        for i in range(1, int(n**(1/2))+1):\n",
        "            if (n%i==0):\n",
        "                cnt+=1\n",
        "                if (i**2)!=n: \n",
        "                    cnt+=1\n",
        "        real_power.append(cnt)\n",
        "\n",
        "    from collections import Counter\n",
        "    c = dict(Counter(real_power))\n",
        "    # 이렇게 하면 '런타임 에러'가 남ㅠㅠ  (c[p] = 0 처럼 하는게 인덱스 접근해서 에러날지도..?)\n",
        "    # for p in c:\n",
        "    #     if p > limit:\n",
        "    #         c[power] += c[p]\n",
        "    #         c[p] = 0\n",
        "    # answer = sum([p*v for p,v in c.items()]) \n",
        "    # 바꿔서 이렇게 풀어서 성공!!\n",
        "    for p in c:\n",
        "        if p > limit:\n",
        "            answer += c[p] * power\n",
        "        else:\n",
        "            answer += p * c[p]\n",
        "    return answer"
      ],
      "metadata": {
        "id": "FqLYJ0eCOpyD"
      },
      "execution_count": null,
      "outputs": []
    },
    {
      "cell_type": "code",
      "source": [
        "# 딕셔너리 사용하지 않고 리스트에서 바로 풀 수도 있음!!! (변수 적은게 좋으니 기존 변수 활용해서 풀도록 하자)\n",
        "def solution1(number, limit, power):\n",
        "    real_power = []\n",
        "    for n in range(1,number+1):\n",
        "        cnt = 0\n",
        "        for i in range(1, int(n**(1/2))+1):\n",
        "            if (n%i==0):\n",
        "                cnt+=1\n",
        "                if (i**2)!=n: \n",
        "                    cnt+=1\n",
        "        real_power.append(cnt)\n",
        "    return sum([power if p > limit else p for p in real_power])"
      ],
      "metadata": {
        "id": "UtbYkEZ9LHFm"
      },
      "execution_count": null,
      "outputs": []
    },
    {
      "cell_type": "code",
      "source": [
        "solution(5,3,2)"
      ],
      "metadata": {
        "colab": {
          "base_uri": "https://localhost:8080/"
        },
        "id": "oX7DD9O4PLue",
        "outputId": "61216ebb-604f-4208-eb73-038494b41528"
      },
      "execution_count": null,
      "outputs": [
        {
          "output_type": "execute_result",
          "data": {
            "text/plain": [
              "10"
            ]
          },
          "metadata": {},
          "execution_count": 14
        }
      ]
    },
    {
      "cell_type": "code",
      "source": [
        "solution1(5,3,2)"
      ],
      "metadata": {
        "colab": {
          "base_uri": "https://localhost:8080/"
        },
        "id": "3ocvNn0GR-Zd",
        "outputId": "d03c3964-2942-48dc-8e0f-65e5d355b0a9"
      },
      "execution_count": null,
      "outputs": [
        {
          "output_type": "execute_result",
          "data": {
            "text/plain": [
              "10"
            ]
          },
          "metadata": {},
          "execution_count": 42
        }
      ]
    },
    {
      "cell_type": "code",
      "source": [
        "solution(10,3,2)"
      ],
      "metadata": {
        "colab": {
          "base_uri": "https://localhost:8080/"
        },
        "id": "z1aCHwlqPPUm",
        "outputId": "8da8a22c-c9d9-4c42-a38e-b82a82c32f4e"
      },
      "execution_count": null,
      "outputs": [
        {
          "output_type": "execute_result",
          "data": {
            "text/plain": [
              "21"
            ]
          },
          "metadata": {},
          "execution_count": 15
        }
      ]
    },
    {
      "cell_type": "code",
      "source": [
        "solution1(10,3,2)"
      ],
      "metadata": {
        "colab": {
          "base_uri": "https://localhost:8080/"
        },
        "id": "fLoziEeXHvj8",
        "outputId": "157d043b-a286-4fd1-f9fa-00031f38049e"
      },
      "execution_count": null,
      "outputs": [
        {
          "output_type": "execute_result",
          "data": {
            "text/plain": [
              "21"
            ]
          },
          "metadata": {},
          "execution_count": 43
        }
      ]
    },
    {
      "cell_type": "markdown",
      "source": [
        "## 5. 삼총사"
      ],
      "metadata": {
        "id": "x6JHy1TipeN3"
      }
    },
    {
      "cell_type": "code",
      "source": [],
      "metadata": {
        "id": "KE6nzELZSrN-"
      },
      "execution_count": null,
      "outputs": []
    }
  ]
}