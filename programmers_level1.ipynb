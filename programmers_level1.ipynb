{
  "nbformat": 4,
  "nbformat_minor": 0,
  "metadata": {
    "colab": {
      "provenance": [],
      "authorship_tag": "ABX9TyNHPaRX1eMSiofCl3NFJ4w/"
    },
    "kernelspec": {
      "name": "python3",
      "display_name": "Python 3"
    },
    "language_info": {
      "name": "python"
    }
  },
  "cells": [
    {
      "cell_type": "markdown",
      "source": [
        "# 프로그래머스"
      ],
      "metadata": {
        "id": "IwUTjiU_oZEC"
      }
    },
    {
      "cell_type": "markdown",
      "source": [
        "## 1. 문자열 다루기 기본\n",
        "- 문제 설명 </br>\n",
        "문자열 s의 길이가 4 혹은 6이고, 숫자로만 구성돼있는지 확인해주는 함수, solution을 완성하세요. 예를 들어 s가 \"a234\"이면 False를 리턴하고 \"1234\"라면 True를 리턴하면 됩니다.\n",
        "\n",
        "- 제한 사항</br>\n",
        "s는 길이 1 이상, 길이 8 이하인 문자열입니다.\n",
        "s는 영문 알파벳 대소문자 또는 0부터 9까지 숫자로 이루어져 있습니다.\n",
        "\n",
        "- 입출력 예 </br>\n",
        "s\treturn </br>\n",
        "\"a234\"\tfalse </br>\n",
        "\"1234\"\ttrue\n"
      ],
      "metadata": {
        "id": "udqcx4-iocww"
      }
    },
    {
      "cell_type": "code",
      "source": [
        "# 내 풀이\n",
        "def solution(s):\n",
        "    try:\n",
        "        int(s)\n",
        "        if len(s) == 4 or len(s) == 6:\n",
        "            answer = True\n",
        "        else: \n",
        "            answer = False\n",
        "    except: \n",
        "        answer = False\n",
        "    return answer"
      ],
      "metadata": {
        "id": "0V3NnVlBowen"
      },
      "execution_count": null,
      "outputs": []
    },
    {
      "cell_type": "code",
      "source": [
        "solution(\"a234\")"
      ],
      "metadata": {
        "colab": {
          "base_uri": "https://localhost:8080/"
        },
        "id": "6ns9AjUd2uqC",
        "outputId": "577ecb17-6fec-4027-c6ff-ed8f8568b74f"
      },
      "execution_count": null,
      "outputs": [
        {
          "output_type": "execute_result",
          "data": {
            "text/plain": [
              "False"
            ]
          },
          "metadata": {},
          "execution_count": 8
        }
      ]
    },
    {
      "cell_type": "code",
      "source": [
        "solution(\"1234\")"
      ],
      "metadata": {
        "colab": {
          "base_uri": "https://localhost:8080/"
        },
        "id": "1PJh16MC2uOD",
        "outputId": "28e190f5-b34d-4a69-f62f-33d0617bf663"
      },
      "execution_count": null,
      "outputs": [
        {
          "output_type": "execute_result",
          "data": {
            "text/plain": [
              "True"
            ]
          },
          "metadata": {},
          "execution_count": 9
        }
      ]
    },
    {
      "cell_type": "code",
      "source": [
        "# 프로그래머스 best 풀이\n",
        "def solution(s):\n",
        "    return s.isdigit() and len(s) in [4,6]"
      ],
      "metadata": {
        "id": "1P_LUX8nqC6N"
      },
      "execution_count": null,
      "outputs": []
    },
    {
      "cell_type": "markdown",
      "source": [
        "## 2. 문자열 내 p와 y의 개수\n",
        "### 문제 설명\n",
        "- 대문자와 소문자가 섞여있는 문자열 s가 주어집니다. s에 'p'의 개수와 'y'의 개수를 비교해 같으면 True, 다르면 False를 return 하는 solution를 완성하세요. 'p', 'y' 모두 하나도 없는 경우는 항상 True를 리턴합니다. 단, 개수를 비교할 때 대문자와 소문자는 구별하지 않습니다.\n",
        "- 예를 들어 s가 \"pPoooyY\"면 true를 return하고 \"Pyy\"라면 false를 return합니다.\n",
        "\n",
        "### 제한사항\n",
        "- 문자열 s의 길이 : 50 이하의 자연수\n",
        "- 문자열 s는 알파벳으로만 이루어져 있습니다.\n",
        "\n",
        "### 입출력 예\n",
        "s\tanswer </br>\n",
        "\"pPoooyY\"\ttrue </br>\n",
        "\"Pyy\"\tfalse \n",
        "\n",
        "### 입출력 예 설명\n",
        "- 입출력 예 #1 </br>\n",
        "'p'의 개수 2개, 'y'의 개수 2개로 같으므로 true를 return 합니다.\n",
        "\n",
        "- 입출력 예 #2 </br>\n",
        "'p'의 개수 1개, 'y'의 개수 2개로 다르므로 false를 return 합니다."
      ],
      "metadata": {
        "id": "gVXEnOyEqVUP"
      }
    },
    {
      "cell_type": "code",
      "source": [
        "def solution(s):\n",
        "    s = s.lower()\n",
        "    if s.count('p')==s.count('y'):\n",
        "        answer = True\n",
        "    else: \n",
        "        answer = False\n",
        "    return answer"
      ],
      "metadata": {
        "id": "v9lxidvUqPpO"
      },
      "execution_count": null,
      "outputs": []
    },
    {
      "cell_type": "code",
      "source": [
        "solution(\"pPoooyY\")"
      ],
      "metadata": {
        "colab": {
          "base_uri": "https://localhost:8080/"
        },
        "id": "jcvZ_JHp2gkc",
        "outputId": "ebc9e96d-a84f-43bd-f5bd-ecb0c64db7c6"
      },
      "execution_count": null,
      "outputs": [
        {
          "output_type": "execute_result",
          "data": {
            "text/plain": [
              "True"
            ]
          },
          "metadata": {},
          "execution_count": 38
        }
      ]
    },
    {
      "cell_type": "code",
      "source": [
        "solution(\"Pyy\")"
      ],
      "metadata": {
        "colab": {
          "base_uri": "https://localhost:8080/"
        },
        "id": "kjJueOqj2knm",
        "outputId": "d599ecaa-42b2-4cc0-ceec-466a8039e1f4"
      },
      "execution_count": null,
      "outputs": [
        {
          "output_type": "execute_result",
          "data": {
            "text/plain": [
              "False"
            ]
          },
          "metadata": {},
          "execution_count": 39
        }
      ]
    },
    {
      "cell_type": "code",
      "source": [
        "# 프로그래머스 best 풀이\n",
        "def numPY(s):\n",
        "    # 함수를 완성하세요\n",
        "    return s.lower().count('p') == s.lower().count('y')"
      ],
      "metadata": {
        "id": "eqyB_4BZ4cF1"
      },
      "execution_count": null,
      "outputs": []
    },
    {
      "cell_type": "markdown",
      "source": [
        "## 3. 하샤드 수\n",
        "### 문제 설명\n",
        "양의 정수 x가 하샤드 수이려면 x의 자릿수의 합으로 x가 나누어져야 합니다. 예를 들어 18의 자릿수 합은 1+8=9이고, 18은 9로 나누어 떨어지므로 18은 하샤드 수입니다. 자연수 x를 입력받아 x가 하샤드 수인지 아닌지 검사하는 함수, solution을 완성해주세요.\n",
        "\n",
        "### 제한 조건\n",
        "x는 1 이상, 10000 이하인 정수입니다.\n",
        "\n",
        "### 입출력 예\n",
        "arr\treturn </br>\n",
        "10\ttrue </br>\n",
        "12\ttrue </br>\n",
        "11\tfalse </br>\n",
        "13\tfalse </br>\n",
        "\n",
        "### 입출력 예 설명\n",
        "입출력 예 #1\n",
        "10의 모든 자릿수의 합은 1입니다. 10은 1로 나누어 떨어지므로 10은 하샤드 수입니다.\n",
        "\n",
        "입출력 예 #2\n",
        "12의 모든 자릿수의 합은 3입니다. 12는 3으로 나누어 떨어지므로 12는 하샤드 수입니다.\n",
        "\n",
        "입출력 예 #3\n",
        "11의 모든 자릿수의 합은 2입니다. 11은 2로 나누어 떨어지지 않으므로 11는 하샤드 수가 아닙니다.\n",
        "\n",
        "입출력 예 #4\n",
        "13의 모든 자릿수의 합은 4입니다. 13은 4로 나누어 떨어지지 않으므로 13은 하샤드 수가 아닙니다."
      ],
      "metadata": {
        "id": "yJnRn4vO6Tzt"
      }
    },
    {
      "cell_type": "code",
      "source": [
        "def solution(x):\n",
        "    s = str(x)\n",
        "    sum = 0\n",
        "    for i in range(len(s)):\n",
        "       sum += int(s[i])\n",
        "    return x%sum == 0"
      ],
      "metadata": {
        "id": "DPkcEOn26qax"
      },
      "execution_count": null,
      "outputs": []
    },
    {
      "cell_type": "code",
      "source": [
        "solution(10)"
      ],
      "metadata": {
        "colab": {
          "base_uri": "https://localhost:8080/"
        },
        "id": "qSOPfW_V6-OJ",
        "outputId": "f7973d02-bf2b-4664-be18-aa735a28f381"
      },
      "execution_count": null,
      "outputs": [
        {
          "output_type": "execute_result",
          "data": {
            "text/plain": [
              "True"
            ]
          },
          "metadata": {},
          "execution_count": 59
        }
      ]
    },
    {
      "cell_type": "code",
      "source": [
        "solution(12)"
      ],
      "metadata": {
        "id": "_ry-6ZfL8NkC",
        "colab": {
          "base_uri": "https://localhost:8080/"
        },
        "outputId": "e2bdc81f-e9e6-4b46-a993-fcdff1588d16"
      },
      "execution_count": null,
      "outputs": [
        {
          "output_type": "execute_result",
          "data": {
            "text/plain": [
              "True"
            ]
          },
          "metadata": {},
          "execution_count": 55
        }
      ]
    },
    {
      "cell_type": "code",
      "source": [
        "solution(11)"
      ],
      "metadata": {
        "colab": {
          "base_uri": "https://localhost:8080/"
        },
        "id": "AhglMTWD9E0D",
        "outputId": "b8682719-4897-486b-f6f3-0c6807c3b933"
      },
      "execution_count": null,
      "outputs": [
        {
          "output_type": "execute_result",
          "data": {
            "text/plain": [
              "False"
            ]
          },
          "metadata": {},
          "execution_count": 56
        }
      ]
    },
    {
      "cell_type": "code",
      "source": [
        "solution(13)"
      ],
      "metadata": {
        "colab": {
          "base_uri": "https://localhost:8080/"
        },
        "id": "HvN4MIGa9Fw-",
        "outputId": "50472bb6-6c17-4459-c743-cb92cf91e745"
      },
      "execution_count": null,
      "outputs": [
        {
          "output_type": "execute_result",
          "data": {
            "text/plain": [
              "False"
            ]
          },
          "metadata": {},
          "execution_count": 57
        }
      ]
    },
    {
      "cell_type": "code",
      "source": [
        "[2, 1, 2, 6, 2, 4, 3, 3].count(2)"
      ],
      "metadata": {
        "colab": {
          "base_uri": "https://localhost:8080/"
        },
        "id": "KJA7w9EODhA9",
        "outputId": "7fb40c24-9f7e-4db8-c07e-22e2be3a2b00"
      },
      "execution_count": null,
      "outputs": [
        {
          "output_type": "execute_result",
          "data": {
            "text/plain": [
              "3"
            ]
          },
          "metadata": {},
          "execution_count": 67
        }
      ]
    },
    {
      "cell_type": "markdown",
      "source": [
        "## 4. 실패율 (2019 KAKAO BLIND RECRUITMENT)\n",
        "\n",
        "슈퍼 게임 개발자 오렐리는 큰 고민에 빠졌다. 그녀가 만든 프랜즈 오천성이 대성공을 거뒀지만, 요즘 신규 사용자의 수가 급감한 것이다. 원인은 신규 사용자와 기존 사용자 사이에 스테이지 차이가 너무 큰 것이 문제였다.\n",
        "\n",
        "이 문제를 어떻게 할까 고민 한 그녀는 동적으로 게임 시간을 늘려서 난이도를 조절하기로 했다. 역시 슈퍼 개발자라 대부분의 로직은 쉽게 구현했지만, 실패율을 구하는 부분에서 위기에 빠지고 말았다. 오렐리를 위해 실패율을 구하는 코드를 완성하라.\n",
        "\n",
        "실패율은 다음과 같이 정의한다.\n",
        "스테이지에 도달했으나 아직 클리어하지 못한 플레이어의 수 / 스테이지에 도달한 플레이어 수\n",
        "전체 스테이지의 개수 N, 게임을 이용하는 사용자가 현재 멈춰있는 스테이지의 번호가 담긴 배열 stages가 매개변수로 주어질 때, 실패율이 높은 스테이지부터 내림차순으로 스테이지의 번호가 담겨있는 배열을 return 하도록 solution 함수를 완성하라.\n",
        "\n",
        "### 제한사항\n",
        "스테이지의 개수 N은 1 이상 500 이하의 자연수이다.\n",
        "stages의 길이는 1 이상 200,000 이하이다.\n",
        "stages에는 1 이상 N + 1 이하의 자연수가 담겨있다.\n",
        "각 자연수는 사용자가 현재 도전 중인 스테이지의 번호를 나타낸다.\n",
        "단, N + 1 은 마지막 스테이지(N 번째 스테이지) 까지 클리어 한 사용자를 나타낸다.\n",
        "만약 실패율이 같은 스테이지가 있다면 작은 번호의 스테이지가 먼저 오도록 하면 된다.\n",
        "스테이지에 도달한 유저가 없는 경우 해당 스테이지의 실패율은 0 으로 정의한다.\n",
        "\n",
        "### 입출력 예\n",
        "N\tstages\tresult </br>\n",
        "5\t[2, 1, 2, 6, 2, 4, 3, 3]\t[3,4,2,1,5]   </br>\n",
        "4\t[4,4,4,4,4]\t[4,1,2,3]  </br>\n",
        "\n",
        "### 입출력 예 설명\n",
        "입출력 예 #1\n",
        "\n",
        "1번 스테이지에는 총 8명의 사용자가 도전했으며, 이 중 1명의 사용자가 아직 클리어하지 못했다. 따라서 1번 스테이지의 실패율은 다음과 같다.\n",
        "\n",
        "1 번 스테이지 실패율 : 1/8\n",
        "2번 스테이지에는 총 7명의 사용자가 도전했으며, 이 중 3명의 사용자가 아직 클리어하지 못했다. 따라서 2번 스테이지의 실패율은 다음과 같다.\n",
        "\n",
        "2 번 스테이지 실패율 : 3/7\n",
        "마찬가지로 나머지 스테이지의 실패율은 다음과 같다.\n",
        "\n",
        "3 번 스테이지 실패율 : 2/4\n",
        "4번 스테이지 실패율 : 1/2\n",
        "5번 스테이지 실패율 : 0/1\n",
        "각 스테이지의 번호를 실패율의 내림차순으로 정렬하면 다음과 같다.\n",
        "\n",
        "[3,4,2,1,5]\n",
        "\n",
        "입출력 예 #2\n",
        "\n",
        "모든 사용자가 마지막 스테이지에 있으므로 4번 스테이지의 실패율은 1이며 나머지 스테이지의 실패율은 0이다.\n",
        "\n",
        "[4,1,2,3]"
      ],
      "metadata": {
        "id": "nqMgRsMkZBen"
      }
    },
    {
      "cell_type": "code",
      "source": [
        "def solution(N, stages):\n",
        "    d = {}\n",
        "    n_user = len(stages)\n",
        "    s = 1\n",
        "    m = len(stages)\n",
        "    while s<=N:\n",
        "        n = stages.count(s)\n",
        "        d[s] = n/m\n",
        "        m -= n  \n",
        "        s += 1\n",
        "    answer = dict(sorted(d.items(), key=lambda x: x[1], reverse=True)).keys()\n",
        "    return list(answer)"
      ],
      "metadata": {
        "id": "_irPnWYbD-Rj"
      },
      "execution_count": 9,
      "outputs": []
    },
    {
      "cell_type": "code",
      "source": [
        "solution(5, [2, 1, 2, 6, 2, 4, 3, 3])"
      ],
      "metadata": {
        "colab": {
          "base_uri": "https://localhost:8080/"
        },
        "id": "La-A2CPnFauG",
        "outputId": "55f9aa93-e63b-41b4-a6f9-cdc41818d5cc"
      },
      "execution_count": 10,
      "outputs": [
        {
          "output_type": "execute_result",
          "data": {
            "text/plain": [
              "[3, 4, 2, 1, 5]"
            ]
          },
          "metadata": {},
          "execution_count": 10
        }
      ]
    },
    {
      "cell_type": "code",
      "source": [
        "solution(4, [4,4,4,4])"
      ],
      "metadata": {
        "colab": {
          "base_uri": "https://localhost:8080/"
        },
        "id": "5T2pwyUjWdpu",
        "outputId": "e55e5312-483f-445f-c18b-2e8513aef4cf"
      },
      "execution_count": 11,
      "outputs": [
        {
          "output_type": "execute_result",
          "data": {
            "text/plain": [
              "[4, 1, 2, 3]"
            ]
          },
          "metadata": {},
          "execution_count": 11
        }
      ]
    },
    {
      "cell_type": "markdown",
      "source": [
        "## 5. 콜라츠 추측\n",
        "1937년 Collatz란 사람에 의해 제기된 이 추측은, 주어진 수가 1이 될 때까지 다음 작업을 반복하면, 모든 수를 1로 만들 수 있다는 추측입니다. 작업은 다음과 같습니다.\n",
        "\n",
        "1-1. 입력된 수가 짝수라면 2로 나눕니다. \n",
        "1-2. 입력된 수가 홀수라면 3을 곱하고 1을 더합니다. \n",
        "2 . 결과로 나온 수에 같은 작업을 1이 될 때까지 반복합니다. \n",
        "예를 들어, 주어진 수가 6이라면 6 → 3 → 10 → 5 → 16 → 8 → 4 → 2 → 1 이 되어 총 8번 만에 1이 됩니다. 위 작업을 몇 번이나 반복해야 하는지 반환하는 함수, solution을 완성해 주세요. 단, 주어진 수가 1인 경우에는 0을, 작업을 500번 반복할 때까지 1이 되지 않는다면 –1을 반환해 주세요.\n",
        "\n",
        "### 제한 사항\n",
        "입력된 수, num은 1 이상 8,000,000 미만인 정수입니다.\n",
        "\n",
        "### 입출력 예\n",
        "n\tresult </br>\n",
        "6\t8</br>\n",
        "16\t4</br>\n",
        "626331\t-1</br>\n",
        "\n",
        "### 입출력 예 설명\n",
        "입출력 예 #1 </br>\n",
        "문제의 설명과 같습니다.\n",
        "\n",
        "입출력 예 #2 </br>\n",
        "16 → 8 → 4 → 2 → 1 이 되어 총 4번 만에 1이 됩니다.\n",
        "\n",
        "입출력 예 #3</br>\n",
        "626331은 500번을 시도해도 1이 되지 못하므로 -1을 리턴해야 합니다."
      ],
      "metadata": {
        "id": "z-ux2L4pnRdk"
      }
    },
    {
      "cell_type": "code",
      "source": [
        "def solution(num):\n",
        "    answer = 0\n",
        "    cnt = 0\n",
        "    while cnt <= 500:\n",
        "        if num==1:\n",
        "            return cnt\n",
        "            break\n",
        "        if num%2==0:\n",
        "            num/=2\n",
        "        else:\n",
        "            num = num*3 +1\n",
        "        cnt+=1\n",
        "    return -1"
      ],
      "metadata": {
        "id": "xsqUZ6L7Y-Gx"
      },
      "execution_count": 7,
      "outputs": []
    },
    {
      "cell_type": "code",
      "source": [
        "solution(6)"
      ],
      "metadata": {
        "id": "aGqU8K3taHRl",
        "colab": {
          "base_uri": "https://localhost:8080/"
        },
        "outputId": "d7b3fc9e-e3d7-4f99-e16a-5f08adc48ebb"
      },
      "execution_count": 8,
      "outputs": [
        {
          "output_type": "execute_result",
          "data": {
            "text/plain": [
              "8"
            ]
          },
          "metadata": {},
          "execution_count": 8
        }
      ]
    },
    {
      "cell_type": "code",
      "source": [
        "solution(16)"
      ],
      "metadata": {
        "colab": {
          "base_uri": "https://localhost:8080/"
        },
        "id": "7jGDSzQYn0Mr",
        "outputId": "30bd861f-fdaf-4907-9ea7-3f87a1513a8b"
      },
      "execution_count": 3,
      "outputs": [
        {
          "output_type": "execute_result",
          "data": {
            "text/plain": [
              "4"
            ]
          },
          "metadata": {},
          "execution_count": 3
        }
      ]
    },
    {
      "cell_type": "code",
      "source": [
        "solution(626311)"
      ],
      "metadata": {
        "colab": {
          "base_uri": "https://localhost:8080/"
        },
        "id": "wXgwT4MRn02s",
        "outputId": "db5e6494-2765-43a8-ccb9-f5cba6c610f6"
      },
      "execution_count": 4,
      "outputs": [
        {
          "output_type": "execute_result",
          "data": {
            "text/plain": [
              "128"
            ]
          },
          "metadata": {},
          "execution_count": 4
        }
      ]
    },
    {
      "cell_type": "code",
      "source": [],
      "metadata": {
        "id": "ZlTSy50Pn4OY"
      },
      "execution_count": null,
      "outputs": []
    }
  ]
}