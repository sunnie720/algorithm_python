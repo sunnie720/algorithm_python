{
  "nbformat": 4,
  "nbformat_minor": 0,
  "metadata": {
    "colab": {
      "provenance": [],
      "authorship_tag": "ABX9TyNnJPb2mntC1n5StQCMxKVg"
    },
    "kernelspec": {
      "name": "python3",
      "display_name": "Python 3"
    },
    "language_info": {
      "name": "python"
    }
  },
  "cells": [
    {
      "cell_type": "markdown",
      "source": [
        "## 1. 문자열 다루기 기본 (2023.03.13)\n",
        "\n"
      ],
      "metadata": {
        "id": "udqcx4-iocww"
      }
    },
    {
      "cell_type": "code",
      "source": [
        "# 내 풀이\n",
        "def solution(s):\n",
        "    try:\n",
        "        int(s)\n",
        "        if len(s) == 4 or len(s) == 6:\n",
        "            answer = True\n",
        "        else: \n",
        "            answer = False\n",
        "    except: \n",
        "        answer = False\n",
        "    return answer"
      ],
      "metadata": {
        "id": "0V3NnVlBowen"
      },
      "execution_count": null,
      "outputs": []
    },
    {
      "cell_type": "code",
      "source": [
        "solution(\"a234\")"
      ],
      "metadata": {
        "colab": {
          "base_uri": "https://localhost:8080/"
        },
        "id": "6ns9AjUd2uqC",
        "outputId": "577ecb17-6fec-4027-c6ff-ed8f8568b74f"
      },
      "execution_count": null,
      "outputs": [
        {
          "output_type": "execute_result",
          "data": {
            "text/plain": [
              "False"
            ]
          },
          "metadata": {},
          "execution_count": 8
        }
      ]
    },
    {
      "cell_type": "code",
      "source": [
        "solution(\"1234\")"
      ],
      "metadata": {
        "colab": {
          "base_uri": "https://localhost:8080/"
        },
        "id": "1PJh16MC2uOD",
        "outputId": "28e190f5-b34d-4a69-f62f-33d0617bf663"
      },
      "execution_count": null,
      "outputs": [
        {
          "output_type": "execute_result",
          "data": {
            "text/plain": [
              "True"
            ]
          },
          "metadata": {},
          "execution_count": 9
        }
      ]
    },
    {
      "cell_type": "code",
      "source": [
        "# 프로그래머스 best 풀이\n",
        "def solution(s):\n",
        "    return s.isdigit() and len(s) in [4,6]"
      ],
      "metadata": {
        "id": "1P_LUX8nqC6N"
      },
      "execution_count": null,
      "outputs": []
    },
    {
      "cell_type": "markdown",
      "source": [
        "## 2. 문자열 내 p와 y의 개수 (2023.03.14)"
      ],
      "metadata": {
        "id": "gVXEnOyEqVUP"
      }
    },
    {
      "cell_type": "code",
      "source": [
        "def solution(s):\n",
        "    s = s.lower()\n",
        "    if s.count('p')==s.count('y'):\n",
        "        answer = True\n",
        "    else: \n",
        "        answer = False\n",
        "    return answer"
      ],
      "metadata": {
        "id": "v9lxidvUqPpO"
      },
      "execution_count": null,
      "outputs": []
    },
    {
      "cell_type": "code",
      "source": [
        "solution(\"pPoooyY\")"
      ],
      "metadata": {
        "colab": {
          "base_uri": "https://localhost:8080/"
        },
        "id": "jcvZ_JHp2gkc",
        "outputId": "ebc9e96d-a84f-43bd-f5bd-ecb0c64db7c6"
      },
      "execution_count": null,
      "outputs": [
        {
          "output_type": "execute_result",
          "data": {
            "text/plain": [
              "True"
            ]
          },
          "metadata": {},
          "execution_count": 38
        }
      ]
    },
    {
      "cell_type": "code",
      "source": [
        "solution(\"Pyy\")"
      ],
      "metadata": {
        "colab": {
          "base_uri": "https://localhost:8080/"
        },
        "id": "kjJueOqj2knm",
        "outputId": "d599ecaa-42b2-4cc0-ceec-466a8039e1f4"
      },
      "execution_count": null,
      "outputs": [
        {
          "output_type": "execute_result",
          "data": {
            "text/plain": [
              "False"
            ]
          },
          "metadata": {},
          "execution_count": 39
        }
      ]
    },
    {
      "cell_type": "code",
      "source": [
        "# 프로그래머스 best 풀이\n",
        "def numPY(s):\n",
        "    # 함수를 완성하세요\n",
        "    return s.lower().count('p') == s.lower().count('y')"
      ],
      "metadata": {
        "id": "eqyB_4BZ4cF1"
      },
      "execution_count": null,
      "outputs": []
    },
    {
      "cell_type": "markdown",
      "source": [
        "## 3. 하샤드 수 (2023.03.14)\n"
      ],
      "metadata": {
        "id": "yJnRn4vO6Tzt"
      }
    },
    {
      "cell_type": "code",
      "source": [
        "def solution(x):\n",
        "    s = str(x)\n",
        "    sum = 0\n",
        "    for i in range(len(s)):\n",
        "       sum += int(s[i])\n",
        "    return x%sum == 0"
      ],
      "metadata": {
        "id": "DPkcEOn26qax"
      },
      "execution_count": null,
      "outputs": []
    },
    {
      "cell_type": "code",
      "source": [
        "solution(10)"
      ],
      "metadata": {
        "colab": {
          "base_uri": "https://localhost:8080/"
        },
        "id": "qSOPfW_V6-OJ",
        "outputId": "f7973d02-bf2b-4664-be18-aa735a28f381"
      },
      "execution_count": null,
      "outputs": [
        {
          "output_type": "execute_result",
          "data": {
            "text/plain": [
              "True"
            ]
          },
          "metadata": {},
          "execution_count": 59
        }
      ]
    },
    {
      "cell_type": "code",
      "source": [
        "solution(12)"
      ],
      "metadata": {
        "id": "_ry-6ZfL8NkC",
        "colab": {
          "base_uri": "https://localhost:8080/"
        },
        "outputId": "e2bdc81f-e9e6-4b46-a993-fcdff1588d16"
      },
      "execution_count": null,
      "outputs": [
        {
          "output_type": "execute_result",
          "data": {
            "text/plain": [
              "True"
            ]
          },
          "metadata": {},
          "execution_count": 55
        }
      ]
    },
    {
      "cell_type": "code",
      "source": [
        "solution(11)"
      ],
      "metadata": {
        "colab": {
          "base_uri": "https://localhost:8080/"
        },
        "id": "AhglMTWD9E0D",
        "outputId": "b8682719-4897-486b-f6f3-0c6807c3b933"
      },
      "execution_count": null,
      "outputs": [
        {
          "output_type": "execute_result",
          "data": {
            "text/plain": [
              "False"
            ]
          },
          "metadata": {},
          "execution_count": 56
        }
      ]
    },
    {
      "cell_type": "code",
      "source": [
        "solution(13)"
      ],
      "metadata": {
        "colab": {
          "base_uri": "https://localhost:8080/"
        },
        "id": "HvN4MIGa9Fw-",
        "outputId": "50472bb6-6c17-4459-c743-cb92cf91e745"
      },
      "execution_count": null,
      "outputs": [
        {
          "output_type": "execute_result",
          "data": {
            "text/plain": [
              "False"
            ]
          },
          "metadata": {},
          "execution_count": 57
        }
      ]
    },
    {
      "cell_type": "code",
      "source": [
        "[2, 1, 2, 6, 2, 4, 3, 3].count(2)"
      ],
      "metadata": {
        "colab": {
          "base_uri": "https://localhost:8080/"
        },
        "id": "KJA7w9EODhA9",
        "outputId": "7fb40c24-9f7e-4db8-c07e-22e2be3a2b00"
      },
      "execution_count": null,
      "outputs": [
        {
          "output_type": "execute_result",
          "data": {
            "text/plain": [
              "3"
            ]
          },
          "metadata": {},
          "execution_count": 67
        }
      ]
    },
    {
      "cell_type": "markdown",
      "source": [
        "## 4. 콜라츠 추측 (2023.03.15)\n"
      ],
      "metadata": {
        "id": "z-ux2L4pnRdk"
      }
    },
    {
      "cell_type": "code",
      "source": [
        "def solution(num):\n",
        "    answer = 0\n",
        "    cnt = 0\n",
        "    while cnt <= 500:\n",
        "        if num==1:\n",
        "            return cnt\n",
        "            break\n",
        "        if num%2==0:\n",
        "            num/=2\n",
        "        else:\n",
        "            num = num*3 +1\n",
        "        cnt+=1\n",
        "    return -1"
      ],
      "metadata": {
        "id": "xsqUZ6L7Y-Gx"
      },
      "execution_count": null,
      "outputs": []
    },
    {
      "cell_type": "code",
      "source": [
        "solution(6)"
      ],
      "metadata": {
        "id": "aGqU8K3taHRl",
        "colab": {
          "base_uri": "https://localhost:8080/"
        },
        "outputId": "d7b3fc9e-e3d7-4f99-e16a-5f08adc48ebb"
      },
      "execution_count": null,
      "outputs": [
        {
          "output_type": "execute_result",
          "data": {
            "text/plain": [
              "8"
            ]
          },
          "metadata": {},
          "execution_count": 8
        }
      ]
    },
    {
      "cell_type": "code",
      "source": [
        "solution(16)"
      ],
      "metadata": {
        "colab": {
          "base_uri": "https://localhost:8080/"
        },
        "id": "7jGDSzQYn0Mr",
        "outputId": "30bd861f-fdaf-4907-9ea7-3f87a1513a8b"
      },
      "execution_count": null,
      "outputs": [
        {
          "output_type": "execute_result",
          "data": {
            "text/plain": [
              "4"
            ]
          },
          "metadata": {},
          "execution_count": 3
        }
      ]
    },
    {
      "cell_type": "code",
      "source": [
        "solution(626311)"
      ],
      "metadata": {
        "colab": {
          "base_uri": "https://localhost:8080/"
        },
        "id": "wXgwT4MRn02s",
        "outputId": "db5e6494-2765-43a8-ccb9-f5cba6c610f6"
      },
      "execution_count": null,
      "outputs": [
        {
          "output_type": "execute_result",
          "data": {
            "text/plain": [
              "128"
            ]
          },
          "metadata": {},
          "execution_count": 4
        }
      ]
    },
    {
      "cell_type": "markdown",
      "source": [
        "## 5. 실패율 (2019 KAKAO BLIND RECRUITMENT) (2023.03.15)\n"
      ],
      "metadata": {
        "id": "nqMgRsMkZBen"
      }
    },
    {
      "cell_type": "code",
      "source": [
        "def solution(N, stages):\n",
        "    d = {}\n",
        "    n_user = len(stages)\n",
        "    for s in range(1, N+1):\n",
        "        n = stages.count(s)\n",
        "        if n==0:\n",
        "            d[s]=0\n",
        "        else:\n",
        "            d[s] = n/n_user\n",
        "            n_user -= n  \n",
        "    answer = sorted(d, key=lambda x: d[x], reverse=True)\n",
        "    return answer"
      ],
      "metadata": {
        "id": "_irPnWYbD-Rj"
      },
      "execution_count": null,
      "outputs": []
    },
    {
      "cell_type": "code",
      "source": [
        "solution(5, [2, 1, 2, 6, 2, 4, 3, 3])"
      ],
      "metadata": {
        "colab": {
          "base_uri": "https://localhost:8080/"
        },
        "id": "npSzOTegPxP4",
        "outputId": "979ec052-288f-4a16-d62e-3814658a4c62"
      },
      "execution_count": null,
      "outputs": [
        {
          "output_type": "execute_result",
          "data": {
            "text/plain": [
              "[3, 4, 2, 1, 5]"
            ]
          },
          "metadata": {},
          "execution_count": 5
        }
      ]
    },
    {
      "cell_type": "code",
      "source": [
        "solution(4, [4,4,4,4])"
      ],
      "metadata": {
        "colab": {
          "base_uri": "https://localhost:8080/"
        },
        "id": "5T2pwyUjWdpu",
        "outputId": "8fa7571a-ed3b-4ae0-d83c-7f7700697a8c"
      },
      "execution_count": null,
      "outputs": [
        {
          "output_type": "execute_result",
          "data": {
            "text/plain": [
              "[4, 1, 2, 3]"
            ]
          },
          "metadata": {},
          "execution_count": 6
        }
      ]
    },
    {
      "cell_type": "markdown",
      "source": [
        "## 6. 가운데 글자 가져오기 (2023.03.16)"
      ],
      "metadata": {
        "id": "F3f0JNQxQXTu"
      }
    },
    {
      "cell_type": "code",
      "source": [
        "def solution(s):\n",
        "    n = len(s)\n",
        "    i = n//2\n",
        "    if n%2 != 0:\n",
        "        answer = s[i]\n",
        "    else:\n",
        "        answer = s[i-1:i+1]\n",
        "    return answer"
      ],
      "metadata": {
        "id": "ZlTSy50Pn4OY"
      },
      "execution_count": null,
      "outputs": []
    },
    {
      "cell_type": "code",
      "source": [
        "solution('abcde')"
      ],
      "metadata": {
        "colab": {
          "base_uri": "https://localhost:8080/",
          "height": 36
        },
        "id": "87jlWq-gR8wj",
        "outputId": "f2079a15-8b78-4bad-8f20-d7930d6cbc20"
      },
      "execution_count": null,
      "outputs": [
        {
          "output_type": "execute_result",
          "data": {
            "text/plain": [
              "'c'"
            ],
            "application/vnd.google.colaboratory.intrinsic+json": {
              "type": "string"
            }
          },
          "metadata": {},
          "execution_count": 8
        }
      ]
    },
    {
      "cell_type": "code",
      "source": [
        "solution('pweq')"
      ],
      "metadata": {
        "colab": {
          "base_uri": "https://localhost:8080/",
          "height": 36
        },
        "id": "5FCW7oeFb2FK",
        "outputId": "dbf8c4c1-4991-4bc8-e409-be49d3da3f96"
      },
      "execution_count": null,
      "outputs": [
        {
          "output_type": "execute_result",
          "data": {
            "text/plain": [
              "'we'"
            ],
            "application/vnd.google.colaboratory.intrinsic+json": {
              "type": "string"
            }
          },
          "metadata": {},
          "execution_count": 9
        }
      ]
    },
    {
      "cell_type": "markdown",
      "source": [
        "## 7. 문자열 내림차순으로 배치하기 (2023.03.16)"
      ],
      "metadata": {
        "id": "V8hN8jT3bzex"
      }
    },
    {
      "cell_type": "code",
      "source": [
        "def solution(s):\n",
        "    return ''.join(sorted(s, reverse=True))"
      ],
      "metadata": {
        "id": "v7l6QYc7nSXX"
      },
      "execution_count": null,
      "outputs": []
    },
    {
      "cell_type": "code",
      "source": [
        "solution('Zbcdefg')"
      ],
      "metadata": {
        "colab": {
          "base_uri": "https://localhost:8080/",
          "height": 36
        },
        "id": "xDraCm3hc3SO",
        "outputId": "5de153b6-1148-4a12-9471-7f6f5f26576a"
      },
      "execution_count": null,
      "outputs": [
        {
          "output_type": "execute_result",
          "data": {
            "text/plain": [
              "'gfedcbZ'"
            ],
            "application/vnd.google.colaboratory.intrinsic+json": {
              "type": "string"
            }
          },
          "metadata": {},
          "execution_count": 48
        }
      ]
    },
    {
      "cell_type": "code",
      "source": [
        "solution('ZzZ')"
      ],
      "metadata": {
        "colab": {
          "base_uri": "https://localhost:8080/",
          "height": 36
        },
        "id": "7mxx2VXydCJm",
        "outputId": "72e67221-26c1-4ca5-c118-d7dca1cd5a41"
      },
      "execution_count": null,
      "outputs": [
        {
          "output_type": "execute_result",
          "data": {
            "text/plain": [
              "'zZZ'"
            ],
            "application/vnd.google.colaboratory.intrinsic+json": {
              "type": "string"
            }
          },
          "metadata": {},
          "execution_count": 49
        }
      ]
    },
    {
      "cell_type": "markdown",
      "source": [
        "## 8. 같은 숫자는 싫어 (2023.03.17)\n",
        "- 스택/큐"
      ],
      "metadata": {
        "id": "Md-CQUK3XLs2"
      }
    },
    {
      "cell_type": "code",
      "source": [
        "def solution(arr):\n",
        "    answer = []\n",
        "    answer.append(arr[0])\n",
        "    for i in range(1,len(arr)):\n",
        "        if arr[i] != answer[-1]:\n",
        "            answer.append(arr[i])\n",
        "    return answer"
      ],
      "metadata": {
        "id": "3G7M3CLGmlil"
      },
      "execution_count": null,
      "outputs": []
    },
    {
      "cell_type": "code",
      "source": [
        "solution([1,1,3,3,0,1,1])"
      ],
      "metadata": {
        "id": "PSPRwYsSJJbF",
        "colab": {
          "base_uri": "https://localhost:8080/"
        },
        "outputId": "51df94bb-e165-4f60-a29e-e917a41ccbdf"
      },
      "execution_count": null,
      "outputs": [
        {
          "output_type": "execute_result",
          "data": {
            "text/plain": [
              "[1, 3, 0, 1]"
            ]
          },
          "metadata": {},
          "execution_count": 6
        }
      ]
    },
    {
      "cell_type": "code",
      "source": [
        "solution([4,4,4,3,3])"
      ],
      "metadata": {
        "colab": {
          "base_uri": "https://localhost:8080/"
        },
        "id": "i3tD1LoxXpN9",
        "outputId": "165d9cdc-be36-4e09-a8d4-6a72f476bcc4"
      },
      "execution_count": null,
      "outputs": [
        {
          "output_type": "execute_result",
          "data": {
            "text/plain": [
              "[4, 3]"
            ]
          },
          "metadata": {},
          "execution_count": 7
        }
      ]
    },
    {
      "cell_type": "code",
      "source": [
        "def no_continuous(s):\n",
        "    return [s[i] for i in range(len(s)) if [s[i]] != s[i+1:i+2]]"
      ],
      "metadata": {
        "id": "0WJEMz73aowD"
      },
      "execution_count": null,
      "outputs": []
    },
    {
      "cell_type": "code",
      "source": [
        "no_continuous([1,1,3,3,0,1,1])"
      ],
      "metadata": {
        "colab": {
          "base_uri": "https://localhost:8080/"
        },
        "id": "sT00BVQybaMT",
        "outputId": "757e5c17-e04a-48aa-fff7-80f466dcfd5a"
      },
      "execution_count": null,
      "outputs": [
        {
          "output_type": "execute_result",
          "data": {
            "text/plain": [
              "[1, 3, 0, 1]"
            ]
          },
          "metadata": {},
          "execution_count": 29
        }
      ]
    },
    {
      "cell_type": "code",
      "source": [
        "a = []\n",
        "a[-1:]"
      ],
      "metadata": {
        "colab": {
          "base_uri": "https://localhost:8080/"
        },
        "id": "KhoilXxHcP_n",
        "outputId": "5ceabf29-6d90-40b7-83ca-dd24fedc7f01"
      },
      "execution_count": null,
      "outputs": [
        {
          "output_type": "execute_result",
          "data": {
            "text/plain": [
              "[]"
            ]
          },
          "metadata": {},
          "execution_count": 32
        }
      ]
    },
    {
      "cell_type": "code",
      "source": [
        "a = [1,2]\n",
        "a[2:3]"
      ],
      "metadata": {
        "colab": {
          "base_uri": "https://localhost:8080/"
        },
        "id": "ivukRxVDbqU6",
        "outputId": "064399e4-7a4c-4ab1-f2f1-eb7ef700dbc1"
      },
      "execution_count": null,
      "outputs": [
        {
          "output_type": "execute_result",
          "data": {
            "text/plain": [
              "[]"
            ]
          },
          "metadata": {},
          "execution_count": 31
        }
      ]
    },
    {
      "cell_type": "markdown",
      "source": [
        "## 9. 시저 암호 (2023.03.17)"
      ],
      "metadata": {
        "id": "OTFJ5vzGdvGW"
      }
    },
    {
      "cell_type": "code",
      "source": [
        "122-97+1 # 97~122 # 65~90"
      ],
      "metadata": {
        "colab": {
          "base_uri": "https://localhost:8080/"
        },
        "id": "sD_ddrYJuKjN",
        "outputId": "6ba1da07-7d8e-40f0-c1d1-ed3941076e38"
      },
      "execution_count": null,
      "outputs": [
        {
          "output_type": "execute_result",
          "data": {
            "text/plain": [
              "26"
            ]
          },
          "metadata": {},
          "execution_count": 45
        }
      ]
    },
    {
      "cell_type": "code",
      "source": [
        "def solution(s, n):\n",
        "    answer = ''\n",
        "    for i in range(len(s)):\n",
        "        if s[i] == ' ':\n",
        "            answer+=s[i]\n",
        "        else:\n",
        "            if ((ord(s[i])<=90) and (ord(s[i])+n > 90)) or (ord(s[i])>=97) and (ord(s[i])+n > 122):\n",
        "                answer+=chr(ord(s[i])+n-26)\n",
        "            else:\n",
        "                answer+=chr(ord(s[i])+n)\n",
        "    return answer"
      ],
      "metadata": {
        "id": "iEGdFNB0dxef"
      },
      "execution_count": null,
      "outputs": []
    },
    {
      "cell_type": "code",
      "source": [
        "# 프로그래머스 풀이\n",
        "def solution(s, n):\n",
        "    answer = list(s)\n",
        "    for i in range(len(answer)):\n",
        "        if answer[i].isupper():\n",
        "            answer[i] = chr((ord(answer[i])-ord('A')+n)%26 + ord('A'))\n",
        "        elif answer[i].islower():\n",
        "            answer[i] = chr((ord(answer[i])-ord('a')+n)%26 + ord('a'))\n",
        "    return ''.join(answer)"
      ],
      "metadata": {
        "id": "k_BJrdAawgFE"
      },
      "execution_count": null,
      "outputs": []
    },
    {
      "cell_type": "code",
      "source": [
        "solution(\"AB\", 1)"
      ],
      "metadata": {
        "colab": {
          "base_uri": "https://localhost:8080/",
          "height": 36
        },
        "id": "jXndeoqohDgt",
        "outputId": "38881aa8-59ca-49bb-ad3f-a02cd5ca87f4"
      },
      "execution_count": null,
      "outputs": [
        {
          "output_type": "execute_result",
          "data": {
            "text/plain": [
              "'BC'"
            ],
            "application/vnd.google.colaboratory.intrinsic+json": {
              "type": "string"
            }
          },
          "metadata": {},
          "execution_count": 63
        }
      ]
    },
    {
      "cell_type": "code",
      "source": [
        "solution('z',1)"
      ],
      "metadata": {
        "colab": {
          "base_uri": "https://localhost:8080/",
          "height": 36
        },
        "id": "vsNTbzLrhgLs",
        "outputId": "564d05c8-0266-4f2e-b1a1-9494f4f3920c"
      },
      "execution_count": null,
      "outputs": [
        {
          "output_type": "execute_result",
          "data": {
            "text/plain": [
              "'a'"
            ],
            "application/vnd.google.colaboratory.intrinsic+json": {
              "type": "string"
            }
          },
          "metadata": {},
          "execution_count": 64
        }
      ]
    },
    {
      "cell_type": "code",
      "source": [
        "solution(\"a B z\",4)"
      ],
      "metadata": {
        "colab": {
          "base_uri": "https://localhost:8080/",
          "height": 36
        },
        "id": "7GVcCHzHhfJS",
        "outputId": "4f5b26b0-89f1-4e7d-b444-4c2bb64bd17e"
      },
      "execution_count": null,
      "outputs": [
        {
          "output_type": "execute_result",
          "data": {
            "text/plain": [
              "'e F d'"
            ],
            "application/vnd.google.colaboratory.intrinsic+json": {
              "type": "string"
            }
          },
          "metadata": {},
          "execution_count": 65
        }
      ]
    },
    {
      "cell_type": "markdown",
      "source": [
        "## 10. 약수의 합 (2023.04.27)"
      ],
      "metadata": {
        "id": "HWr-uItDldRm"
      }
    },
    {
      "cell_type": "code",
      "source": [
        "def solution(n):\n",
        "    return n + sum([i for i in range(1,n//2+1) if n%i==0])"
      ],
      "metadata": {
        "id": "oAD1Qdu4yw7v"
      },
      "execution_count": null,
      "outputs": []
    },
    {
      "cell_type": "code",
      "source": [
        "solution(12)"
      ],
      "metadata": {
        "colab": {
          "base_uri": "https://localhost:8080/"
        },
        "id": "X4Rbq2C9qOJG",
        "outputId": "32410def-adf8-44a3-efb5-510dc064bfbf"
      },
      "execution_count": null,
      "outputs": [
        {
          "output_type": "execute_result",
          "data": {
            "text/plain": [
              "28"
            ]
          },
          "metadata": {},
          "execution_count": 4
        }
      ]
    },
    {
      "cell_type": "code",
      "source": [
        "solution(5)"
      ],
      "metadata": {
        "colab": {
          "base_uri": "https://localhost:8080/"
        },
        "id": "Y85C6MCHqhLu",
        "outputId": "3bc01209-28dc-4fcc-e28f-115eff31c8dd"
      },
      "execution_count": null,
      "outputs": [
        {
          "output_type": "execute_result",
          "data": {
            "text/plain": [
              "6"
            ]
          },
          "metadata": {},
          "execution_count": 5
        }
      ]
    },
    {
      "cell_type": "code",
      "source": [],
      "metadata": {
        "id": "4RY9yVz42Q0E"
      },
      "execution_count": null,
      "outputs": []
    },
    {
      "cell_type": "markdown",
      "source": [
        "## 11. 과일 장수 (2023.03.22)\n"
      ],
      "metadata": {
        "id": "Q5pqntwlCQX9"
      }
    },
    {
      "cell_type": "code",
      "execution_count": null,
      "metadata": {
        "id": "i-zihRyQCP0u"
      },
      "outputs": [],
      "source": [
        "def solution(k, m, score):\n",
        "    from collections import Counter\n",
        "    c = dict(Counter(sorted(score, reverse=True)))\n",
        "    res = 0\n",
        "    answer = 0\n",
        "    for p in c:\n",
        "        box = (c[p]+res)//m\n",
        "        res = (c[p]+res)%m\n",
        "        answer += p*m*box\n",
        "    return answer"
      ]
    },
    {
      "cell_type": "code",
      "source": [
        "solution(3,4,[1, 2, 3, 1, 2, 3, 1])"
      ],
      "metadata": {
        "colab": {
          "base_uri": "https://localhost:8080/"
        },
        "id": "xodmNuTKC3BD",
        "outputId": "5605bc40-f694-48bd-8455-eef8ef2751f5"
      },
      "execution_count": null,
      "outputs": [
        {
          "output_type": "execute_result",
          "data": {
            "text/plain": [
              "8"
            ]
          },
          "metadata": {},
          "execution_count": 68
        }
      ]
    },
    {
      "cell_type": "code",
      "source": [
        "solution(4,3,[4, 1, 2, 2, 4, 4, 4, 4, 1, 2, 4, 2])"
      ],
      "metadata": {
        "colab": {
          "base_uri": "https://localhost:8080/"
        },
        "id": "jyQDVQrIC6nx",
        "outputId": "c994bfe8-2edd-4adb-9f35-bb9bcd516f75"
      },
      "execution_count": null,
      "outputs": [
        {
          "output_type": "execute_result",
          "data": {
            "text/plain": [
              "33"
            ]
          },
          "metadata": {},
          "execution_count": 69
        }
      ]
    },
    {
      "cell_type": "markdown",
      "source": [
        "⭐️ 다른 사람 풀이\n",
        "\n",
        "[1, 2, 3, 1, 2, 3, 1], m=4\n",
        "- 정렬 : [1, 1, 1, / **2**, 2, 3, 3]\n",
        "- 뒤에서부터 m=4 간격으로 끊었을 때 앞에있는 작은 숫자들끼리 합하고 m 곱해줌\n",
        "\n",
        "[4, 1, 2, 2, 4, 4, 4, 4, 1, 2, 4, 2], m=3\n",
        "- 정렬 : [**1**, 1, 2, / **2**, 2, 2, / **4**, 4, 4, / **4**, 4, 4]"
      ],
      "metadata": {
        "id": "euWzni660okw"
      }
    },
    {
      "cell_type": "code",
      "source": [
        "# 다른 사람 풀이\n",
        "def solution(k, m, score):\n",
        "    return sum(sorted(score)[len(score)%m::m])*m"
      ],
      "metadata": {
        "id": "-9lQdFyyu37p"
      },
      "execution_count": null,
      "outputs": []
    },
    {
      "cell_type": "markdown",
      "source": [
        "## 12. 제일 작은 수 제거하기 (2023.03.22)"
      ],
      "metadata": {
        "id": "1u-CWiez2RYo"
      }
    },
    {
      "cell_type": "code",
      "source": [
        "def solution(arr):\n",
        "    # 이 방법은 테스트 문제 1번에 시간초과 에러\n",
        "    # answer = [i for i in arr if i!=min(arr)]\n",
        "    # if answer==[]:\n",
        "    #     answer.append(-1)\n",
        "    \n",
        "    # 이 방법은 성공\n",
        "    if len(arr) >1:\n",
        "        arr.pop(arr.index(min(arr)))\n",
        "    else: arr = [-1]\n",
        "    return arr"
      ],
      "metadata": {
        "id": "Z3hzh-3R8t4d"
      },
      "execution_count": null,
      "outputs": []
    },
    {
      "cell_type": "code",
      "source": [
        "solution([4,3,2,1])"
      ],
      "metadata": {
        "colab": {
          "base_uri": "https://localhost:8080/"
        },
        "id": "LpGl1jFF6v5P",
        "outputId": "d3d2a493-219e-49d4-8f9b-af38e65afe2d"
      },
      "execution_count": null,
      "outputs": [
        {
          "output_type": "execute_result",
          "data": {
            "text/plain": [
              "[4, 3, 2]"
            ]
          },
          "metadata": {},
          "execution_count": 117
        }
      ]
    },
    {
      "cell_type": "code",
      "source": [
        "solution([10])"
      ],
      "metadata": {
        "colab": {
          "base_uri": "https://localhost:8080/"
        },
        "id": "g1Isz2Ob7ybx",
        "outputId": "ba9c73ed-137d-4a06-b081-6bf6b456dde9"
      },
      "execution_count": null,
      "outputs": [
        {
          "output_type": "execute_result",
          "data": {
            "text/plain": [
              "[-1]"
            ]
          },
          "metadata": {},
          "execution_count": 118
        }
      ]
    },
    {
      "cell_type": "markdown",
      "source": [
        "## 13. 없는 숫자 더하기[월간 코드 챌린지 시즌3] (2023.03.22)\n",
        "\n"
      ],
      "metadata": {
        "id": "Sk7rYawOAOJF"
      }
    },
    {
      "cell_type": "code",
      "source": [
        "def solution(numbers):\n",
        "    # 처음으로 다른 사람 풀이 1번이랑 똑같다!!\n",
        "    answer = 45 - sum(numbers)\n",
        "    return answer"
      ],
      "metadata": {
        "id": "rKLoEKg0_q5S"
      },
      "execution_count": null,
      "outputs": []
    },
    {
      "cell_type": "code",
      "source": [
        "solution([1,2,3,4,6,7,8,0])"
      ],
      "metadata": {
        "colab": {
          "base_uri": "https://localhost:8080/"
        },
        "id": "rPbHZ40EBlJB",
        "outputId": "32c5f660-afb4-4dcc-9b7b-cbefc24bdadb"
      },
      "execution_count": null,
      "outputs": [
        {
          "output_type": "execute_result",
          "data": {
            "text/plain": [
              "14"
            ]
          },
          "metadata": {},
          "execution_count": 122
        }
      ]
    },
    {
      "cell_type": "code",
      "source": [
        "solution([5,8,4,0,6,7,9])"
      ],
      "metadata": {
        "colab": {
          "base_uri": "https://localhost:8080/"
        },
        "id": "-WC2kS0NBsA_",
        "outputId": "880200ce-9492-47f4-8deb-0f6e78c131cd"
      },
      "execution_count": null,
      "outputs": [
        {
          "output_type": "execute_result",
          "data": {
            "text/plain": [
              "6"
            ]
          },
          "metadata": {},
          "execution_count": 123
        }
      ]
    },
    {
      "cell_type": "markdown",
      "source": [
        "## 14. 기사단원의 무기 (2023.03.23)"
      ],
      "metadata": {
        "id": "tX0w9VywCbXu"
      }
    },
    {
      "cell_type": "code",
      "source": [
        "def solution(number, limit, power):\n",
        "    real_power = []\n",
        "    answer = 0\n",
        "    for n in range(1,number+1):\n",
        "        cnt = 0\n",
        "        for i in range(1, int(n**(1/2))+1):\n",
        "            if (n%i==0):\n",
        "                cnt+=1\n",
        "                if (i**2)!=n: \n",
        "                    cnt+=1\n",
        "        real_power.append(cnt)\n",
        "\n",
        "    from collections import Counter\n",
        "    c = dict(Counter(real_power))\n",
        "    # 이렇게 하면 '런타임 에러'가 남ㅠㅠ  (c[p] = 0 처럼 하는게 인덱스 접근해서 에러날지도..?)\n",
        "    # for p in c:\n",
        "    #     if p > limit:\n",
        "    #         c[power] += c[p]\n",
        "    #         c[p] = 0\n",
        "    # answer = sum([p*v for p,v in c.items()]) \n",
        "    # 바꿔서 이렇게 풀어서 성공!!\n",
        "    for p in c:\n",
        "        if p > limit:\n",
        "            answer += c[p] * power\n",
        "        else:\n",
        "            answer += p * c[p]\n",
        "    return answer"
      ],
      "metadata": {
        "id": "FqLYJ0eCOpyD"
      },
      "execution_count": null,
      "outputs": []
    },
    {
      "cell_type": "code",
      "source": [
        "# 딕셔너리 사용하지 않고 리스트에서 바로 풀 수도 있음!!! (변수 적은게 좋으니 기존 변수 활용해서 풀도록 하자)\n",
        "def solution1(number, limit, power):\n",
        "    real_power = []\n",
        "    for n in range(1,number+1):\n",
        "        cnt = 0\n",
        "        for i in range(1, int(n**(1/2))+1):\n",
        "            if (n%i==0):\n",
        "                cnt+=1\n",
        "                if (i**2)!=n: \n",
        "                    cnt+=1\n",
        "        real_power.append(cnt)\n",
        "    return sum([power if p > limit else p for p in real_power])"
      ],
      "metadata": {
        "id": "UtbYkEZ9LHFm"
      },
      "execution_count": null,
      "outputs": []
    },
    {
      "cell_type": "code",
      "source": [
        "solution(5,3,2)"
      ],
      "metadata": {
        "colab": {
          "base_uri": "https://localhost:8080/"
        },
        "id": "oX7DD9O4PLue",
        "outputId": "61216ebb-604f-4208-eb73-038494b41528"
      },
      "execution_count": null,
      "outputs": [
        {
          "output_type": "execute_result",
          "data": {
            "text/plain": [
              "10"
            ]
          },
          "metadata": {},
          "execution_count": 14
        }
      ]
    },
    {
      "cell_type": "code",
      "source": [
        "solution1(5,3,2)"
      ],
      "metadata": {
        "colab": {
          "base_uri": "https://localhost:8080/"
        },
        "id": "3ocvNn0GR-Zd",
        "outputId": "d03c3964-2942-48dc-8e0f-65e5d355b0a9"
      },
      "execution_count": null,
      "outputs": [
        {
          "output_type": "execute_result",
          "data": {
            "text/plain": [
              "10"
            ]
          },
          "metadata": {},
          "execution_count": 42
        }
      ]
    },
    {
      "cell_type": "code",
      "source": [
        "solution(10,3,2)"
      ],
      "metadata": {
        "colab": {
          "base_uri": "https://localhost:8080/"
        },
        "id": "z1aCHwlqPPUm",
        "outputId": "8da8a22c-c9d9-4c42-a38e-b82a82c32f4e"
      },
      "execution_count": null,
      "outputs": [
        {
          "output_type": "execute_result",
          "data": {
            "text/plain": [
              "21"
            ]
          },
          "metadata": {},
          "execution_count": 15
        }
      ]
    },
    {
      "cell_type": "code",
      "source": [
        "solution1(10,3,2)"
      ],
      "metadata": {
        "colab": {
          "base_uri": "https://localhost:8080/"
        },
        "id": "fLoziEeXHvj8",
        "outputId": "157d043b-a286-4fd1-f9fa-00031f38049e"
      },
      "execution_count": null,
      "outputs": [
        {
          "output_type": "execute_result",
          "data": {
            "text/plain": [
              "21"
            ]
          },
          "metadata": {},
          "execution_count": 43
        }
      ]
    },
    {
      "cell_type": "code",
      "source": [],
      "metadata": {
        "id": "K815Rlxk2be3"
      },
      "execution_count": null,
      "outputs": []
    },
    {
      "cell_type": "markdown",
      "source": [
        "## 15. 핸드폰 번호 가리기 (2023.03.26)"
      ],
      "metadata": {
        "id": "daA3QRJjPBRz"
      }
    },
    {
      "cell_type": "code",
      "execution_count": null,
      "metadata": {
        "id": "t_XLn6H-OnDd"
      },
      "outputs": [],
      "source": [
        "def solution(phone_number):\n",
        "    return'*'*(len(phone_number)-4) + phone_number[-4:]"
      ]
    },
    {
      "cell_type": "code",
      "source": [
        "solution(\"01033334444\")"
      ],
      "metadata": {
        "colab": {
          "base_uri": "https://localhost:8080/",
          "height": 36
        },
        "id": "1sdM3hULPrlj",
        "outputId": "152bfb22-b97d-48e9-dcc8-e34e14921743"
      },
      "execution_count": null,
      "outputs": [
        {
          "output_type": "execute_result",
          "data": {
            "text/plain": [
              "'*******4444'"
            ],
            "application/vnd.google.colaboratory.intrinsic+json": {
              "type": "string"
            }
          },
          "metadata": {},
          "execution_count": 2
        }
      ]
    },
    {
      "cell_type": "code",
      "source": [
        "solution(\"027778888\")"
      ],
      "metadata": {
        "colab": {
          "base_uri": "https://localhost:8080/",
          "height": 36
        },
        "id": "XAicyhvQPv7a",
        "outputId": "a7505b18-2e71-4cf7-ee54-cac54f4de4c0"
      },
      "execution_count": null,
      "outputs": [
        {
          "output_type": "execute_result",
          "data": {
            "text/plain": [
              "'*****8888'"
            ],
            "application/vnd.google.colaboratory.intrinsic+json": {
              "type": "string"
            }
          },
          "metadata": {},
          "execution_count": 3
        }
      ]
    },
    {
      "cell_type": "markdown",
      "source": [
        "\n",
        "## 16. 이상한 문자 만들기 (2023.03.26)"
      ],
      "metadata": {
        "id": "S7mmqhqUP6bl"
      }
    },
    {
      "cell_type": "code",
      "source": [
        "def solution(ss):\n",
        "    '''슬라이싱 사용해서 대문자 대체'''\n",
        "    ss = ss.lower()\n",
        "    words = []\n",
        "    for s in ss.split(' '):\n",
        "        word = list(s)\n",
        "        word[::2] = s[::2].upper()\n",
        "        words.append(''.join(word))\n",
        "    return ' '.join(words)"
      ],
      "metadata": {
        "id": "QNaT7DHFPx_x"
      },
      "execution_count": null,
      "outputs": []
    },
    {
      "cell_type": "code",
      "source": [
        "solution(\"try hello world\")"
      ],
      "metadata": {
        "colab": {
          "base_uri": "https://localhost:8080/",
          "height": 36
        },
        "id": "44s4ujDdR4JU",
        "outputId": "7bcff61b-f92c-4e86-fac1-d7789496574e"
      },
      "execution_count": null,
      "outputs": [
        {
          "output_type": "execute_result",
          "data": {
            "text/plain": [
              "'TrY HeLlO WoRlD'"
            ],
            "application/vnd.google.colaboratory.intrinsic+json": {
              "type": "string"
            }
          },
          "metadata": {},
          "execution_count": 22
        }
      ]
    },
    {
      "cell_type": "code",
      "source": [
        "# 다른 사람 풀이\n",
        "def toWeirdCase(s):\n",
        "    '''2로 나눴을 때 나머지 확인하는 방법으로 짝수 인덱스 대문자 대체\n",
        "    map 사용하는 방법 확인하기!'''\n",
        "    return \" \".join(map(lambda x: \"\".join([a.lower() if i % 2 else a.upper() for i, a in enumerate(x)]), s.split(\" \")))"
      ],
      "metadata": {
        "id": "zOLXVLspU5G0"
      },
      "execution_count": null,
      "outputs": []
    },
    {
      "cell_type": "code",
      "source": [
        "s = \"try hello world\"\n",
        "print(list(map(lambda x: ([a.lower() if i % 2 else a.upper() for i, a in enumerate(x)]), s.split(\" \"))))\n",
        "print(list(map(lambda x: \"\".join([a.lower() if i % 2 else a.upper() for i, a in enumerate(x)]), s.split(\" \"))))\n",
        "print(\" \".join(map(lambda x: \"\".join([a.lower() if i % 2 else a.upper() for i, a in enumerate(x)]), s.split(\" \"))))"
      ],
      "metadata": {
        "colab": {
          "base_uri": "https://localhost:8080/"
        },
        "id": "y8n364NlTNMy",
        "outputId": "439fbb9f-d9bd-4ccb-9596-15bf14794df5"
      },
      "execution_count": null,
      "outputs": [
        {
          "output_type": "stream",
          "name": "stdout",
          "text": [
            "[['T', 'r', 'Y'], ['H', 'e', 'L', 'l', 'O'], ['W', 'o', 'R', 'l', 'D']]\n",
            "['TrY', 'HeLlO', 'WoRlD']\n",
            "TrY HeLlO WoRlD\n"
          ]
        }
      ]
    },
    {
      "cell_type": "markdown",
      "source": [
        "## 17. [1차] 비밀지도 (2018 KAKAO BLIND RECRUITMENT) (2023.03.27)"
      ],
      "metadata": {
        "id": "e2WHSq8UYiII"
      }
    },
    {
      "cell_type": "code",
      "source": [
        "def solution(n, arr1, arr2):\n",
        "    result = []\n",
        "    bin1 = [b[2:] if len(b)==n+2 else (n-len(b)+2)*'0'+b[2:] for b in list(map(bin, arr1))]\n",
        "    bin2 = [b[2:] if len(b)==n+2 else (n-len(b)+2)*'0'+b[2:] for b in list(map(bin, arr2))]\n",
        "    for b1,b2 in zip(bin1, bin2):\n",
        "        answer = []\n",
        "        for i in range(n):\n",
        "            if b1[i] == '1':\n",
        "                answer.append('#')\n",
        "            else:\n",
        "                if b2[i] == '0':\n",
        "                    answer.append(' ')\n",
        "                else:\n",
        "                    answer.append('#')\n",
        "        result.append(''.join(answer))\n",
        "    return result"
      ],
      "metadata": {
        "id": "fjt-fPPfwy-Q"
      },
      "execution_count": null,
      "outputs": []
    },
    {
      "cell_type": "code",
      "source": [
        "solution(5, [9, 20, 28, 18, 11], \t[30, 1, 21, 17, 28])"
      ],
      "metadata": {
        "colab": {
          "base_uri": "https://localhost:8080/"
        },
        "id": "vviw9qrZ8zNK",
        "outputId": "a62a3a33-cbd5-4b6c-a8c2-a622073789f9"
      },
      "execution_count": null,
      "outputs": [
        {
          "output_type": "execute_result",
          "data": {
            "text/plain": [
              "['#####', '# # #', '### #', '#  ##', '#####']"
            ]
          },
          "metadata": {},
          "execution_count": 51
        }
      ]
    },
    {
      "cell_type": "code",
      "source": [
        "# 다른 풀이\n",
        "def solution(n, arr1, arr2):\n",
        "    answer = []\n",
        "    for i,j in zip(arr1,arr2):\n",
        "        a12 = str(bin(i|j)[2:])\n",
        "        a12=a12.rjust(n,'0')\n",
        "        a12=a12.replace('1','#')\n",
        "        a12=a12.replace('0',' ')\n",
        "        answer.append(a12)\n",
        "    return answer"
      ],
      "metadata": {
        "id": "TJzDlMaGAgU4"
      },
      "execution_count": null,
      "outputs": []
    },
    {
      "cell_type": "code",
      "source": [
        "# ⭐️문자열 정리 함수들!! \n",
        "## rjust(len, 공백 채울 문자) : 오른쪽 정렬 with 원하는 문자\n",
        "val = \"77\".rjust(5, \"a\")\n",
        "print(val)\n",
        "\n",
        "## ljust(len, 공백 채울 문자) : 왼쪽 정렬 with 원하는 문자\n",
        "val = \"77\".ljust(5, \"a\")\n",
        "print(val)\n",
        "\n",
        "## zfill(len) : 왼쪽 정렬 with 0\n",
        "val = \"77\".zfill(5)\n",
        "print(val)"
      ],
      "metadata": {
        "colab": {
          "base_uri": "https://localhost:8080/"
        },
        "id": "Dd-0s2A1XLWr",
        "outputId": "acfae822-de3e-48a7-9e2e-1e8a96836e7e"
      },
      "execution_count": null,
      "outputs": [
        {
          "output_type": "stream",
          "name": "stdout",
          "text": [
            "aaa77\n",
            "77aaa\n",
            "00077\n"
          ]
        }
      ]
    },
    {
      "cell_type": "code",
      "source": [
        "# ⭐️비트연산자\n",
        "## AND(&) :  대응되는 두 비트가 모두 1일 때만 1을 반환하며, 다른 경우는 모두 0을 반환\n",
        "## OR(|) :  대응되는 두 비트 중 하나라도 1이면 1을 반환하며, 두 비트가 모두 0일 때만 0을 \n",
        "## XOR(^) : 대응되는 두 비트가 서로 다르면 1을 반환하고, 서로 같으면 0을 반환\n",
        "## NOT(~) : 하나의 비트에 대해서 해당 비트가 1이면 0을 반환하고, 0이면 1을 반환\n",
        "\n",
        "print('9  이진수:', bin(20))\n",
        "print('30 이진수:', bin(1))\n",
        "print('-'*20)\n",
        "print('OR 연산 이진수:', bin(20|1))"
      ],
      "metadata": {
        "colab": {
          "base_uri": "https://localhost:8080/"
        },
        "id": "ykJe4Fr5X50b",
        "outputId": "0f9f4756-61e2-4735-cd3b-0525c978eaae"
      },
      "execution_count": null,
      "outputs": [
        {
          "output_type": "stream",
          "name": "stdout",
          "text": [
            "9  이진수: 0b10100\n",
            "30 이진수: 0b1\n",
            "--------------------\n",
            "OR 연산 이진수: 0b10101\n"
          ]
        }
      ]
    },
    {
      "cell_type": "markdown",
      "source": [
        "## 18. 정수 제곱근 판별 (2023.04.06)"
      ],
      "metadata": {
        "id": "cjVvJslBdmN3"
      }
    },
    {
      "cell_type": "code",
      "source": [
        "def solution(n):\n",
        "    sqrt = n**(1/2)\n",
        "    if sqrt %1 == 0: # 제곱근이 정수이면\n",
        "        answer = (sqrt+1)**2\n",
        "    else: answer = -1\n",
        "    return answer"
      ],
      "metadata": {
        "id": "1nsGcnuMZH74"
      },
      "execution_count": null,
      "outputs": []
    },
    {
      "cell_type": "code",
      "source": [
        "solution(121)"
      ],
      "metadata": {
        "colab": {
          "base_uri": "https://localhost:8080/"
        },
        "id": "QvFFRnyYwd_A",
        "outputId": "6357f825-bdae-49cd-8dc0-ae7c3cd1a8c7"
      },
      "execution_count": null,
      "outputs": [
        {
          "output_type": "execute_result",
          "data": {
            "text/plain": [
              "144.0"
            ]
          },
          "metadata": {},
          "execution_count": 8
        }
      ]
    },
    {
      "cell_type": "code",
      "source": [
        "solution(3)"
      ],
      "metadata": {
        "colab": {
          "base_uri": "https://localhost:8080/"
        },
        "id": "vcMbt0Ydwhem",
        "outputId": "9a95fbc3-14c1-49e9-a872-f41d8a6df111"
      },
      "execution_count": null,
      "outputs": [
        {
          "output_type": "execute_result",
          "data": {
            "text/plain": [
              "-1"
            ]
          },
          "metadata": {},
          "execution_count": 9
        }
      ]
    },
    {
      "cell_type": "markdown",
      "source": [
        "## 19. 자연수 뒤집어 배열로 만들기 (2023.04.06)"
      ],
      "metadata": {
        "id": "BufqMA1Zw9Gv"
      }
    },
    {
      "cell_type": "code",
      "source": [
        "def solution(n):\n",
        "    return list(map(int, str(n)))[::-1]"
      ],
      "metadata": {
        "id": "z7hmEwMFwiMJ"
      },
      "execution_count": null,
      "outputs": []
    },
    {
      "cell_type": "code",
      "source": [
        "solution(12345)"
      ],
      "metadata": {
        "colab": {
          "base_uri": "https://localhost:8080/"
        },
        "id": "QVlLpGkYxFp2",
        "outputId": "cd23d64e-03c1-4977-a4fd-ca0903b96cc7"
      },
      "execution_count": null,
      "outputs": [
        {
          "output_type": "execute_result",
          "data": {
            "text/plain": [
              "[5, 4, 3, 2, 1]"
            ]
          },
          "metadata": {},
          "execution_count": 31
        }
      ]
    },
    {
      "cell_type": "code",
      "source": [
        "# 다른 풀이\n",
        "## [::-1] 대신에 reversed() 사용할 수 있음!!\n",
        "def digit_reverse(n):\n",
        "    return list(map(int, reversed(str(n))))"
      ],
      "metadata": {
        "id": "JfGzGlLdx3Tp"
      },
      "execution_count": null,
      "outputs": []
    },
    {
      "cell_type": "code",
      "source": [
        "digit_reverse(12345)"
      ],
      "metadata": {
        "colab": {
          "base_uri": "https://localhost:8080/"
        },
        "id": "D78k9u33zbjz",
        "outputId": "e57ce7c3-e095-4c31-89e6-7d6f51fafe26"
      },
      "execution_count": null,
      "outputs": [
        {
          "output_type": "execute_result",
          "data": {
            "text/plain": [
              "[5, 4, 3, 2, 1]"
            ]
          },
          "metadata": {},
          "execution_count": 36
        }
      ]
    },
    {
      "cell_type": "markdown",
      "source": [
        "## 20. 정수 내림차순으로 배치하기 (2023.04.06)"
      ],
      "metadata": {
        "id": "T--_2c63znn2"
      }
    },
    {
      "cell_type": "code",
      "source": [
        "def solution(n):\n",
        "    return int(''.join(sorted(list(str(n)), reverse=True)))"
      ],
      "metadata": {
        "id": "isg2edp9zcnJ"
      },
      "execution_count": null,
      "outputs": []
    },
    {
      "cell_type": "code",
      "source": [
        "solution(118372)"
      ],
      "metadata": {
        "colab": {
          "base_uri": "https://localhost:8080/"
        },
        "id": "Vo0J_Habzzx1",
        "outputId": "bb1752b1-42de-4ecf-ace7-d1f665a318d5"
      },
      "execution_count": null,
      "outputs": [
        {
          "output_type": "execute_result",
          "data": {
            "text/plain": [
              "873211"
            ]
          },
          "metadata": {},
          "execution_count": 45
        }
      ]
    },
    {
      "cell_type": "markdown",
      "source": [
        "## 21. 문자열을 정수로 바꾸기 (2023.04.07)"
      ],
      "metadata": {
        "id": "ZjZiVtvK1Zo-"
      }
    },
    {
      "cell_type": "code",
      "source": [
        "def solution(s):\n",
        "    return int(s)"
      ],
      "metadata": {
        "id": "bb6x_9fk0GD7"
      },
      "execution_count": null,
      "outputs": []
    },
    {
      "cell_type": "code",
      "source": [
        "solution(\"1234\")"
      ],
      "metadata": {
        "colab": {
          "base_uri": "https://localhost:8080/"
        },
        "id": "upsxmMJw1cak",
        "outputId": "df4b992b-e6c6-4f5c-d477-31ad6d54e4e5"
      },
      "execution_count": null,
      "outputs": [
        {
          "output_type": "execute_result",
          "data": {
            "text/plain": [
              "1234"
            ]
          },
          "metadata": {},
          "execution_count": 51
        }
      ]
    },
    {
      "cell_type": "code",
      "source": [
        "solution(\"-1234\")"
      ],
      "metadata": {
        "colab": {
          "base_uri": "https://localhost:8080/"
        },
        "id": "uvcjT9S_1kt_",
        "outputId": "06d8c097-0336-4ae1-dba8-62b836be83d5"
      },
      "execution_count": null,
      "outputs": [
        {
          "output_type": "execute_result",
          "data": {
            "text/plain": [
              "-1234"
            ]
          },
          "metadata": {},
          "execution_count": 52
        }
      ]
    },
    {
      "cell_type": "markdown",
      "source": [
        "## 22. 두 정수 사이의 합 (2023.04.07)"
      ],
      "metadata": {
        "id": "4k23v78l3CRy"
      }
    },
    {
      "cell_type": "code",
      "source": [
        "def solution(a, b):\n",
        "    answer = 0\n",
        "    if a<=b:\n",
        "        for i in range(a,b+1):\n",
        "            answer+=i\n",
        "    else:\n",
        "        for i in range(b,a+1):\n",
        "            answer+=i\n",
        "    return answer"
      ],
      "metadata": {
        "id": "-GR-HfOA2i8k"
      },
      "execution_count": null,
      "outputs": []
    },
    {
      "cell_type": "code",
      "source": [
        "# 다른 풀이\n",
        "## if..else 필요 없이 a,b 값 대치해주기\n",
        "def solution(a, b):\n",
        "    answer = 0\n",
        "    if a>b:\n",
        "        a, b = b, a\n",
        "    return sum(range(a, b + 1))"
      ],
      "metadata": {
        "id": "LiF6t0qC4aec"
      },
      "execution_count": null,
      "outputs": []
    },
    {
      "cell_type": "code",
      "source": [
        "# 다른 풀이\n",
        "## 수학 공식\n",
        "def solution(a, b):\n",
        "    return (abs(a-b)+1)*(a+b)//2"
      ],
      "metadata": {
        "id": "5MpQc4Sg5W22"
      },
      "execution_count": null,
      "outputs": []
    },
    {
      "cell_type": "code",
      "source": [
        "solution(3,5)"
      ],
      "metadata": {
        "colab": {
          "base_uri": "https://localhost:8080/"
        },
        "id": "uaWqZuuu3H1b",
        "outputId": "73f3d99d-3fce-4ae8-ac4f-efb6f73f0e60"
      },
      "execution_count": null,
      "outputs": [
        {
          "output_type": "execute_result",
          "data": {
            "text/plain": [
              "12"
            ]
          },
          "metadata": {},
          "execution_count": 67
        }
      ]
    },
    {
      "cell_type": "code",
      "source": [
        "solution(3,3)"
      ],
      "metadata": {
        "colab": {
          "base_uri": "https://localhost:8080/"
        },
        "id": "TwG7P9z-3bp8",
        "outputId": "4604b506-0ea1-4e4f-fdee-bc736c06ec16"
      },
      "execution_count": null,
      "outputs": [
        {
          "output_type": "execute_result",
          "data": {
            "text/plain": [
              "3"
            ]
          },
          "metadata": {},
          "execution_count": 68
        }
      ]
    },
    {
      "cell_type": "code",
      "source": [
        "solution(5,3)"
      ],
      "metadata": {
        "colab": {
          "base_uri": "https://localhost:8080/"
        },
        "id": "G0ffX2Cq3p9i",
        "outputId": "9d7e2448-82b7-4037-9367-b71229d8bfa7"
      },
      "execution_count": null,
      "outputs": [
        {
          "output_type": "execute_result",
          "data": {
            "text/plain": [
              "12"
            ]
          },
          "metadata": {},
          "execution_count": 69
        }
      ]
    },
    {
      "cell_type": "markdown",
      "source": [
        "## 23. 같은 숫자는 싫어 (2023.04.14)"
      ],
      "metadata": {
        "id": "hixo25gI82if"
      }
    },
    {
      "cell_type": "code",
      "source": [
        "def solution(arr):\n",
        "  result = []\n",
        "  result.append(arr[0])\n",
        "  for i in range(1,len(arr)):\n",
        "    if result[-1] != arr[i]:\n",
        "      result.append(arr[i])\n",
        "  return result"
      ],
      "metadata": {
        "id": "zflT0aci85hT"
      },
      "execution_count": null,
      "outputs": []
    },
    {
      "cell_type": "code",
      "source": [
        "solution([1,1,3,3,0,1,1])"
      ],
      "metadata": {
        "colab": {
          "base_uri": "https://localhost:8080/"
        },
        "id": "B_ssTQNB85RN",
        "outputId": "c9d57140-c43a-4825-a6bb-df37a9039da4"
      },
      "execution_count": null,
      "outputs": [
        {
          "output_type": "execute_result",
          "data": {
            "text/plain": [
              "[1, 3, 0, 1]"
            ]
          },
          "metadata": {},
          "execution_count": 13
        }
      ]
    },
    {
      "cell_type": "code",
      "source": [
        "solution([4,4,4,3,3])"
      ],
      "metadata": {
        "colab": {
          "base_uri": "https://localhost:8080/"
        },
        "id": "2GpHEQ9N85By",
        "outputId": "84ea0da1-1558-4343-b840-bb605f9c913f"
      },
      "execution_count": null,
      "outputs": [
        {
          "output_type": "execute_result",
          "data": {
            "text/plain": [
              "[4, 3]"
            ]
          },
          "metadata": {},
          "execution_count": 14
        }
      ]
    },
    {
      "cell_type": "markdown",
      "source": [
        "## 24. 크레인 인형뽑기 게임 (2023.04.19)"
      ],
      "metadata": {
        "id": "ulelVTiK8-Wu"
      }
    },
    {
      "cell_type": "code",
      "source": [
        "def solution(board, moves):\n",
        "    answer = 0\n",
        "    N = len(board)\n",
        "    stack = []\n",
        "    # moves 반복문\n",
        "    for move in moves:\n",
        "        # move 위치 맨 윗칸부터 스캔해서 인형 stack에 넣기\n",
        "        for i in range(N):\n",
        "            if board[i][move-1]>0:\n",
        "                stack.append(board[i][move-1])\n",
        "                board[i][move-1] = 0\n",
        "                break\n",
        "        # stack에서 같은 인형 2개 만나면 없애고 카운트 올리기\n",
        "        if len(stack)>=2:\n",
        "            if stack[-2:-1]==stack[-1:]:\n",
        "                stack = stack[:-2]\n",
        "                answer+=2\n",
        "    return answer"
      ],
      "metadata": {
        "id": "Ib9KNJvEx0l0"
      },
      "execution_count": null,
      "outputs": []
    },
    {
      "cell_type": "code",
      "source": [
        "solution([[0,0,0,0,0],[0,0,1,0,3],[0,2,5,0,1],[4,2,4,4,2],[3,5,1,3,1]], \n",
        "         [1,5,3,5,1,2,1,4])"
      ],
      "metadata": {
        "colab": {
          "base_uri": "https://localhost:8080/"
        },
        "id": "KFkUfGlmq-Xx",
        "outputId": "b7780d8f-6376-4bfa-832e-7cafb1c3d5fa"
      },
      "execution_count": null,
      "outputs": [
        {
          "output_type": "execute_result",
          "data": {
            "text/plain": [
              "4"
            ]
          },
          "metadata": {},
          "execution_count": 16
        }
      ]
    },
    {
      "cell_type": "code",
      "source": [
        "solution([[0,0],[0,0]],[1])"
      ],
      "metadata": {
        "colab": {
          "base_uri": "https://localhost:8080/"
        },
        "id": "UGWL8YPev7Pj",
        "outputId": "adc9ee0d-6179-4b69-8d66-c5b08a9708f3"
      },
      "execution_count": null,
      "outputs": [
        {
          "output_type": "execute_result",
          "data": {
            "text/plain": [
              "0"
            ]
          },
          "metadata": {},
          "execution_count": 17
        }
      ]
    },
    {
      "cell_type": "markdown",
      "source": [
        "## 25. K번째 수 (2023.04.22)"
      ],
      "metadata": {
        "id": "qCOz6vss9RVE"
      }
    },
    {
      "cell_type": "code",
      "source": [
        "def solution(array, commands):\n",
        "    return [sorted(array[lst[0]-1:lst[1]])[lst[2]-1] for lst in commands]"
      ],
      "metadata": {
        "id": "caIoIvxjq9eQ"
      },
      "execution_count": null,
      "outputs": []
    },
    {
      "cell_type": "code",
      "source": [
        "# 다른 풀이 : 리스트 컴프리헨션 말고 map으로도!\n",
        "def solution(array, commands):\n",
        "    return list(map(lambda x: sorted(array[x[0]-1:x[1]])[x[2]-1], commands))"
      ],
      "metadata": {
        "id": "VQIyt6dsJAp2"
      },
      "execution_count": null,
      "outputs": []
    },
    {
      "cell_type": "code",
      "source": [
        "solution([1, 5, 2, 6, 3, 7, 4], [[2, 5, 3], [4, 4, 1], [1, 7, 3]])"
      ],
      "metadata": {
        "colab": {
          "base_uri": "https://localhost:8080/"
        },
        "id": "xGLca8VxI3L1",
        "outputId": "afc2f947-bab9-43cd-8cc3-7dc6b1073183"
      },
      "execution_count": null,
      "outputs": [
        {
          "output_type": "execute_result",
          "data": {
            "text/plain": [
              "[5, 6, 3]"
            ]
          },
          "metadata": {},
          "execution_count": 5
        }
      ]
    },
    {
      "cell_type": "markdown",
      "source": [
        "## 26. 음양 더하기 (2023.05.16)"
      ],
      "metadata": {
        "id": "E0xQCkAI29sU"
      }
    },
    {
      "cell_type": "code",
      "source": [
        "def solution(absolutes, signs):\n",
        "    answer = 0\n",
        "    for i in range(len(signs)):\n",
        "        if signs[i]:\n",
        "            answer += absolutes[i]\n",
        "        else:\n",
        "            answer -= absolutes[i]\n",
        "    return answer"
      ],
      "metadata": {
        "id": "7Cm8vWD77V39"
      },
      "execution_count": null,
      "outputs": []
    },
    {
      "cell_type": "code",
      "source": [
        "solution([4,7,12], [True,False,True])"
      ],
      "metadata": {
        "colab": {
          "base_uri": "https://localhost:8080/"
        },
        "id": "t9oXffOD7Xm8",
        "outputId": "3ca20521-43b4-4978-8a27-bdace3379950"
      },
      "execution_count": null,
      "outputs": [
        {
          "output_type": "execute_result",
          "data": {
            "text/plain": [
              "9"
            ]
          },
          "metadata": {},
          "execution_count": 3
        }
      ]
    },
    {
      "cell_type": "code",
      "source": [
        "solution([1,2,3], [False,False,True])"
      ],
      "metadata": {
        "colab": {
          "base_uri": "https://localhost:8080/"
        },
        "id": "PRTnPUpL7cJa",
        "outputId": "3c10c0cf-6762-4ffd-85b3-259718e6a7f9"
      },
      "execution_count": null,
      "outputs": [
        {
          "output_type": "execute_result",
          "data": {
            "text/plain": [
              "0"
            ]
          },
          "metadata": {},
          "execution_count": 4
        }
      ]
    },
    {
      "cell_type": "code",
      "source": [
        "### zip 사용하기!\n",
        "def solution(absolutes, signs):\n",
        "    answer = [num if sign else -num for num, sign in zip(absolutes, signs)]\n",
        "    return sum(answer)"
      ],
      "metadata": {
        "id": "eWKtuiEQ7lLQ"
      },
      "execution_count": null,
      "outputs": []
    },
    {
      "cell_type": "code",
      "source": [
        "solution([4,7,12], [True,False,True])"
      ],
      "metadata": {
        "colab": {
          "base_uri": "https://localhost:8080/"
        },
        "id": "nPCc9s5_8GkN",
        "outputId": "36eb96a8-81a7-42e7-cecb-5ed9c85e6e89"
      },
      "execution_count": null,
      "outputs": [
        {
          "output_type": "execute_result",
          "data": {
            "text/plain": [
              "9"
            ]
          },
          "metadata": {},
          "execution_count": 10
        }
      ]
    },
    {
      "cell_type": "code",
      "source": [
        "solution([1,2,3], [False,False,True])"
      ],
      "metadata": {
        "colab": {
          "base_uri": "https://localhost:8080/"
        },
        "id": "vHGjSMHf8HlE",
        "outputId": "12dccd9c-1794-42f8-8760-ba26f3b49ae8"
      },
      "execution_count": null,
      "outputs": [
        {
          "output_type": "execute_result",
          "data": {
            "text/plain": [
              "0"
            ]
          },
          "metadata": {},
          "execution_count": 11
        }
      ]
    },
    {
      "cell_type": "markdown",
      "source": [
        "## 27. 삼총사 (2023.05.16)"
      ],
      "metadata": {
        "id": "cBcK-cpZ-YPm"
      }
    },
    {
      "cell_type": "code",
      "source": [
        "def solution(number):\n",
        "    answer = 0\n",
        "    from itertools import combinations\n",
        "    for p in list(combinations(number, 3)):\n",
        "        if sum(p)==0:\n",
        "            answer+=1\n",
        "    return answer"
      ],
      "metadata": {
        "id": "AOudah2o8PDa"
      },
      "execution_count": null,
      "outputs": []
    },
    {
      "cell_type": "code",
      "source": [
        "solution([-2, 3, 0, 2, -5])"
      ],
      "metadata": {
        "colab": {
          "base_uri": "https://localhost:8080/"
        },
        "id": "-6CORzR0BMBU",
        "outputId": "3847d2ca-cf69-436d-dbb6-875bd27bd2fe"
      },
      "execution_count": null,
      "outputs": [
        {
          "output_type": "execute_result",
          "data": {
            "text/plain": [
              "2"
            ]
          },
          "metadata": {},
          "execution_count": 19
        }
      ]
    },
    {
      "cell_type": "code",
      "source": [
        "solution([-3, -2, -1, 0, 1, 2, 3])"
      ],
      "metadata": {
        "colab": {
          "base_uri": "https://localhost:8080/"
        },
        "id": "RWH9wYeHBOw7",
        "outputId": "95a05580-41af-497f-82f1-b2e91ef39b81"
      },
      "execution_count": null,
      "outputs": [
        {
          "output_type": "execute_result",
          "data": {
            "text/plain": [
              "5"
            ]
          },
          "metadata": {},
          "execution_count": 20
        }
      ]
    },
    {
      "cell_type": "code",
      "source": [
        "solution([-1, 1, -1, 1])"
      ],
      "metadata": {
        "id": "OGWZwV87BRMx",
        "outputId": "6c387209-6363-4b68-d96a-d89b2fd2cbcd",
        "colab": {
          "base_uri": "https://localhost:8080/"
        }
      },
      "execution_count": null,
      "outputs": [
        {
          "output_type": "execute_result",
          "data": {
            "text/plain": [
              "0"
            ]
          },
          "metadata": {},
          "execution_count": 21
        }
      ]
    },
    {
      "cell_type": "markdown",
      "source": [
        "## 28. 최소직사각형 (2023.05.25)\n",
        "- 완전탐색"
      ],
      "metadata": {
        "id": "GRhDJ1RysqMU"
      }
    },
    {
      "cell_type": "code",
      "source": [
        "def solution(sizes):\n",
        "    w = [i for i,j in sizes] # 가로\n",
        "    l = [j for i,j in sizes] # 세로\n",
        "    # 최대값\n",
        "    max_wl = max([max(w), max(l)])\n",
        "    if max_wl in w:  # 가로 < 세로인 경우, 서로 바꾸기\n",
        "        for i in range(len(w)):\n",
        "            if (w[i]!=max_wl) & (w[i]<l[i]):\n",
        "                w[i], l[i] = l[i], w[i]\n",
        "        answer = max_wl * max(l)\n",
        "    else:            # 세로 < 가로인 경우, 서로 바꾸기\n",
        "        for i in range(len(l)):\n",
        "            if (l[i]!=max_wl) & (w[i]>l[i]):\n",
        "                w[i], l[i] = l[i], w[i]\n",
        "        answer = max_wl * max(w)\n",
        "    return answer"
      ],
      "metadata": {
        "id": "qglfkBvSNtZi"
      },
      "execution_count": null,
      "outputs": []
    },
    {
      "cell_type": "code",
      "source": [
        "solution([[60, 50], [30, 70], [60, 30], [80, 40]])"
      ],
      "metadata": {
        "colab": {
          "base_uri": "https://localhost:8080/"
        },
        "id": "JPlF82bkN47S",
        "outputId": "6e10dfd1-e99b-43f2-93b1-b81c9e598f50"
      },
      "execution_count": null,
      "outputs": [
        {
          "output_type": "execute_result",
          "data": {
            "text/plain": [
              "4000"
            ]
          },
          "metadata": {},
          "execution_count": 4
        }
      ]
    },
    {
      "cell_type": "code",
      "source": [
        "solution([[10, 7], [12, 3], [8, 15], [14, 7], [5, 15]])"
      ],
      "metadata": {
        "colab": {
          "base_uri": "https://localhost:8080/"
        },
        "id": "GncS7gX3N8x1",
        "outputId": "4f8a56cd-fac1-48d3-f694-1af6e777fa8a"
      },
      "execution_count": null,
      "outputs": [
        {
          "output_type": "execute_result",
          "data": {
            "text/plain": [
              "120"
            ]
          },
          "metadata": {},
          "execution_count": 5
        }
      ]
    },
    {
      "cell_type": "code",
      "source": [
        "solution([[14, 4], [19, 6], [6, 16], [18, 7], [7, 11]])"
      ],
      "metadata": {
        "colab": {
          "base_uri": "https://localhost:8080/"
        },
        "id": "kkj6UcKNN_iS",
        "outputId": "56f897b4-942a-42b8-f7ab-10c75393c800"
      },
      "execution_count": null,
      "outputs": [
        {
          "output_type": "execute_result",
          "data": {
            "text/plain": [
              "133"
            ]
          },
          "metadata": {},
          "execution_count": 6
        }
      ]
    },
    {
      "cell_type": "code",
      "source": [
        "# 다른 사람 풀이 - 그냥 max * min 하면 되는 거였다..!\n",
        "def solution(sizes):\n",
        "    return max(max(x) for x in sizes) * max(min(x) for x in sizes)"
      ],
      "metadata": {
        "id": "nCM7RF57BTLn"
      },
      "execution_count": null,
      "outputs": []
    },
    {
      "cell_type": "markdown",
      "source": [
        "## 29. x만큼 간격이 있는 n개의 숫자 (2023.05.30)"
      ],
      "metadata": {
        "id": "ocecgKOoHEOv"
      }
    },
    {
      "cell_type": "code",
      "source": [
        "def solution(x, n):\n",
        "    answer = [x*i for i in range(1,n+1)]\n",
        "    return answer"
      ],
      "metadata": {
        "id": "Gm3pYvInHPrt"
      },
      "execution_count": null,
      "outputs": []
    },
    {
      "cell_type": "code",
      "source": [
        "solution(2,5)"
      ],
      "metadata": {
        "colab": {
          "base_uri": "https://localhost:8080/"
        },
        "id": "HJfSZtGbHSp_",
        "outputId": "7f97dfdd-8588-4cf3-abab-18e2862e6e9f"
      },
      "execution_count": null,
      "outputs": [
        {
          "output_type": "execute_result",
          "data": {
            "text/plain": [
              "[2, 4, 6, 8, 10]"
            ]
          },
          "metadata": {},
          "execution_count": 2
        }
      ]
    },
    {
      "cell_type": "code",
      "source": [
        "solution(4,3)"
      ],
      "metadata": {
        "colab": {
          "base_uri": "https://localhost:8080/"
        },
        "id": "rTrinpUjHV9w",
        "outputId": "32756ae4-c6f6-400e-e222-2d742becc5b0"
      },
      "execution_count": null,
      "outputs": [
        {
          "output_type": "execute_result",
          "data": {
            "text/plain": [
              "[4, 8, 12]"
            ]
          },
          "metadata": {},
          "execution_count": 3
        }
      ]
    },
    {
      "cell_type": "code",
      "source": [
        "solution(-4,2)"
      ],
      "metadata": {
        "colab": {
          "base_uri": "https://localhost:8080/"
        },
        "id": "R4F9N2xOHWwn",
        "outputId": "a3e2f143-7d42-419a-bc29-d03dc797574b"
      },
      "execution_count": null,
      "outputs": [
        {
          "output_type": "execute_result",
          "data": {
            "text/plain": [
              "[-4, -8]"
            ]
          },
          "metadata": {},
          "execution_count": 4
        }
      ]
    },
    {
      "cell_type": "markdown",
      "source": [
        "## 30. 예산 (2023.06.01)\n",
        "- Summer/Winter Coding(~2018)"
      ],
      "metadata": {
        "id": "g6kjBcJyHZZ9"
      }
    },
    {
      "cell_type": "code",
      "source": [
        "def solution(d, budget):\n",
        "    answer = sum(d)  \n",
        "    d_sum = [answer] \n",
        "    i = 0           \n",
        "    new_d = sorted(d, reverse=True)\n",
        "    while d_sum[-1]>budget:\n",
        "        answer -= new_d[i]\n",
        "        d_sum.append(answer)\n",
        "        i+=1\n",
        "    return len(d)-i"
      ],
      "metadata": {
        "id": "1N3UhBI2HYtw"
      },
      "execution_count": 1,
      "outputs": []
    },
    {
      "cell_type": "code",
      "source": [
        "solution([1,3,2,5,4],9)"
      ],
      "metadata": {
        "colab": {
          "base_uri": "https://localhost:8080/"
        },
        "id": "ZQx11VjmpuM4",
        "outputId": "6685b5ea-8fe5-4880-ca17-4cd40e37c1ad"
      },
      "execution_count": 5,
      "outputs": [
        {
          "output_type": "execute_result",
          "data": {
            "text/plain": [
              "3"
            ]
          },
          "metadata": {},
          "execution_count": 5
        }
      ]
    },
    {
      "cell_type": "code",
      "source": [
        "solution([2,2,3,3],10)"
      ],
      "metadata": {
        "colab": {
          "base_uri": "https://localhost:8080/"
        },
        "id": "YH3l5lDnpyEf",
        "outputId": "e94734e4-ae37-4208-8081-34189abd0f28"
      },
      "execution_count": 6,
      "outputs": [
        {
          "output_type": "execute_result",
          "data": {
            "text/plain": [
              "4"
            ]
          },
          "metadata": {},
          "execution_count": 6
        }
      ]
    },
    {
      "cell_type": "code",
      "source": [
        "def solution(d, budget):\n",
        "    d.sort()\n",
        "    while budget < sum(d):\n",
        "        d.pop()\n",
        "    return len(d)"
      ],
      "metadata": {
        "id": "pMlSp842qtUS"
      },
      "execution_count": 4,
      "outputs": []
    },
    {
      "cell_type": "markdown",
      "source": [
        "## 31. 콜라 문제 (2023.06.01)"
      ],
      "metadata": {
        "id": "saGwhllsrBth"
      }
    },
    {
      "cell_type": "code",
      "source": [
        "def solution(a, b, n):\n",
        "    answer = 0\n",
        "    while n>=a:\n",
        "        answer += (n//a)*b  # 빈병 주고 새로 받은 콜라 누계\n",
        "        n = (n//a)*b + n%a  # 새로 받은 콜라 + 남은 빈병\n",
        "    return answer"
      ],
      "metadata": {
        "id": "JA2XUyMmp17i"
      },
      "execution_count": 7,
      "outputs": []
    },
    {
      "cell_type": "code",
      "source": [
        "solution(2,1,20)"
      ],
      "metadata": {
        "colab": {
          "base_uri": "https://localhost:8080/"
        },
        "id": "DEXW1UZ30Qx6",
        "outputId": "5e36c8eb-b539-4a19-fa95-da0554cb5d6f"
      },
      "execution_count": 8,
      "outputs": [
        {
          "output_type": "execute_result",
          "data": {
            "text/plain": [
              "19"
            ]
          },
          "metadata": {},
          "execution_count": 8
        }
      ]
    },
    {
      "cell_type": "code",
      "source": [
        "solution(3,1,20)"
      ],
      "metadata": {
        "colab": {
          "base_uri": "https://localhost:8080/"
        },
        "id": "mGo63itL0USV",
        "outputId": "3d86cb7e-07c1-4925-ea90-20ea8e2e11d6"
      },
      "execution_count": 9,
      "outputs": [
        {
          "output_type": "execute_result",
          "data": {
            "text/plain": [
              "9"
            ]
          },
          "metadata": {},
          "execution_count": 9
        }
      ]
    },
    {
      "cell_type": "code",
      "source": [],
      "metadata": {
        "id": "i8B5YqH40WZ8"
      },
      "execution_count": null,
      "outputs": []
    }
  ]
}