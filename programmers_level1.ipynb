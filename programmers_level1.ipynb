{
  "nbformat": 4,
  "nbformat_minor": 0,
  "metadata": {
    "colab": {
      "provenance": [],
      "authorship_tag": "ABX9TyMGndgUy/1hFMpQ0aFy6HwD"
    },
    "kernelspec": {
      "name": "python3",
      "display_name": "Python 3"
    },
    "language_info": {
      "name": "python"
    }
  },
  "cells": [
    {
      "cell_type": "markdown",
      "source": [
        "## 1. 문자열 다루기 기본\n",
        "\n"
      ],
      "metadata": {
        "id": "udqcx4-iocww"
      }
    },
    {
      "cell_type": "code",
      "source": [
        "# 내 풀이\n",
        "def solution(s):\n",
        "    try:\n",
        "        int(s)\n",
        "        if len(s) == 4 or len(s) == 6:\n",
        "            answer = True\n",
        "        else: \n",
        "            answer = False\n",
        "    except: \n",
        "        answer = False\n",
        "    return answer"
      ],
      "metadata": {
        "id": "0V3NnVlBowen"
      },
      "execution_count": null,
      "outputs": []
    },
    {
      "cell_type": "code",
      "source": [
        "solution(\"a234\")"
      ],
      "metadata": {
        "colab": {
          "base_uri": "https://localhost:8080/"
        },
        "id": "6ns9AjUd2uqC",
        "outputId": "577ecb17-6fec-4027-c6ff-ed8f8568b74f"
      },
      "execution_count": null,
      "outputs": [
        {
          "output_type": "execute_result",
          "data": {
            "text/plain": [
              "False"
            ]
          },
          "metadata": {},
          "execution_count": 8
        }
      ]
    },
    {
      "cell_type": "code",
      "source": [
        "solution(\"1234\")"
      ],
      "metadata": {
        "colab": {
          "base_uri": "https://localhost:8080/"
        },
        "id": "1PJh16MC2uOD",
        "outputId": "28e190f5-b34d-4a69-f62f-33d0617bf663"
      },
      "execution_count": null,
      "outputs": [
        {
          "output_type": "execute_result",
          "data": {
            "text/plain": [
              "True"
            ]
          },
          "metadata": {},
          "execution_count": 9
        }
      ]
    },
    {
      "cell_type": "code",
      "source": [
        "# 프로그래머스 best 풀이\n",
        "def solution(s):\n",
        "    return s.isdigit() and len(s) in [4,6]"
      ],
      "metadata": {
        "id": "1P_LUX8nqC6N"
      },
      "execution_count": null,
      "outputs": []
    },
    {
      "cell_type": "markdown",
      "source": [
        "## 2. 문자열 내 p와 y의 개수"
      ],
      "metadata": {
        "id": "gVXEnOyEqVUP"
      }
    },
    {
      "cell_type": "code",
      "source": [
        "def solution(s):\n",
        "    s = s.lower()\n",
        "    if s.count('p')==s.count('y'):\n",
        "        answer = True\n",
        "    else: \n",
        "        answer = False\n",
        "    return answer"
      ],
      "metadata": {
        "id": "v9lxidvUqPpO"
      },
      "execution_count": null,
      "outputs": []
    },
    {
      "cell_type": "code",
      "source": [
        "solution(\"pPoooyY\")"
      ],
      "metadata": {
        "colab": {
          "base_uri": "https://localhost:8080/"
        },
        "id": "jcvZ_JHp2gkc",
        "outputId": "ebc9e96d-a84f-43bd-f5bd-ecb0c64db7c6"
      },
      "execution_count": null,
      "outputs": [
        {
          "output_type": "execute_result",
          "data": {
            "text/plain": [
              "True"
            ]
          },
          "metadata": {},
          "execution_count": 38
        }
      ]
    },
    {
      "cell_type": "code",
      "source": [
        "solution(\"Pyy\")"
      ],
      "metadata": {
        "colab": {
          "base_uri": "https://localhost:8080/"
        },
        "id": "kjJueOqj2knm",
        "outputId": "d599ecaa-42b2-4cc0-ceec-466a8039e1f4"
      },
      "execution_count": null,
      "outputs": [
        {
          "output_type": "execute_result",
          "data": {
            "text/plain": [
              "False"
            ]
          },
          "metadata": {},
          "execution_count": 39
        }
      ]
    },
    {
      "cell_type": "code",
      "source": [
        "# 프로그래머스 best 풀이\n",
        "def numPY(s):\n",
        "    # 함수를 완성하세요\n",
        "    return s.lower().count('p') == s.lower().count('y')"
      ],
      "metadata": {
        "id": "eqyB_4BZ4cF1"
      },
      "execution_count": null,
      "outputs": []
    },
    {
      "cell_type": "markdown",
      "source": [
        "## 3. 하샤드 수\n"
      ],
      "metadata": {
        "id": "yJnRn4vO6Tzt"
      }
    },
    {
      "cell_type": "code",
      "source": [
        "def solution(x):\n",
        "    s = str(x)\n",
        "    sum = 0\n",
        "    for i in range(len(s)):\n",
        "       sum += int(s[i])\n",
        "    return x%sum == 0"
      ],
      "metadata": {
        "id": "DPkcEOn26qax"
      },
      "execution_count": null,
      "outputs": []
    },
    {
      "cell_type": "code",
      "source": [
        "solution(10)"
      ],
      "metadata": {
        "colab": {
          "base_uri": "https://localhost:8080/"
        },
        "id": "qSOPfW_V6-OJ",
        "outputId": "f7973d02-bf2b-4664-be18-aa735a28f381"
      },
      "execution_count": null,
      "outputs": [
        {
          "output_type": "execute_result",
          "data": {
            "text/plain": [
              "True"
            ]
          },
          "metadata": {},
          "execution_count": 59
        }
      ]
    },
    {
      "cell_type": "code",
      "source": [
        "solution(12)"
      ],
      "metadata": {
        "id": "_ry-6ZfL8NkC",
        "colab": {
          "base_uri": "https://localhost:8080/"
        },
        "outputId": "e2bdc81f-e9e6-4b46-a993-fcdff1588d16"
      },
      "execution_count": null,
      "outputs": [
        {
          "output_type": "execute_result",
          "data": {
            "text/plain": [
              "True"
            ]
          },
          "metadata": {},
          "execution_count": 55
        }
      ]
    },
    {
      "cell_type": "code",
      "source": [
        "solution(11)"
      ],
      "metadata": {
        "colab": {
          "base_uri": "https://localhost:8080/"
        },
        "id": "AhglMTWD9E0D",
        "outputId": "b8682719-4897-486b-f6f3-0c6807c3b933"
      },
      "execution_count": null,
      "outputs": [
        {
          "output_type": "execute_result",
          "data": {
            "text/plain": [
              "False"
            ]
          },
          "metadata": {},
          "execution_count": 56
        }
      ]
    },
    {
      "cell_type": "code",
      "source": [
        "solution(13)"
      ],
      "metadata": {
        "colab": {
          "base_uri": "https://localhost:8080/"
        },
        "id": "HvN4MIGa9Fw-",
        "outputId": "50472bb6-6c17-4459-c743-cb92cf91e745"
      },
      "execution_count": null,
      "outputs": [
        {
          "output_type": "execute_result",
          "data": {
            "text/plain": [
              "False"
            ]
          },
          "metadata": {},
          "execution_count": 57
        }
      ]
    },
    {
      "cell_type": "code",
      "source": [
        "[2, 1, 2, 6, 2, 4, 3, 3].count(2)"
      ],
      "metadata": {
        "colab": {
          "base_uri": "https://localhost:8080/"
        },
        "id": "KJA7w9EODhA9",
        "outputId": "7fb40c24-9f7e-4db8-c07e-22e2be3a2b00"
      },
      "execution_count": null,
      "outputs": [
        {
          "output_type": "execute_result",
          "data": {
            "text/plain": [
              "3"
            ]
          },
          "metadata": {},
          "execution_count": 67
        }
      ]
    },
    {
      "cell_type": "markdown",
      "source": [
        "## 4. 콜라츠 추측\n"
      ],
      "metadata": {
        "id": "z-ux2L4pnRdk"
      }
    },
    {
      "cell_type": "code",
      "source": [
        "def solution(num):\n",
        "    answer = 0\n",
        "    cnt = 0\n",
        "    while cnt <= 500:\n",
        "        if num==1:\n",
        "            return cnt\n",
        "            break\n",
        "        if num%2==0:\n",
        "            num/=2\n",
        "        else:\n",
        "            num = num*3 +1\n",
        "        cnt+=1\n",
        "    return -1"
      ],
      "metadata": {
        "id": "xsqUZ6L7Y-Gx"
      },
      "execution_count": null,
      "outputs": []
    },
    {
      "cell_type": "code",
      "source": [
        "solution(6)"
      ],
      "metadata": {
        "id": "aGqU8K3taHRl",
        "colab": {
          "base_uri": "https://localhost:8080/"
        },
        "outputId": "d7b3fc9e-e3d7-4f99-e16a-5f08adc48ebb"
      },
      "execution_count": null,
      "outputs": [
        {
          "output_type": "execute_result",
          "data": {
            "text/plain": [
              "8"
            ]
          },
          "metadata": {},
          "execution_count": 8
        }
      ]
    },
    {
      "cell_type": "code",
      "source": [
        "solution(16)"
      ],
      "metadata": {
        "colab": {
          "base_uri": "https://localhost:8080/"
        },
        "id": "7jGDSzQYn0Mr",
        "outputId": "30bd861f-fdaf-4907-9ea7-3f87a1513a8b"
      },
      "execution_count": null,
      "outputs": [
        {
          "output_type": "execute_result",
          "data": {
            "text/plain": [
              "4"
            ]
          },
          "metadata": {},
          "execution_count": 3
        }
      ]
    },
    {
      "cell_type": "code",
      "source": [
        "solution(626311)"
      ],
      "metadata": {
        "colab": {
          "base_uri": "https://localhost:8080/"
        },
        "id": "wXgwT4MRn02s",
        "outputId": "db5e6494-2765-43a8-ccb9-f5cba6c610f6"
      },
      "execution_count": null,
      "outputs": [
        {
          "output_type": "execute_result",
          "data": {
            "text/plain": [
              "128"
            ]
          },
          "metadata": {},
          "execution_count": 4
        }
      ]
    },
    {
      "cell_type": "markdown",
      "source": [
        "## 5. 실패율 (2019 KAKAO BLIND RECRUITMENT)\n"
      ],
      "metadata": {
        "id": "nqMgRsMkZBen"
      }
    },
    {
      "cell_type": "code",
      "source": [
        "def solution(N, stages):\n",
        "    d = {}\n",
        "    n_user = len(stages)\n",
        "    for s in range(1, N+1):\n",
        "        n = stages.count(s)\n",
        "        if n==0:\n",
        "            d[s]=0\n",
        "        else:\n",
        "            d[s] = n/n_user\n",
        "            n_user -= n  \n",
        "    answer = sorted(d, key=lambda x: d[x], reverse=True)\n",
        "    return answer"
      ],
      "metadata": {
        "id": "_irPnWYbD-Rj"
      },
      "execution_count": 4,
      "outputs": []
    },
    {
      "cell_type": "code",
      "source": [
        "solution(5, [2, 1, 2, 6, 2, 4, 3, 3])"
      ],
      "metadata": {
        "colab": {
          "base_uri": "https://localhost:8080/"
        },
        "id": "npSzOTegPxP4",
        "outputId": "979ec052-288f-4a16-d62e-3814658a4c62"
      },
      "execution_count": 5,
      "outputs": [
        {
          "output_type": "execute_result",
          "data": {
            "text/plain": [
              "[3, 4, 2, 1, 5]"
            ]
          },
          "metadata": {},
          "execution_count": 5
        }
      ]
    },
    {
      "cell_type": "code",
      "source": [
        "solution(4, [4,4,4,4])"
      ],
      "metadata": {
        "colab": {
          "base_uri": "https://localhost:8080/"
        },
        "id": "5T2pwyUjWdpu",
        "outputId": "8fa7571a-ed3b-4ae0-d83c-7f7700697a8c"
      },
      "execution_count": 6,
      "outputs": [
        {
          "output_type": "execute_result",
          "data": {
            "text/plain": [
              "[4, 1, 2, 3]"
            ]
          },
          "metadata": {},
          "execution_count": 6
        }
      ]
    },
    {
      "cell_type": "markdown",
      "source": [
        "## 6. 가운데 글자 가져오기"
      ],
      "metadata": {
        "id": "F3f0JNQxQXTu"
      }
    },
    {
      "cell_type": "code",
      "source": [
        "def solution(s):\n",
        "    n = len(s)\n",
        "    i = n//2\n",
        "    if n%2 != 0:\n",
        "        answer = s[i]\n",
        "    else:\n",
        "        answer = s[i-1:i+1]\n",
        "    return answer"
      ],
      "metadata": {
        "id": "ZlTSy50Pn4OY"
      },
      "execution_count": 7,
      "outputs": []
    },
    {
      "cell_type": "code",
      "source": [
        "solution('abcde')"
      ],
      "metadata": {
        "colab": {
          "base_uri": "https://localhost:8080/",
          "height": 36
        },
        "id": "87jlWq-gR8wj",
        "outputId": "f2079a15-8b78-4bad-8f20-d7930d6cbc20"
      },
      "execution_count": 8,
      "outputs": [
        {
          "output_type": "execute_result",
          "data": {
            "text/plain": [
              "'c'"
            ],
            "application/vnd.google.colaboratory.intrinsic+json": {
              "type": "string"
            }
          },
          "metadata": {},
          "execution_count": 8
        }
      ]
    },
    {
      "cell_type": "code",
      "source": [
        "solution('pweq')"
      ],
      "metadata": {
        "colab": {
          "base_uri": "https://localhost:8080/",
          "height": 36
        },
        "id": "5FCW7oeFb2FK",
        "outputId": "dbf8c4c1-4991-4bc8-e409-be49d3da3f96"
      },
      "execution_count": 9,
      "outputs": [
        {
          "output_type": "execute_result",
          "data": {
            "text/plain": [
              "'we'"
            ],
            "application/vnd.google.colaboratory.intrinsic+json": {
              "type": "string"
            }
          },
          "metadata": {},
          "execution_count": 9
        }
      ]
    },
    {
      "cell_type": "markdown",
      "source": [
        "## 7. 문자열 내림차순으로 배치하기"
      ],
      "metadata": {
        "id": "V8hN8jT3bzex"
      }
    },
    {
      "cell_type": "code",
      "source": [
        "def solution(s):\n",
        "    return ''.join(sorted(s, reverse=True))"
      ],
      "metadata": {
        "id": "v7l6QYc7nSXX"
      },
      "execution_count": 47,
      "outputs": []
    },
    {
      "cell_type": "code",
      "source": [
        "solution('Zbcdefg')"
      ],
      "metadata": {
        "colab": {
          "base_uri": "https://localhost:8080/",
          "height": 36
        },
        "id": "xDraCm3hc3SO",
        "outputId": "5de153b6-1148-4a12-9471-7f6f5f26576a"
      },
      "execution_count": 48,
      "outputs": [
        {
          "output_type": "execute_result",
          "data": {
            "text/plain": [
              "'gfedcbZ'"
            ],
            "application/vnd.google.colaboratory.intrinsic+json": {
              "type": "string"
            }
          },
          "metadata": {},
          "execution_count": 48
        }
      ]
    },
    {
      "cell_type": "code",
      "source": [
        "solution('ZzZ')"
      ],
      "metadata": {
        "colab": {
          "base_uri": "https://localhost:8080/",
          "height": 36
        },
        "id": "7mxx2VXydCJm",
        "outputId": "72e67221-26c1-4ca5-c118-d7dca1cd5a41"
      },
      "execution_count": 49,
      "outputs": [
        {
          "output_type": "execute_result",
          "data": {
            "text/plain": [
              "'zZZ'"
            ],
            "application/vnd.google.colaboratory.intrinsic+json": {
              "type": "string"
            }
          },
          "metadata": {},
          "execution_count": 49
        }
      ]
    },
    {
      "cell_type": "code",
      "source": [],
      "metadata": {
        "id": "3G7M3CLGmlil"
      },
      "execution_count": null,
      "outputs": []
    }
  ]
}