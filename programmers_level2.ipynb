{
  "nbformat": 4,
  "nbformat_minor": 0,
  "metadata": {
    "colab": {
      "provenance": [],
      "authorship_tag": "ABX9TyNOuDWrwfzfiFFVOwzeFPTS"
    },
    "kernelspec": {
      "name": "python3",
      "display_name": "Python 3"
    },
    "language_info": {
      "name": "python"
    }
  },
  "cells": [
    {
      "cell_type": "markdown",
      "source": [
        "## 1. 주식가격 (2023.04.20)"
      ],
      "metadata": {
        "id": "NHO2Ro9X9h5S"
      }
    },
    {
      "cell_type": "code",
      "source": [
        "def solution(prices):\n",
        "    answer = []\n",
        "    n = len(prices)\n",
        "    for i in range(n):\n",
        "        if i != n-1:\n",
        "            cnt = 1\n",
        "            for j in range(i+1,n-1):\n",
        "                if prices[j]>=prices[i]: \n",
        "                    cnt+=1\n",
        "                else:\n",
        "                    break\n",
        "            answer.append(cnt)\n",
        "        else:\n",
        "            answer.append(0)\n",
        "    return answer"
      ],
      "metadata": {
        "id": "Ar-zwCSN1q4I"
      },
      "execution_count": null,
      "outputs": []
    },
    {
      "cell_type": "code",
      "source": [
        "solution([1,2,3,2,3])"
      ],
      "metadata": {
        "colab": {
          "base_uri": "https://localhost:8080/"
        },
        "id": "WRo7owAiSOVg",
        "outputId": "7ce76681-ae9c-4bdf-b20c-cf3858f6da21"
      },
      "execution_count": null,
      "outputs": [
        {
          "output_type": "execute_result",
          "data": {
            "text/plain": [
              "[4, 3, 1, 1, 0]"
            ]
          },
          "metadata": {},
          "execution_count": 33
        }
      ]
    },
    {
      "cell_type": "code",
      "source": [
        "# deque 사용 풀이\n",
        "def solution(prices):\n",
        "    from collections import deque\n",
        "    answer = []\n",
        "    prices = deque(prices)  # deque 객체 생성\n",
        "    while prices: \n",
        "        c = prices.popleft()  # 큐 - 선입선출 (기준 주가 꺼내기)\n",
        "        cnt = 0\n",
        "        for p in prices:  # 기준 주가 뺀 주가 리스트\n",
        "            if c > p:   # 기준 주가가 더 높으면 (즉, 하락했으면) +1하고 종료 \n",
        "                cnt+=1\n",
        "                break\n",
        "            cnt+=1      # 상승하거나 보합이면 +1\n",
        "        answer.append(cnt)\n",
        "    return answer\n"
      ],
      "metadata": {
        "id": "7HPKMxB-Y6zo"
      },
      "execution_count": null,
      "outputs": []
    },
    {
      "cell_type": "markdown",
      "source": [
        "## 2. 프로세스 (2023.04.20)"
      ],
      "metadata": {
        "id": "j4X4NpR5931I"
      }
    },
    {
      "cell_type": "code",
      "source": [
        "def solution(priorities, location):\n",
        "    n = len(priorities)\n",
        "    result = [0]*n\n",
        "    i = 0\n",
        "    rank = 1\n",
        "    M = max(priorities)\n",
        "    while result[location]==0:\n",
        "        if priorities[i%n] == M:\n",
        "            priorities[i%n]=0\n",
        "            result[i%n] = rank\n",
        "            rank+=1\n",
        "            i+=1\n",
        "            M = max(priorities)\n",
        "        else:\n",
        "            i+=1\n",
        "    return result[location]"
      ],
      "metadata": {
        "id": "lQHJFC8Qby71"
      },
      "execution_count": null,
      "outputs": []
    },
    {
      "cell_type": "code",
      "source": [
        "solution([2,1,3,2],2)"
      ],
      "metadata": {
        "colab": {
          "base_uri": "https://localhost:8080/"
        },
        "id": "HVxedWDYjXCO",
        "outputId": "21e4b64b-f4e0-4580-b87b-99217489545b"
      },
      "execution_count": null,
      "outputs": [
        {
          "output_type": "execute_result",
          "data": {
            "text/plain": [
              "1"
            ]
          },
          "metadata": {},
          "execution_count": 59
        }
      ]
    },
    {
      "cell_type": "code",
      "source": [
        "solution([1,1,9,1,1,1],0)"
      ],
      "metadata": {
        "colab": {
          "base_uri": "https://localhost:8080/"
        },
        "id": "_mkXEuu06VnE",
        "outputId": "3a99c82d-decb-4392-a900-4aef0265aa26"
      },
      "execution_count": null,
      "outputs": [
        {
          "output_type": "execute_result",
          "data": {
            "text/plain": [
              "5"
            ]
          },
          "metadata": {},
          "execution_count": 60
        }
      ]
    },
    {
      "cell_type": "code",
      "source": [
        "# 큐 활용 풀이\n",
        "## ⭐️any() 함수!! : iteration 모든 요소 중에서 하나라도 참인 경우 True 반환\n",
        "def solution(priorities, location):\n",
        "    queue = [(i,p) for i,p in enumerate(priorities)]\n",
        "    answer = 0\n",
        "    while True:\n",
        "        current = queue.pop(0)  # 큐의 가장 첫번째 원소\n",
        "        if any(current[1]<q[1] for q in queue):  # queue 리스트 원소 중에서 current보다 큰게 하나라도 있으면\n",
        "            queue.append(current)  # queue에 current 다시 맨 뒤로 넣기\n",
        "        else:    # current가 가장 크면\n",
        "            answer += 1   # 순서 +1\n",
        "            if current[0] == location:  # current의 위치인덱스가 location과 같으면 멈추고 반환\n",
        "                return answer\n"
      ],
      "metadata": {
        "id": "F9H0_28L8fUF"
      },
      "execution_count": null,
      "outputs": []
    },
    {
      "cell_type": "markdown",
      "source": [
        "## 3. 가장 큰 수 (2023.04.25)"
      ],
      "metadata": {
        "id": "gbfgS4rU-MAi"
      }
    },
    {
      "cell_type": "code",
      "source": [
        "def solution(numbers):\n",
        "    numbers = list(map(str, numbers))\n",
        "    numbers = sorted(numbers, \n",
        "                     key=lambda x: x*3,\n",
        "                    reverse=True)\n",
        "    return str(int(''.join(numbers)))  # '000' 등은 '0'으로 바꿔주기 위해 str(int())"
      ],
      "metadata": {
        "id": "6nRS4IMIQy43"
      },
      "execution_count": null,
      "outputs": []
    },
    {
      "cell_type": "code",
      "source": [
        "solution([6, 10, 2])"
      ],
      "metadata": {
        "colab": {
          "base_uri": "https://localhost:8080/",
          "height": 36
        },
        "id": "QpkdKy1e1_n7",
        "outputId": "04867344-44cd-4582-b32a-b595205efbc6"
      },
      "execution_count": null,
      "outputs": [
        {
          "output_type": "execute_result",
          "data": {
            "text/plain": [
              "'6210'"
            ],
            "application/vnd.google.colaboratory.intrinsic+json": {
              "type": "string"
            }
          },
          "metadata": {},
          "execution_count": 8
        }
      ]
    },
    {
      "cell_type": "code",
      "source": [
        "solution([3, 30, 34, 5, 9])"
      ],
      "metadata": {
        "colab": {
          "base_uri": "https://localhost:8080/",
          "height": 36
        },
        "id": "8yyYMCOabYef",
        "outputId": "672314f9-9474-441c-e14e-5be32b48e9e8"
      },
      "execution_count": null,
      "outputs": [
        {
          "output_type": "execute_result",
          "data": {
            "text/plain": [
              "'9534330'"
            ],
            "application/vnd.google.colaboratory.intrinsic+json": {
              "type": "string"
            }
          },
          "metadata": {},
          "execution_count": 9
        }
      ]
    },
    {
      "cell_type": "code",
      "source": [
        "# ⭐️문자열 숫자 비교연산\n",
        "## 문자열의 경우 첫번째 인덱스부터 차례대로 ASCII 숫자로 바꿔서 대소비교 \n",
        "\n",
        "print(sorted(['221', '2', '10'], reverse=True))\n",
        "print(sorted(['221'*2, '2'*2, '10'*2], reverse=True))\n",
        "print(sorted(['221'*3, '2'*3, '10'*3], reverse=True))  # 문제에서 'numbers의 원소는 0 이상 1,000 이하'이므로 세자리 수까지 비교하려면 곱하기 3"
      ],
      "metadata": {
        "colab": {
          "base_uri": "https://localhost:8080/"
        },
        "id": "BUx6lboV2C13",
        "outputId": "1570f7ee-ce19-4133-84a0-a8a5302a5c81"
      },
      "execution_count": null,
      "outputs": [
        {
          "output_type": "stream",
          "name": "stdout",
          "text": [
            "['221', '2', '10']\n",
            "['221221', '22', '1010']\n",
            "['222', '221221221', '101010']\n"
          ]
        }
      ]
    },
    {
      "cell_type": "code",
      "execution_count": null,
      "metadata": {
        "id": "onwJjr7W9e7-"
      },
      "outputs": [],
      "source": []
    }
  ]
}