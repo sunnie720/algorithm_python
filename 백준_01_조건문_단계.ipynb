{
  "nbformat": 4,
  "nbformat_minor": 0,
  "metadata": {
    "colab": {
      "name": "백준_조건문 단계.ipynb",
      "provenance": [],
      "authorship_tag": "ABX9TyPr3eiM8Y2QBxoYJZlSjXR1"
    },
    "kernelspec": {
      "name": "python3",
      "display_name": "Python 3"
    },
    "language_info": {
      "name": "python"
    }
  },
  "cells": [
    {
      "cell_type": "markdown",
      "source": [
        "문제1: 두 수 비교하기"
      ],
      "metadata": {
        "id": "wCSPsSVsDpQt"
      }
    },
    {
      "cell_type": "code",
      "execution_count": null,
      "metadata": {
        "colab": {
          "base_uri": "https://localhost:8080/"
        },
        "id": "H0b4Si9_Dgu8",
        "outputId": "7c2ad582-f28c-4e0f-849d-3edd640003ed"
      },
      "outputs": [
        {
          "output_type": "stream",
          "name": "stdout",
          "text": [
            "5 5\n",
            "==\n"
          ]
        }
      ],
      "source": [
        "a,b=map(int,input().split())\n",
        "if a>b:\n",
        "  msg='>'\n",
        "elif a<b:\n",
        "  msg='<'\n",
        "else:\n",
        "  msg='=='\n",
        "print(msg)"
      ]
    },
    {
      "cell_type": "markdown",
      "source": [
        "문제2: 시험 성적"
      ],
      "metadata": {
        "id": "e_VyZ0UgFeIp"
      }
    },
    {
      "cell_type": "code",
      "source": [
        "s=int(input())\n",
        "if 90<=s<=100:\n",
        "  msg='A'\n",
        "elif 80<=s<90:\n",
        "  msg='B'\n",
        "elif 70<=s<80:\n",
        "  msg='C'\n",
        "elif 60<=s<70:\n",
        "  msg='D'\n",
        "else:\n",
        "  msg='F'\n",
        "print(msg)"
      ],
      "metadata": {
        "colab": {
          "base_uri": "https://localhost:8080/"
        },
        "id": "Bvs_buZ3FE5a",
        "outputId": "cef62d31-f68e-4a2f-d1f5-44172c2654e8"
      },
      "execution_count": null,
      "outputs": [
        {
          "output_type": "stream",
          "name": "stdout",
          "text": [
            "89\n",
            "B\n"
          ]
        }
      ]
    },
    {
      "cell_type": "markdown",
      "source": [
        "문제3: 윤년"
      ],
      "metadata": {
        "id": "orcoZ0O1GfrL"
      }
    },
    {
      "cell_type": "code",
      "source": [
        "yr=int(input())\n",
        "if yr%4==0: # 4의 배수\n",
        "  if yr%400==0: # 400의 배수\n",
        "    result=1\n",
        "  elif yr%100!=0: # 100의 배수x\n",
        "    result=1\n",
        "  else:\n",
        "    result=0\n",
        "else:\n",
        "  result=0\n",
        "print(result)"
      ],
      "metadata": {
        "colab": {
          "base_uri": "https://localhost:8080/"
        },
        "id": "0uY9yuQXF8Td",
        "outputId": "a9ea4e24-b71b-4116-ec71-b5e953847feb"
      },
      "execution_count": null,
      "outputs": [
        {
          "output_type": "stream",
          "name": "stdout",
          "text": [
            "2000\n",
            "1\n"
          ]
        }
      ]
    },
    {
      "cell_type": "markdown",
      "source": [
        "문제4: 사분면 고르기"
      ],
      "metadata": {
        "id": "vZ1LXg6lJLAc"
      }
    },
    {
      "cell_type": "code",
      "source": [
        "x=int(input())\n",
        "y=int(input())\n",
        "if x>0: # quardrant 1,4\n",
        "  if y>0: n=1\n",
        "  else: n=4\n",
        "else: # quadrant 2,3\n",
        "  if y>0: n=2\n",
        "  else: n=3\n",
        "print(n)"
      ],
      "metadata": {
        "colab": {
          "base_uri": "https://localhost:8080/"
        },
        "id": "P-7qSx55Hhk7",
        "outputId": "af05c482-9730-4228-9c85-289a126f8a23"
      },
      "execution_count": null,
      "outputs": [
        {
          "output_type": "stream",
          "name": "stdout",
          "text": [
            "9\n",
            "-13\n",
            "4\n"
          ]
        }
      ]
    },
    {
      "cell_type": "markdown",
      "source": [
        "문제5: 알람 시계"
      ],
      "metadata": {
        "id": "DAXSu_CXKac_"
      }
    },
    {
      "cell_type": "code",
      "source": [
        "h,m=map(int,input().split())\n",
        "if m>=45: \n",
        "  m-=45\n",
        "else:\n",
        "  m+=15\n",
        "  if h>0: h-=1\n",
        "  else: h=23\n",
        "print(h,m)"
      ],
      "metadata": {
        "colab": {
          "base_uri": "https://localhost:8080/"
        },
        "id": "X6SLfpz6KAAs",
        "outputId": "819fb95f-1cbb-4be6-887c-5262a2e376f0"
      },
      "execution_count": null,
      "outputs": [
        {
          "output_type": "stream",
          "name": "stdout",
          "text": [
            "23 40\n",
            "22 55\n"
          ]
        }
      ]
    },
    {
      "cell_type": "markdown",
      "source": [
        "문제6: 오븐 시계"
      ],
      "metadata": {
        "id": "VpvwclP8AP99"
      }
    },
    {
      "cell_type": "code",
      "source": [
        "h,m=map(int,input().split())\n",
        "cook=int(input())\n",
        "\n",
        "hr=cook//60\n",
        "if hr==0: \n",
        "  if (m+cook)>=60:\n",
        "    h+=1\n",
        "    m=(m+cook)-60\n",
        "    if h==24: h=0\n",
        "  else: m+=cook\n",
        "else:\n",
        "  h+=hr\n",
        "  cookm=cook-hr*60\n",
        "  if h>=24: h-=24\n",
        "  if (m+cookm)>=60:\n",
        "    h+=1\n",
        "    m=(m+cookm)-60\n",
        "    if h==24: h=0\n",
        "  else: m+=cookm\n",
        "print(h,m)"
      ],
      "metadata": {
        "colab": {
          "base_uri": "https://localhost:8080/"
        },
        "id": "NM7FfDWC_doI",
        "outputId": "9b6ef02b-5706-4653-a8a8-08bbafaeb99e"
      },
      "execution_count": null,
      "outputs": [
        {
          "output_type": "stream",
          "name": "stdout",
          "text": [
            "23 45\n",
            "80\n",
            "1 5\n"
          ]
        }
      ]
    },
    {
      "cell_type": "markdown",
      "source": [
        "문제7: 주사위 세 개"
      ],
      "metadata": {
        "id": "BJGc0HszJnsf"
      }
    },
    {
      "cell_type": "code",
      "source": [
        "f,s,t=map(int,input().split())\n",
        "if f==s:\n",
        "  if s==t: # f,s,t\n",
        "    prize=10000+1000*f\n",
        "  else: # f,s\n",
        "    prize=1000+100*f\n",
        "else:\n",
        "  if f==t: # f,t\n",
        "    prize=1000+100*f\n",
        "  elif s==t: # s,t\n",
        "    prize=1000+100*s\n",
        "  else: # 모두 다른 눈\n",
        "    prize=max(f,s,t)*100\n",
        "print(prize)"
      ],
      "metadata": {
        "colab": {
          "base_uri": "https://localhost:8080/"
        },
        "id": "s6AabSmiFd5m",
        "outputId": "889a2201-d4f7-4839-b38c-3e93dfbf05b3"
      },
      "execution_count": null,
      "outputs": [
        {
          "output_type": "stream",
          "name": "stdout",
          "text": [
            "6 2 5\n",
            "600\n"
          ]
        }
      ]
    },
    {
      "cell_type": "code",
      "source": [
        ""
      ],
      "metadata": {
        "id": "oLMME5ogQebE"
      },
      "execution_count": null,
      "outputs": []
    }
  ]
}
