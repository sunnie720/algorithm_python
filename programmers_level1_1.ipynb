{
  "nbformat": 4,
  "nbformat_minor": 0,
  "metadata": {
    "colab": {
      "provenance": [],
      "authorship_tag": "ABX9TyP4FNwlie6mI9T4e0Jui0OW"
    },
    "kernelspec": {
      "name": "python3",
      "display_name": "Python 3"
    },
    "language_info": {
      "name": "python"
    }
  },
  "cells": [
    {
      "cell_type": "markdown",
      "source": [
        "## 1. 문자열 다루기 기본 (2023.03.13)\n",
        "\n"
      ],
      "metadata": {
        "id": "udqcx4-iocww"
      }
    },
    {
      "cell_type": "code",
      "source": [
        "# 내 풀이\n",
        "def solution(s):\n",
        "    try:\n",
        "        int(s)\n",
        "        if len(s) == 4 or len(s) == 6:\n",
        "            answer = True\n",
        "        else: \n",
        "            answer = False\n",
        "    except: \n",
        "        answer = False\n",
        "    return answer"
      ],
      "metadata": {
        "id": "0V3NnVlBowen"
      },
      "execution_count": null,
      "outputs": []
    },
    {
      "cell_type": "code",
      "source": [
        "solution(\"a234\")"
      ],
      "metadata": {
        "colab": {
          "base_uri": "https://localhost:8080/"
        },
        "id": "6ns9AjUd2uqC",
        "outputId": "577ecb17-6fec-4027-c6ff-ed8f8568b74f"
      },
      "execution_count": null,
      "outputs": [
        {
          "output_type": "execute_result",
          "data": {
            "text/plain": [
              "False"
            ]
          },
          "metadata": {},
          "execution_count": 8
        }
      ]
    },
    {
      "cell_type": "code",
      "source": [
        "solution(\"1234\")"
      ],
      "metadata": {
        "colab": {
          "base_uri": "https://localhost:8080/"
        },
        "id": "1PJh16MC2uOD",
        "outputId": "28e190f5-b34d-4a69-f62f-33d0617bf663"
      },
      "execution_count": null,
      "outputs": [
        {
          "output_type": "execute_result",
          "data": {
            "text/plain": [
              "True"
            ]
          },
          "metadata": {},
          "execution_count": 9
        }
      ]
    },
    {
      "cell_type": "code",
      "source": [
        "# 프로그래머스 best 풀이\n",
        "def solution(s):\n",
        "    return s.isdigit() and len(s) in [4,6]"
      ],
      "metadata": {
        "id": "1P_LUX8nqC6N"
      },
      "execution_count": null,
      "outputs": []
    },
    {
      "cell_type": "markdown",
      "source": [
        "## 2. 문자열 내 p와 y의 개수 (2023.03.14)"
      ],
      "metadata": {
        "id": "gVXEnOyEqVUP"
      }
    },
    {
      "cell_type": "code",
      "source": [
        "def solution(s):\n",
        "    s = s.lower()\n",
        "    if s.count('p')==s.count('y'):\n",
        "        answer = True\n",
        "    else: \n",
        "        answer = False\n",
        "    return answer"
      ],
      "metadata": {
        "id": "v9lxidvUqPpO"
      },
      "execution_count": null,
      "outputs": []
    },
    {
      "cell_type": "code",
      "source": [
        "solution(\"pPoooyY\")"
      ],
      "metadata": {
        "colab": {
          "base_uri": "https://localhost:8080/"
        },
        "id": "jcvZ_JHp2gkc",
        "outputId": "ebc9e96d-a84f-43bd-f5bd-ecb0c64db7c6"
      },
      "execution_count": null,
      "outputs": [
        {
          "output_type": "execute_result",
          "data": {
            "text/plain": [
              "True"
            ]
          },
          "metadata": {},
          "execution_count": 38
        }
      ]
    },
    {
      "cell_type": "code",
      "source": [
        "solution(\"Pyy\")"
      ],
      "metadata": {
        "colab": {
          "base_uri": "https://localhost:8080/"
        },
        "id": "kjJueOqj2knm",
        "outputId": "d599ecaa-42b2-4cc0-ceec-466a8039e1f4"
      },
      "execution_count": null,
      "outputs": [
        {
          "output_type": "execute_result",
          "data": {
            "text/plain": [
              "False"
            ]
          },
          "metadata": {},
          "execution_count": 39
        }
      ]
    },
    {
      "cell_type": "code",
      "source": [
        "# 프로그래머스 best 풀이\n",
        "def numPY(s):\n",
        "    # 함수를 완성하세요\n",
        "    return s.lower().count('p') == s.lower().count('y')"
      ],
      "metadata": {
        "id": "eqyB_4BZ4cF1"
      },
      "execution_count": null,
      "outputs": []
    },
    {
      "cell_type": "markdown",
      "source": [
        "## 3. 하샤드 수 (2023.03.14)\n"
      ],
      "metadata": {
        "id": "yJnRn4vO6Tzt"
      }
    },
    {
      "cell_type": "code",
      "source": [
        "def solution(x):\n",
        "    s = str(x)\n",
        "    sum = 0\n",
        "    for i in range(len(s)):\n",
        "       sum += int(s[i])\n",
        "    return x%sum == 0"
      ],
      "metadata": {
        "id": "DPkcEOn26qax"
      },
      "execution_count": null,
      "outputs": []
    },
    {
      "cell_type": "code",
      "source": [
        "solution(10)"
      ],
      "metadata": {
        "colab": {
          "base_uri": "https://localhost:8080/"
        },
        "id": "qSOPfW_V6-OJ",
        "outputId": "f7973d02-bf2b-4664-be18-aa735a28f381"
      },
      "execution_count": null,
      "outputs": [
        {
          "output_type": "execute_result",
          "data": {
            "text/plain": [
              "True"
            ]
          },
          "metadata": {},
          "execution_count": 59
        }
      ]
    },
    {
      "cell_type": "code",
      "source": [
        "solution(12)"
      ],
      "metadata": {
        "id": "_ry-6ZfL8NkC",
        "colab": {
          "base_uri": "https://localhost:8080/"
        },
        "outputId": "e2bdc81f-e9e6-4b46-a993-fcdff1588d16"
      },
      "execution_count": null,
      "outputs": [
        {
          "output_type": "execute_result",
          "data": {
            "text/plain": [
              "True"
            ]
          },
          "metadata": {},
          "execution_count": 55
        }
      ]
    },
    {
      "cell_type": "code",
      "source": [
        "solution(11)"
      ],
      "metadata": {
        "colab": {
          "base_uri": "https://localhost:8080/"
        },
        "id": "AhglMTWD9E0D",
        "outputId": "b8682719-4897-486b-f6f3-0c6807c3b933"
      },
      "execution_count": null,
      "outputs": [
        {
          "output_type": "execute_result",
          "data": {
            "text/plain": [
              "False"
            ]
          },
          "metadata": {},
          "execution_count": 56
        }
      ]
    },
    {
      "cell_type": "code",
      "source": [
        "solution(13)"
      ],
      "metadata": {
        "colab": {
          "base_uri": "https://localhost:8080/"
        },
        "id": "HvN4MIGa9Fw-",
        "outputId": "50472bb6-6c17-4459-c743-cb92cf91e745"
      },
      "execution_count": null,
      "outputs": [
        {
          "output_type": "execute_result",
          "data": {
            "text/plain": [
              "False"
            ]
          },
          "metadata": {},
          "execution_count": 57
        }
      ]
    },
    {
      "cell_type": "code",
      "source": [
        "[2, 1, 2, 6, 2, 4, 3, 3].count(2)"
      ],
      "metadata": {
        "colab": {
          "base_uri": "https://localhost:8080/"
        },
        "id": "KJA7w9EODhA9",
        "outputId": "7fb40c24-9f7e-4db8-c07e-22e2be3a2b00"
      },
      "execution_count": null,
      "outputs": [
        {
          "output_type": "execute_result",
          "data": {
            "text/plain": [
              "3"
            ]
          },
          "metadata": {},
          "execution_count": 67
        }
      ]
    },
    {
      "cell_type": "markdown",
      "source": [
        "## 4. 콜라츠 추측 (2023.03.15)\n"
      ],
      "metadata": {
        "id": "z-ux2L4pnRdk"
      }
    },
    {
      "cell_type": "code",
      "source": [
        "def solution(num):\n",
        "    answer = 0\n",
        "    cnt = 0\n",
        "    while cnt <= 500:\n",
        "        if num==1:\n",
        "            return cnt\n",
        "            break\n",
        "        if num%2==0:\n",
        "            num/=2\n",
        "        else:\n",
        "            num = num*3 +1\n",
        "        cnt+=1\n",
        "    return -1"
      ],
      "metadata": {
        "id": "xsqUZ6L7Y-Gx"
      },
      "execution_count": null,
      "outputs": []
    },
    {
      "cell_type": "code",
      "source": [
        "solution(6)"
      ],
      "metadata": {
        "id": "aGqU8K3taHRl",
        "colab": {
          "base_uri": "https://localhost:8080/"
        },
        "outputId": "d7b3fc9e-e3d7-4f99-e16a-5f08adc48ebb"
      },
      "execution_count": null,
      "outputs": [
        {
          "output_type": "execute_result",
          "data": {
            "text/plain": [
              "8"
            ]
          },
          "metadata": {},
          "execution_count": 8
        }
      ]
    },
    {
      "cell_type": "code",
      "source": [
        "solution(16)"
      ],
      "metadata": {
        "colab": {
          "base_uri": "https://localhost:8080/"
        },
        "id": "7jGDSzQYn0Mr",
        "outputId": "30bd861f-fdaf-4907-9ea7-3f87a1513a8b"
      },
      "execution_count": null,
      "outputs": [
        {
          "output_type": "execute_result",
          "data": {
            "text/plain": [
              "4"
            ]
          },
          "metadata": {},
          "execution_count": 3
        }
      ]
    },
    {
      "cell_type": "code",
      "source": [
        "solution(626311)"
      ],
      "metadata": {
        "colab": {
          "base_uri": "https://localhost:8080/"
        },
        "id": "wXgwT4MRn02s",
        "outputId": "db5e6494-2765-43a8-ccb9-f5cba6c610f6"
      },
      "execution_count": null,
      "outputs": [
        {
          "output_type": "execute_result",
          "data": {
            "text/plain": [
              "128"
            ]
          },
          "metadata": {},
          "execution_count": 4
        }
      ]
    },
    {
      "cell_type": "markdown",
      "source": [
        "## 5. 실패율 (2019 KAKAO BLIND RECRUITMENT) (2023.03.15)\n"
      ],
      "metadata": {
        "id": "nqMgRsMkZBen"
      }
    },
    {
      "cell_type": "code",
      "source": [
        "def solution(N, stages):\n",
        "    d = {}\n",
        "    n_user = len(stages)\n",
        "    for s in range(1, N+1):\n",
        "        n = stages.count(s)\n",
        "        if n==0:\n",
        "            d[s]=0\n",
        "        else:\n",
        "            d[s] = n/n_user\n",
        "            n_user -= n  \n",
        "    answer = sorted(d, key=lambda x: d[x], reverse=True)\n",
        "    return answer"
      ],
      "metadata": {
        "id": "_irPnWYbD-Rj"
      },
      "execution_count": null,
      "outputs": []
    },
    {
      "cell_type": "code",
      "source": [
        "solution(5, [2, 1, 2, 6, 2, 4, 3, 3])"
      ],
      "metadata": {
        "colab": {
          "base_uri": "https://localhost:8080/"
        },
        "id": "npSzOTegPxP4",
        "outputId": "979ec052-288f-4a16-d62e-3814658a4c62"
      },
      "execution_count": null,
      "outputs": [
        {
          "output_type": "execute_result",
          "data": {
            "text/plain": [
              "[3, 4, 2, 1, 5]"
            ]
          },
          "metadata": {},
          "execution_count": 5
        }
      ]
    },
    {
      "cell_type": "code",
      "source": [
        "solution(4, [4,4,4,4])"
      ],
      "metadata": {
        "colab": {
          "base_uri": "https://localhost:8080/"
        },
        "id": "5T2pwyUjWdpu",
        "outputId": "8fa7571a-ed3b-4ae0-d83c-7f7700697a8c"
      },
      "execution_count": null,
      "outputs": [
        {
          "output_type": "execute_result",
          "data": {
            "text/plain": [
              "[4, 1, 2, 3]"
            ]
          },
          "metadata": {},
          "execution_count": 6
        }
      ]
    },
    {
      "cell_type": "markdown",
      "source": [
        "## 6. 가운데 글자 가져오기 (2023.03.16)"
      ],
      "metadata": {
        "id": "F3f0JNQxQXTu"
      }
    },
    {
      "cell_type": "code",
      "source": [
        "def solution(s):\n",
        "    n = len(s)\n",
        "    i = n//2\n",
        "    if n%2 != 0:\n",
        "        answer = s[i]\n",
        "    else:\n",
        "        answer = s[i-1:i+1]\n",
        "    return answer"
      ],
      "metadata": {
        "id": "ZlTSy50Pn4OY"
      },
      "execution_count": null,
      "outputs": []
    },
    {
      "cell_type": "code",
      "source": [
        "solution('abcde')"
      ],
      "metadata": {
        "colab": {
          "base_uri": "https://localhost:8080/",
          "height": 36
        },
        "id": "87jlWq-gR8wj",
        "outputId": "f2079a15-8b78-4bad-8f20-d7930d6cbc20"
      },
      "execution_count": null,
      "outputs": [
        {
          "output_type": "execute_result",
          "data": {
            "text/plain": [
              "'c'"
            ],
            "application/vnd.google.colaboratory.intrinsic+json": {
              "type": "string"
            }
          },
          "metadata": {},
          "execution_count": 8
        }
      ]
    },
    {
      "cell_type": "code",
      "source": [
        "solution('pweq')"
      ],
      "metadata": {
        "colab": {
          "base_uri": "https://localhost:8080/",
          "height": 36
        },
        "id": "5FCW7oeFb2FK",
        "outputId": "dbf8c4c1-4991-4bc8-e409-be49d3da3f96"
      },
      "execution_count": null,
      "outputs": [
        {
          "output_type": "execute_result",
          "data": {
            "text/plain": [
              "'we'"
            ],
            "application/vnd.google.colaboratory.intrinsic+json": {
              "type": "string"
            }
          },
          "metadata": {},
          "execution_count": 9
        }
      ]
    },
    {
      "cell_type": "markdown",
      "source": [
        "## 7. 문자열 내림차순으로 배치하기 (2023.03.16)"
      ],
      "metadata": {
        "id": "V8hN8jT3bzex"
      }
    },
    {
      "cell_type": "code",
      "source": [
        "def solution(s):\n",
        "    return ''.join(sorted(s, reverse=True))"
      ],
      "metadata": {
        "id": "v7l6QYc7nSXX"
      },
      "execution_count": null,
      "outputs": []
    },
    {
      "cell_type": "code",
      "source": [
        "solution('Zbcdefg')"
      ],
      "metadata": {
        "colab": {
          "base_uri": "https://localhost:8080/",
          "height": 36
        },
        "id": "xDraCm3hc3SO",
        "outputId": "5de153b6-1148-4a12-9471-7f6f5f26576a"
      },
      "execution_count": null,
      "outputs": [
        {
          "output_type": "execute_result",
          "data": {
            "text/plain": [
              "'gfedcbZ'"
            ],
            "application/vnd.google.colaboratory.intrinsic+json": {
              "type": "string"
            }
          },
          "metadata": {},
          "execution_count": 48
        }
      ]
    },
    {
      "cell_type": "code",
      "source": [
        "solution('ZzZ')"
      ],
      "metadata": {
        "colab": {
          "base_uri": "https://localhost:8080/",
          "height": 36
        },
        "id": "7mxx2VXydCJm",
        "outputId": "72e67221-26c1-4ca5-c118-d7dca1cd5a41"
      },
      "execution_count": null,
      "outputs": [
        {
          "output_type": "execute_result",
          "data": {
            "text/plain": [
              "'zZZ'"
            ],
            "application/vnd.google.colaboratory.intrinsic+json": {
              "type": "string"
            }
          },
          "metadata": {},
          "execution_count": 49
        }
      ]
    },
    {
      "cell_type": "markdown",
      "source": [
        "## 8. 같은 숫자는 싫어 (2023.03.17)\n",
        "- 스택/큐"
      ],
      "metadata": {
        "id": "Md-CQUK3XLs2"
      }
    },
    {
      "cell_type": "code",
      "source": [
        "def solution(arr):\n",
        "    answer = []\n",
        "    answer.append(arr[0])\n",
        "    for i in range(1,len(arr)):\n",
        "        if arr[i] != answer[-1]:\n",
        "            answer.append(arr[i])\n",
        "    return answer"
      ],
      "metadata": {
        "id": "3G7M3CLGmlil"
      },
      "execution_count": null,
      "outputs": []
    },
    {
      "cell_type": "code",
      "source": [
        "solution([1,1,3,3,0,1,1])"
      ],
      "metadata": {
        "id": "PSPRwYsSJJbF",
        "colab": {
          "base_uri": "https://localhost:8080/"
        },
        "outputId": "51df94bb-e165-4f60-a29e-e917a41ccbdf"
      },
      "execution_count": null,
      "outputs": [
        {
          "output_type": "execute_result",
          "data": {
            "text/plain": [
              "[1, 3, 0, 1]"
            ]
          },
          "metadata": {},
          "execution_count": 6
        }
      ]
    },
    {
      "cell_type": "code",
      "source": [
        "solution([4,4,4,3,3])"
      ],
      "metadata": {
        "colab": {
          "base_uri": "https://localhost:8080/"
        },
        "id": "i3tD1LoxXpN9",
        "outputId": "165d9cdc-be36-4e09-a8d4-6a72f476bcc4"
      },
      "execution_count": null,
      "outputs": [
        {
          "output_type": "execute_result",
          "data": {
            "text/plain": [
              "[4, 3]"
            ]
          },
          "metadata": {},
          "execution_count": 7
        }
      ]
    },
    {
      "cell_type": "code",
      "source": [
        "def no_continuous(s):\n",
        "    return [s[i] for i in range(len(s)) if [s[i]] != s[i+1:i+2]]"
      ],
      "metadata": {
        "id": "0WJEMz73aowD"
      },
      "execution_count": null,
      "outputs": []
    },
    {
      "cell_type": "code",
      "source": [
        "no_continuous([1,1,3,3,0,1,1])"
      ],
      "metadata": {
        "colab": {
          "base_uri": "https://localhost:8080/"
        },
        "id": "sT00BVQybaMT",
        "outputId": "757e5c17-e04a-48aa-fff7-80f466dcfd5a"
      },
      "execution_count": null,
      "outputs": [
        {
          "output_type": "execute_result",
          "data": {
            "text/plain": [
              "[1, 3, 0, 1]"
            ]
          },
          "metadata": {},
          "execution_count": 29
        }
      ]
    },
    {
      "cell_type": "code",
      "source": [
        "a = []\n",
        "a[-1:]"
      ],
      "metadata": {
        "colab": {
          "base_uri": "https://localhost:8080/"
        },
        "id": "KhoilXxHcP_n",
        "outputId": "5ceabf29-6d90-40b7-83ca-dd24fedc7f01"
      },
      "execution_count": null,
      "outputs": [
        {
          "output_type": "execute_result",
          "data": {
            "text/plain": [
              "[]"
            ]
          },
          "metadata": {},
          "execution_count": 32
        }
      ]
    },
    {
      "cell_type": "code",
      "source": [
        "a = [1,2]\n",
        "a[2:3]"
      ],
      "metadata": {
        "colab": {
          "base_uri": "https://localhost:8080/"
        },
        "id": "ivukRxVDbqU6",
        "outputId": "064399e4-7a4c-4ab1-f2f1-eb7ef700dbc1"
      },
      "execution_count": null,
      "outputs": [
        {
          "output_type": "execute_result",
          "data": {
            "text/plain": [
              "[]"
            ]
          },
          "metadata": {},
          "execution_count": 31
        }
      ]
    },
    {
      "cell_type": "markdown",
      "source": [
        "## 9. 시저 암호 (2023.03.17)"
      ],
      "metadata": {
        "id": "OTFJ5vzGdvGW"
      }
    },
    {
      "cell_type": "code",
      "source": [
        "122-97+1 # 97~122 # 65~90"
      ],
      "metadata": {
        "colab": {
          "base_uri": "https://localhost:8080/"
        },
        "id": "sD_ddrYJuKjN",
        "outputId": "6ba1da07-7d8e-40f0-c1d1-ed3941076e38"
      },
      "execution_count": null,
      "outputs": [
        {
          "output_type": "execute_result",
          "data": {
            "text/plain": [
              "26"
            ]
          },
          "metadata": {},
          "execution_count": 45
        }
      ]
    },
    {
      "cell_type": "code",
      "source": [
        "def solution(s, n):\n",
        "    answer = ''\n",
        "    for i in range(len(s)):\n",
        "        if s[i] == ' ':\n",
        "            answer+=s[i]\n",
        "        else:\n",
        "            if ((ord(s[i])<=90) and (ord(s[i])+n > 90)) or (ord(s[i])>=97) and (ord(s[i])+n > 122):\n",
        "                answer+=chr(ord(s[i])+n-26)\n",
        "            else:\n",
        "                answer+=chr(ord(s[i])+n)\n",
        "    return answer"
      ],
      "metadata": {
        "id": "iEGdFNB0dxef"
      },
      "execution_count": null,
      "outputs": []
    },
    {
      "cell_type": "code",
      "source": [
        "# 프로그래머스 풀이\n",
        "def solution(s, n):\n",
        "    answer = list(s)\n",
        "    for i in range(len(answer)):\n",
        "        if answer[i].isupper():\n",
        "            answer[i] = chr((ord(answer[i])-ord('A')+n)%26 + ord('A'))\n",
        "        elif answer[i].islower():\n",
        "            answer[i] = chr((ord(answer[i])-ord('a')+n)%26 + ord('a'))\n",
        "    return ''.join(answer)"
      ],
      "metadata": {
        "id": "k_BJrdAawgFE"
      },
      "execution_count": null,
      "outputs": []
    },
    {
      "cell_type": "code",
      "source": [
        "solution(\"AB\", 1)"
      ],
      "metadata": {
        "colab": {
          "base_uri": "https://localhost:8080/",
          "height": 36
        },
        "id": "jXndeoqohDgt",
        "outputId": "38881aa8-59ca-49bb-ad3f-a02cd5ca87f4"
      },
      "execution_count": null,
      "outputs": [
        {
          "output_type": "execute_result",
          "data": {
            "text/plain": [
              "'BC'"
            ],
            "application/vnd.google.colaboratory.intrinsic+json": {
              "type": "string"
            }
          },
          "metadata": {},
          "execution_count": 63
        }
      ]
    },
    {
      "cell_type": "code",
      "source": [
        "solution('z',1)"
      ],
      "metadata": {
        "colab": {
          "base_uri": "https://localhost:8080/",
          "height": 36
        },
        "id": "vsNTbzLrhgLs",
        "outputId": "564d05c8-0266-4f2e-b1a1-9494f4f3920c"
      },
      "execution_count": null,
      "outputs": [
        {
          "output_type": "execute_result",
          "data": {
            "text/plain": [
              "'a'"
            ],
            "application/vnd.google.colaboratory.intrinsic+json": {
              "type": "string"
            }
          },
          "metadata": {},
          "execution_count": 64
        }
      ]
    },
    {
      "cell_type": "code",
      "source": [
        "solution(\"a B z\",4)"
      ],
      "metadata": {
        "colab": {
          "base_uri": "https://localhost:8080/",
          "height": 36
        },
        "id": "7GVcCHzHhfJS",
        "outputId": "4f5b26b0-89f1-4e7d-b444-4c2bb64bd17e"
      },
      "execution_count": null,
      "outputs": [
        {
          "output_type": "execute_result",
          "data": {
            "text/plain": [
              "'e F d'"
            ],
            "application/vnd.google.colaboratory.intrinsic+json": {
              "type": "string"
            }
          },
          "metadata": {},
          "execution_count": 65
        }
      ]
    },
    {
      "cell_type": "markdown",
      "source": [
        "## 10. 약수의 합 (2023.04.27)"
      ],
      "metadata": {
        "id": "HWr-uItDldRm"
      }
    },
    {
      "cell_type": "code",
      "source": [
        "def solution(n):\n",
        "    return n + sum([i for i in range(1,n//2+1) if n%i==0])"
      ],
      "metadata": {
        "id": "oAD1Qdu4yw7v"
      },
      "execution_count": 3,
      "outputs": []
    },
    {
      "cell_type": "code",
      "source": [
        "solution(12)"
      ],
      "metadata": {
        "colab": {
          "base_uri": "https://localhost:8080/"
        },
        "id": "X4Rbq2C9qOJG",
        "outputId": "32410def-adf8-44a3-efb5-510dc064bfbf"
      },
      "execution_count": 4,
      "outputs": [
        {
          "output_type": "execute_result",
          "data": {
            "text/plain": [
              "28"
            ]
          },
          "metadata": {},
          "execution_count": 4
        }
      ]
    },
    {
      "cell_type": "code",
      "source": [
        "solution(5)"
      ],
      "metadata": {
        "colab": {
          "base_uri": "https://localhost:8080/"
        },
        "id": "Y85C6MCHqhLu",
        "outputId": "3bc01209-28dc-4fcc-e28f-115eff31c8dd"
      },
      "execution_count": 5,
      "outputs": [
        {
          "output_type": "execute_result",
          "data": {
            "text/plain": [
              "6"
            ]
          },
          "metadata": {},
          "execution_count": 5
        }
      ]
    },
    {
      "cell_type": "code",
      "source": [],
      "metadata": {
        "id": "cPK33IshqlK3"
      },
      "execution_count": null,
      "outputs": []
    }
  ]
}