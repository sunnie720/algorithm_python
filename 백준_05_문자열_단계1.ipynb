{
  "nbformat": 4,
  "nbformat_minor": 0,
  "metadata": {
    "colab": {
      "name": "백준_05_문자열_단계1.ipynb",
      "provenance": [],
      "authorship_tag": "ABX9TyPI6bds8FTG7KwWEifZuVfK"
    },
    "kernelspec": {
      "name": "python3",
      "display_name": "Python 3"
    },
    "language_info": {
      "name": "python"
    }
  },
  "cells": [
    {
      "cell_type": "markdown",
      "source": [
        "문제1(11654): 아스키코드"
      ],
      "metadata": {
        "id": "kjvM9MwXNZOH"
      }
    },
    {
      "cell_type": "code",
      "execution_count": null,
      "metadata": {
        "colab": {
          "base_uri": "https://localhost:8080/"
        },
        "id": "pBHUZSqOM0fS",
        "outputId": "ec4fc317-b08c-4a31-eab5-f522b59fe726"
      },
      "outputs": [
        {
          "output_type": "stream",
          "name": "stdout",
          "text": [
            "z\n",
            "122\n"
          ]
        }
      ],
      "source": [
        "a = input()\n",
        "print(ord(a))"
      ]
    },
    {
      "cell_type": "markdown",
      "source": [
        "문제2(11720): 숫자의 합"
      ],
      "metadata": {
        "id": "gQDH9QPbaeMx"
      }
    },
    {
      "cell_type": "code",
      "source": [
        "N=int(input())\n",
        "num=input()\n",
        "num=[int(num[i]) for i in range(N)]\n",
        "print(sum(num))"
      ],
      "metadata": {
        "colab": {
          "base_uri": "https://localhost:8080/"
        },
        "id": "bCm2zGviQMkB",
        "outputId": "5fd85ca3-7789-4a24-ecf6-703ec9b8ce52"
      },
      "execution_count": null,
      "outputs": [
        {
          "output_type": "stream",
          "name": "stdout",
          "text": [
            "11\n",
            "10987654321\n",
            "46\n"
          ]
        }
      ]
    },
    {
      "cell_type": "markdown",
      "source": [
        "문제3(10809): 알파벳 찾기"
      ],
      "metadata": {
        "id": "o1kWVKC9sGci"
      }
    },
    {
      "cell_type": "code",
      "source": [
        "S=input()\n",
        "s=list('abcdefghijklmnopqrstuvwxyz')\n",
        "for alphabet in s:\n",
        "  print(S.find(alphabet), end=' ')"
      ],
      "metadata": {
        "colab": {
          "base_uri": "https://localhost:8080/"
        },
        "id": "uS7godE-rsq3",
        "outputId": "27767a36-5f9c-46b3-ed52-1cd1b69ce932"
      },
      "execution_count": null,
      "outputs": [
        {
          "output_type": "stream",
          "name": "stdout",
          "text": [
            "baekjoon\n",
            "1 0 -1 -1 2 -1 -1 -1 -1 4 3 -1 -1 7 5 -1 -1 -1 -1 -1 -1 -1 -1 -1 -1 -1 "
          ]
        }
      ]
    },
    {
      "cell_type": "markdown",
      "source": [
        "문제4(2675): 문자열 반복"
      ],
      "metadata": {
        "id": "N3jku_nbtVR9"
      }
    },
    {
      "cell_type": "code",
      "source": [
        "N=int(input())\n",
        "for _ in range(N):\n",
        "  r,s=input().split()\n",
        "  for i in range(len(s)):\n",
        "    print(s[i]*int(r), end='')\n",
        "  print()"
      ],
      "metadata": {
        "colab": {
          "base_uri": "https://localhost:8080/"
        },
        "id": "relK7tiDx6QT",
        "outputId": "c3537922-71a4-4908-f2db-c90b3e418935"
      },
      "execution_count": null,
      "outputs": [
        {
          "output_type": "stream",
          "name": "stdout",
          "text": [
            "2\n",
            "3 ABC\n",
            "AAABBBCCC\n",
            "5 /HTP\n",
            "/////HHHHHTTTTTPPPPP\n"
          ]
        }
      ]
    },
    {
      "cell_type": "markdown",
      "source": [
        "문제5(1157): 단어 공부"
      ],
      "metadata": {
        "id": "NbcZEMqX7bPd"
      }
    },
    {
      "cell_type": "code",
      "source": [
        "S=input().upper()\n",
        "D={}\n",
        "for s in S:\n",
        "  if s not in D:\n",
        "      D[s]=1\n",
        "  else: D[s]+=1\n",
        "result=[k for k,v in D.items() if max(D.values()) == v]\n",
        "if len(result)==1:\n",
        "  print(result[0])\n",
        "else: print('?')"
      ],
      "metadata": {
        "colab": {
          "base_uri": "https://localhost:8080/"
        },
        "id": "NwOQPmDjZkgq",
        "outputId": "40fe33c2-d290-4a26-de43-1e45fa8d5d25"
      },
      "execution_count": null,
      "outputs": [
        {
          "output_type": "stream",
          "name": "stdout",
          "text": [
            "Mississipi\n",
            "?\n"
          ]
        }
      ]
    },
    {
      "cell_type": "code",
      "source": [
        "S=input().upper()\n",
        "unq=list(set(S))\n",
        "cnt=[]\n",
        "for i in range(len(unq)):\n",
        "  c=S.count(unq[i])\n",
        "  cnt.append(c)\n",
        "if cnt.count(max(cnt))==1:\n",
        "  idx=cnt.index(max(cnt))\n",
        "  print(unq[idx])\n",
        "else:\n",
        "  print('?')"
      ],
      "metadata": {
        "colab": {
          "base_uri": "https://localhost:8080/"
        },
        "id": "-9yPAyEhaUBU",
        "outputId": "4db00a71-45b5-46e9-c447-11bdd38d9737"
      },
      "execution_count": null,
      "outputs": [
        {
          "output_type": "stream",
          "name": "stdout",
          "text": [
            "Mississipi\n",
            "?\n"
          ]
        }
      ]
    },
    {
      "cell_type": "markdown",
      "source": [
        "문제6(1152): 단어의 개수"
      ],
      "metadata": {
        "id": "_bCALxNOYfgC"
      }
    },
    {
      "cell_type": "code",
      "source": [
        "s=input().split()\n",
        "print(len(s))"
      ],
      "metadata": {
        "colab": {
          "base_uri": "https://localhost:8080/"
        },
        "id": "gajCCBZBn6VN",
        "outputId": "7f8c5e87-44e1-4e19-e0d9-11729725b36c"
      },
      "execution_count": null,
      "outputs": [
        {
          "output_type": "stream",
          "name": "stdout",
          "text": [
            "The Curious Case of Benjamin Button\n",
            "6\n"
          ]
        }
      ]
    },
    {
      "cell_type": "markdown",
      "source": [
        "문제7(2908): 상수"
      ],
      "metadata": {
        "id": "rlhgY1qtuqSn"
      }
    },
    {
      "cell_type": "code",
      "source": [
        "a,b=input().split()\n",
        "a=int(a[2]+a[1]+a[0])\n",
        "b=int(b[2]+b[1]+b[0])\n",
        "if a>b: print(a)\n",
        "else: print(b)"
      ],
      "metadata": {
        "colab": {
          "base_uri": "https://localhost:8080/"
        },
        "id": "-AXNNVhEa7Ss",
        "outputId": "4fa93df8-4e76-4dcc-bb7f-0944dba1bf98"
      },
      "execution_count": null,
      "outputs": [
        {
          "output_type": "stream",
          "name": "stdout",
          "text": [
            "839 237\n",
            "938\n"
          ]
        }
      ]
    },
    {
      "cell_type": "markdown",
      "source": [
        "문제8(5622): 다이얼"
      ],
      "metadata": {
        "id": "3xBIlFxLIgqH"
      }
    },
    {
      "cell_type": "code",
      "source": [
        "S=input()\n",
        "sum=0\n",
        "for i in range(len(S)):\n",
        "  ascii=ord(S[i])\n",
        "  if ascii<80:\n",
        "    sum+=(ascii+1)//3-19 \n",
        "  elif ascii<84:\n",
        "    sum+=8\n",
        "  elif ascii<87:\n",
        "    sum+=9\n",
        "  else: sum+=10\n",
        "print(sum)"
      ],
      "metadata": {
        "colab": {
          "base_uri": "https://localhost:8080/"
        },
        "id": "IQrbDrbVIjbv",
        "outputId": "76b813dc-f0b5-4a57-c492-9c94494c76d9"
      },
      "execution_count": 1,
      "outputs": [
        {
          "output_type": "stream",
          "name": "stdout",
          "text": [
            "UNUCIC\n",
            "36\n"
          ]
        }
      ]
    },
    {
      "cell_type": "code",
      "source": [
        "key=['ABC', 'DEF', 'GHI', 'JKL', 'MNO', 'PQRS', 'TUV', 'WXYZ']\n",
        "S=input()\n",
        "sum=0\n",
        "for i in S:\n",
        "  for j in key:\n",
        "    if i in j :\n",
        "      sum+=key.index(j)+3\n",
        "print(sum)"
      ],
      "metadata": {
        "colab": {
          "base_uri": "https://localhost:8080/"
        },
        "id": "Cpd5A-9MIlYe",
        "outputId": "e7037104-b7f9-4562-dbe1-7ee891633dc8"
      },
      "execution_count": 2,
      "outputs": [
        {
          "output_type": "stream",
          "name": "stdout",
          "text": [
            "UNUCIC\n",
            "36\n"
          ]
        }
      ]
    },
    {
      "cell_type": "markdown",
      "source": [
        "문제9(2941): 크로아티아 알파벳"
      ],
      "metadata": {
        "id": "UkYF_9AsIpt4"
      }
    },
    {
      "cell_type": "code",
      "source": [
        "S=input()\n",
        "compound=0\n",
        "for i in range(len(S)-1,0,-1):\n",
        "  if S[i]=='j' and S[i-1] in ['l','n']: compound+=1\n",
        "  elif S[i]=='-': compound+=1\n",
        "  elif S[i]=='=':\n",
        "    try:\n",
        "      if S[-1]!=False:\n",
        "        if S[i-2]=='d' and S[i-1]=='z': compound+=2\n",
        "        else: compound+=1\n",
        "    except: pass\n",
        "  else: pass\n",
        "print(len(S)-compound)"
      ],
      "metadata": {
        "colab": {
          "base_uri": "https://localhost:8080/"
        },
        "id": "HCjviWc1IqTy",
        "outputId": "1643e7eb-aa46-4925-a6da-fc1b5bd2e4df"
      },
      "execution_count": 1,
      "outputs": [
        {
          "output_type": "stream",
          "name": "stdout",
          "text": [
            "ljes=njak\n",
            "6\n"
          ]
        }
      ]
    },
    {
      "cell_type": "code",
      "source": [
        "normal_word = ['c=','c-','dz=','d-','lj','s=','z=','nj']\n",
        "\n",
        "word = input()\n",
        "for i in normal_word:\n",
        "    if i in word:\n",
        "        word = word.replace(i, 'a')\n",
        "\n",
        "print(len(word))"
      ],
      "metadata": {
        "colab": {
          "base_uri": "https://localhost:8080/"
        },
        "id": "NiNG-c_GIul_",
        "outputId": "3e564402-2291-48b2-9c3d-c4da51065978"
      },
      "execution_count": 2,
      "outputs": [
        {
          "output_type": "stream",
          "name": "stdout",
          "text": [
            "ljes=njak\n",
            "6\n"
          ]
        }
      ]
    },
    {
      "cell_type": "markdown",
      "source": [
        "문제10(\t1316): 그룹 단어 체커"
      ],
      "metadata": {
        "id": "jc4MZncCg1rb"
      }
    },
    {
      "cell_type": "code",
      "source": [
        "N=int(input())\n",
        "cnt=0\n",
        "for _ in range(N):\n",
        "  s=input()\n",
        "  no_group=0\n",
        "  for i in range(len(s)):\n",
        "    a=s[i]\n",
        "    try:\n",
        "      if s.find(a,i+1)!=i+1 and s.find(a,i+2)!=-1: no_group+=1\n",
        "      else: pass\n",
        "    except: no_group+=1\n",
        "  if no_group==0: cnt+=1\n",
        "print(cnt)"
      ],
      "metadata": {
        "colab": {
          "base_uri": "https://localhost:8080/"
        },
        "id": "7LvWcFd6g3O1",
        "outputId": "b8917813-307d-4bdd-bcd1-90ba03a2fbc3"
      },
      "execution_count": 7,
      "outputs": [
        {
          "output_type": "stream",
          "name": "stdout",
          "text": [
            "3\n",
            "happy\n",
            "new\n",
            "year\n",
            "3\n"
          ]
        }
      ]
    },
    {
      "cell_type": "code",
      "source": [
        "# 다른 풀이\n",
        "N=int(input())\n",
        "no_group = 0\n",
        "for _ in range(N):\n",
        "    w = input()\n",
        "    for i in range(len(w) - 1):\n",
        "        if w[i] != w[i + 1]:\n",
        "            new = w[i + 1:len(w) + 1]\n",
        "            if w[i] in new:\n",
        "                no_group += 1    \n",
        "                break\n",
        "print(N - no_group)"
      ],
      "metadata": {
        "colab": {
          "base_uri": "https://localhost:8080/"
        },
        "id": "H1XVsPYZkhiz",
        "outputId": "f12a12f8-773a-4c80-8ce9-99024b3a01a9"
      },
      "execution_count": 11,
      "outputs": [
        {
          "output_type": "stream",
          "name": "stdout",
          "text": [
            "4\n",
            "aba\n",
            "abab\n",
            "abcabc\n",
            "a\n",
            "1\n"
          ]
        }
      ]
    }
  ]
}