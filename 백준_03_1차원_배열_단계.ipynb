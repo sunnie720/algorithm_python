{
  "nbformat": 4,
  "nbformat_minor": 0,
  "metadata": {
    "colab": {
      "name": "백준_1차원 배열_단계.ipynb",
      "provenance": [],
      "authorship_tag": "ABX9TyOv4e/vQOn+tK0K3cde8E6C"
    },
    "kernelspec": {
      "name": "python3",
      "display_name": "Python 3"
    },
    "language_info": {
      "name": "python"
    }
  },
  "cells": [
    {
      "cell_type": "markdown",
      "source": [
        "문제1(10818): 최소,최대"
      ],
      "metadata": {
        "id": "FBBzc8x9LCom"
      }
    },
    {
      "cell_type": "code",
      "source": [
        "# import sys\n",
        "# input = sys.stdin.readline\n",
        "N=int(input())\n",
        "numlist=[int(i) for i in input().split()]\n",
        "print(min(numlist), max(numlist))"
      ],
      "metadata": {
        "colab": {
          "base_uri": "https://localhost:8080/"
        },
        "id": "y4Wx0FmcLB2X",
        "outputId": "a0add9a6-11f8-4cd0-f8e6-0204e979d865"
      },
      "execution_count": 2,
      "outputs": [
        {
          "output_type": "stream",
          "name": "stdout",
          "text": [
            "5\n",
            "20 10 35 30 7\n",
            "7 35\n"
          ]
        }
      ]
    },
    {
      "cell_type": "markdown",
      "source": [
        "문제2(2562): 최댓값"
      ],
      "metadata": {
        "id": "Nlgb-DfsLBgl"
      }
    },
    {
      "cell_type": "code",
      "execution_count": 12,
      "metadata": {
        "colab": {
          "base_uri": "https://localhost:8080/"
        },
        "id": "ULN8UFPvJ6Ed",
        "outputId": "6b5de831-c2fd-4ab0-851f-12cc7d50d841"
      },
      "outputs": [
        {
          "output_type": "stream",
          "name": "stdout",
          "text": [
            "3\n",
            "29\n",
            "38\n",
            "12\n",
            "57\n",
            "74\n",
            "40\n",
            "85\n",
            "61\n",
            "85\n",
            "8\n"
          ]
        }
      ],
      "source": [
        "num=[]\n",
        "for _ in range(9):\n",
        "  n=int(input())\n",
        "  num.append(n)\n",
        "m=max(num)\n",
        "print(m, num.index(m)+1, sep='\\n')"
      ]
    },
    {
      "cell_type": "markdown",
      "source": [
        "문제3(2577): 숫자의 개수"
      ],
      "metadata": {
        "id": "4B_AEy_IPmQJ"
      }
    },
    {
      "cell_type": "code",
      "source": [
        "a=int(input())\n",
        "b=int(input())\n",
        "c=int(input())\n",
        "n=a*b*c\n",
        "for i in range(10):\n",
        "  print(str(n).count(f'{i}'))"
      ],
      "metadata": {
        "colab": {
          "base_uri": "https://localhost:8080/"
        },
        "id": "kkBFU2q3OeWA",
        "outputId": "833dcbf1-0f47-49b6-ba4f-d8ee362f2518"
      },
      "execution_count": 17,
      "outputs": [
        {
          "output_type": "stream",
          "name": "stdout",
          "text": [
            "150\n",
            "266\n",
            "427\n",
            "3\n",
            "1\n",
            "0\n",
            "2\n",
            "0\n",
            "0\n",
            "0\n",
            "2\n",
            "0\n",
            "0\n"
          ]
        }
      ]
    },
    {
      "cell_type": "markdown",
      "source": [
        "문제4(3052): 나머지"
      ],
      "metadata": {
        "id": "uxyt4nkGRGVq"
      }
    },
    {
      "cell_type": "code",
      "source": [
        "num=[]\n",
        "for _ in range(10):\n",
        "  n=int(input())\n",
        "  num.append(n%42)\n",
        "print(len(set(num)))"
      ],
      "metadata": {
        "colab": {
          "base_uri": "https://localhost:8080/"
        },
        "id": "B43507N-SVAq",
        "outputId": "44ada493-20d5-43ae-cde3-2286a0f11ab9"
      },
      "execution_count": 22,
      "outputs": [
        {
          "output_type": "stream",
          "name": "stdout",
          "text": [
            "1\n",
            "2\n",
            "3\n",
            "4\n",
            "5\n",
            "6\n",
            "7\n",
            "8\n",
            "9\n",
            "10\n",
            "10\n"
          ]
        }
      ]
    },
    {
      "cell_type": "markdown",
      "source": [
        "문제5(1546): 평균"
      ],
      "metadata": {
        "id": "B1c6NFEDS-pO"
      }
    },
    {
      "cell_type": "code",
      "source": [
        "N=int(input())\n",
        "scores=list(map(int,input().split()))\n",
        "new_scores=[i/max(scores)*100 for i in scores]\n",
        "sum=0\n",
        "for s in new_scores:\n",
        "  sum+=s\n",
        "avg=sum/N\n",
        "print(avg)"
      ],
      "metadata": {
        "colab": {
          "base_uri": "https://localhost:8080/"
        },
        "id": "tvQhPrb4TNwg",
        "outputId": "e3c8c0e3-31c9-4557-8734-5c1847592167"
      },
      "execution_count": 28,
      "outputs": [
        {
          "output_type": "stream",
          "name": "stdout",
          "text": [
            "4\n",
            "1 100 100 100\n",
            "75.25\n"
          ]
        }
      ]
    },
    {
      "cell_type": "markdown",
      "source": [
        "문제6(8958): OX퀴즈"
      ],
      "metadata": {
        "id": "D8b1gCAbUp0Y"
      }
    },
    {
      "cell_type": "code",
      "source": [
        "N=int(input())\n",
        "for _ in range(N):\n",
        "  case=input().split('X')\n",
        "  Os=[]\n",
        "  for ox in case:\n",
        "    if ox!='':\n",
        "      Os.append(len(ox))\n",
        "      \n",
        "  score=0\n",
        "  for o in Os:\n",
        "    sum=0\n",
        "    for i in range(1,o+1):\n",
        "      sum+=i\n",
        "    score+=sum\n",
        "  print(score)"
      ],
      "metadata": {
        "colab": {
          "base_uri": "https://localhost:8080/"
        },
        "id": "YG4DFPblZJac",
        "outputId": "2af01216-933f-48f3-fc9e-b0dce063d0ea"
      },
      "execution_count": 56,
      "outputs": [
        {
          "output_type": "stream",
          "name": "stdout",
          "text": [
            "5\n",
            "OOXXOXXOOO\n",
            "10\n",
            "OOXXOOXXOO\n",
            "9\n",
            "OXOXOXOXOXOXOX\n",
            "7\n",
            "OOOOOOOOOO\n",
            "55\n",
            "OOOOXOOOOXOOOOX\n",
            "30\n"
          ]
        }
      ]
    },
    {
      "cell_type": "code",
      "source": [
        "N=int(input())\n",
        "scores=[]\n",
        "for i in range(N):\n",
        "  scores.append(input())\n",
        "  result = 0\n",
        "  correct = 0\n",
        "  for j in range(len(scores[i])):\n",
        "    if scores[i][j] == 'O':\n",
        "      correct += 1\n",
        "      result += correct\n",
        "    else:\n",
        "      correct = 0\n",
        "  print(result)"
      ],
      "metadata": {
        "colab": {
          "base_uri": "https://localhost:8080/"
        },
        "id": "_tuzVgHWfgv2",
        "outputId": "3ee27f6a-c3e9-455e-a6d8-544f584c5277"
      },
      "execution_count": 59,
      "outputs": [
        {
          "output_type": "stream",
          "name": "stdout",
          "text": [
            "5\n",
            "OOXXOXXOOO\n",
            "10\n",
            "OOXXOOXXOO\n",
            "9\n",
            "OXOXOXOXOXOXOX\n",
            "7\n",
            "OOOOOOOOOO\n",
            "55\n",
            "OOOOXOOOOXOOOOX\n",
            "30\n"
          ]
        }
      ]
    },
    {
      "cell_type": "markdown",
      "source": [
        "문제7(4344): 평균은 넘겠지"
      ],
      "metadata": {
        "id": "BHP1Ibirer_2"
      }
    },
    {
      "cell_type": "code",
      "source": [
        "N=int(input())\n",
        "for _ in range(N):\n",
        "  case=list(map(int,input().split()))\n",
        "  n=case.pop(0)\n",
        "  sum=0\n",
        "  for s in case:\n",
        "    sum+=s\n",
        "  avg=sum/n\n",
        "\n",
        "  k=0\n",
        "  for s in case:\n",
        "    if s>avg: k+=1\n",
        "  rate=k/n*100\n",
        "  print('%0.3f%%' %(rate))"
      ],
      "metadata": {
        "colab": {
          "base_uri": "https://localhost:8080/"
        },
        "id": "tUgU1LyDernE",
        "outputId": "64ce7fe1-784b-4d13-a68e-ba6f8513b159"
      },
      "execution_count": 71,
      "outputs": [
        {
          "output_type": "stream",
          "name": "stdout",
          "text": [
            "5\n",
            "5 50 50 70 80 100\n",
            "40.000%\n",
            "7 100 95 90 80 70 60 50\n",
            "57.143%\n",
            "3 70 90 80\n",
            "33.333%\n",
            "3 70 90 81\n",
            "66.667%\n",
            "9 100 99 98 97 96 95 94 93 91\n",
            "55.556%\n"
          ]
        }
      ]
    },
    {
      "cell_type": "code",
      "source": [
        ""
      ],
      "metadata": {
        "id": "ALL-4gVIlerq"
      },
      "execution_count": null,
      "outputs": []
    }
  ]
}
