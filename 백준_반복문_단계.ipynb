{
  "nbformat": 4,
  "nbformat_minor": 0,
  "metadata": {
    "colab": {
      "name": "백준_반복문 단계.ipynb",
      "provenance": [],
      "authorship_tag": "ABX9TyO2s932o5ydC+q4TOBZAauU"
    },
    "kernelspec": {
      "name": "python3",
      "display_name": "Python 3"
    },
    "language_info": {
      "name": "python"
    }
  },
  "cells": [
    {
      "cell_type": "markdown",
      "source": [
        "문제1(2739): 구구단"
      ],
      "metadata": {
        "id": "KGjDwKM4lgPV"
      }
    },
    {
      "cell_type": "code",
      "execution_count": null,
      "metadata": {
        "colab": {
          "base_uri": "https://localhost:8080/"
        },
        "id": "4cKU3ujwUcjT",
        "outputId": "867a10f0-6061-4a5d-ebcb-b20c5fff1c64"
      },
      "outputs": [
        {
          "output_type": "stream",
          "name": "stdout",
          "text": [
            "2\n",
            "2 * 1 = 2\n",
            "2 * 2 = 4\n",
            "2 * 3 = 6\n",
            "2 * 4 = 8\n",
            "2 * 5 = 10\n",
            "2 * 6 = 12\n",
            "2 * 7 = 14\n",
            "2 * 8 = 16\n",
            "2 * 9 = 18\n"
          ]
        }
      ],
      "source": [
        "times=int(input())\n",
        "\n",
        "for i in range(1,10):\n",
        "  print(f'{times} * {i} = {times*i}')"
      ]
    },
    {
      "cell_type": "markdown",
      "source": [
        "문제2(10950): A+B - 3"
      ],
      "metadata": {
        "id": "qiLioBO0nRDM"
      }
    },
    {
      "cell_type": "code",
      "source": [
        "T=int(input())\n",
        "for i in range(T):\n",
        "  a,b=map(int,input().split())\n",
        "  print(a+b)"
      ],
      "metadata": {
        "id": "dH-GkLKRm-mk",
        "colab": {
          "base_uri": "https://localhost:8080/"
        },
        "outputId": "8ec805ab-2088-440a-d12d-0224a7869ad8"
      },
      "execution_count": null,
      "outputs": [
        {
          "output_type": "stream",
          "name": "stdout",
          "text": [
            "5\n",
            "1 1\n",
            "2\n",
            "2 3\n",
            "5\n",
            "3 4\n",
            "7\n",
            "9 8\n",
            "17\n",
            "5 2\n",
            "7\n"
          ]
        }
      ]
    },
    {
      "cell_type": "markdown",
      "source": [
        "문제3(8393): 합\n"
      ],
      "metadata": {
        "id": "Ohz2Ne2mtkTY"
      }
    },
    {
      "cell_type": "code",
      "source": [
        "n=int(input())\n",
        "sum=0\n",
        "for i in range(n):\n",
        "  sum+=(i+1)\n",
        "print(sum)"
      ],
      "metadata": {
        "colab": {
          "base_uri": "https://localhost:8080/"
        },
        "id": "63HefNjhtisf",
        "outputId": "6b923bfe-5775-441c-9d5d-7eb8a506e8b3"
      },
      "execution_count": null,
      "outputs": [
        {
          "output_type": "stream",
          "name": "stdout",
          "text": [
            "4\n",
            "10\n"
          ]
        }
      ]
    },
    {
      "cell_type": "markdown",
      "source": [
        "문제4(15552): 빠른 A+B"
      ],
      "metadata": {
        "id": "rB2oqhedv_bf"
      }
    },
    {
      "cell_type": "code",
      "source": [
        "# import sys\n",
        "# input = sys.stdin.readline\n",
        "T=int(input())\n",
        "for i in range(T):\n",
        "  a,b=map(int,input().split())\n",
        "  print(a+b)"
      ],
      "metadata": {
        "colab": {
          "base_uri": "https://localhost:8080/"
        },
        "id": "ev8vXsGiuv9w",
        "outputId": "01531bc1-d0dc-4bb1-d15a-cd2629945c4c"
      },
      "execution_count": null,
      "outputs": [
        {
          "output_type": "stream",
          "name": "stdout",
          "text": [
            "5\n",
            "1 1\n",
            "2\n",
            "2 2\n",
            "4\n",
            "3 3\n",
            "6\n",
            "4 4\n",
            "8\n",
            "5 5\n",
            "10\n"
          ]
        }
      ]
    },
    {
      "cell_type": "markdown",
      "source": [
        "문제5(2741): N 찍기"
      ],
      "metadata": {
        "id": "KYTrl4TnyjZ5"
      }
    },
    {
      "cell_type": "code",
      "source": [
        "# import sys\n",
        "# input = sys.stdin.readline\n",
        "N=int(input())\n",
        "for i in range(1,N+1):\n",
        "  print(i)"
      ],
      "metadata": {
        "colab": {
          "base_uri": "https://localhost:8080/"
        },
        "id": "WnTJUKztxm2u",
        "outputId": "838e9667-98e7-4723-8d0f-7113a044312b"
      },
      "execution_count": null,
      "outputs": [
        {
          "output_type": "stream",
          "name": "stdout",
          "text": [
            "5\n",
            "1\n",
            "2\n",
            "3\n",
            "4\n",
            "5\n"
          ]
        }
      ]
    },
    {
      "cell_type": "markdown",
      "source": [
        "문제6(2742): 기찍 N"
      ],
      "metadata": {
        "id": "YLOR6iTtzmzr"
      }
    },
    {
      "cell_type": "code",
      "source": [
        "# import sys\n",
        "# input = sys.stdin.readline\n",
        "N=int(input())\n",
        "for i in range(N,0,-1):\n",
        "  print(i)"
      ],
      "metadata": {
        "colab": {
          "base_uri": "https://localhost:8080/"
        },
        "id": "Je3GNvalzFC_",
        "outputId": "6415c845-9e0a-4dc9-b249-ebbb12d5db95"
      },
      "execution_count": null,
      "outputs": [
        {
          "output_type": "stream",
          "name": "stdout",
          "text": [
            "5\n",
            "5\n",
            "4\n",
            "3\n",
            "2\n",
            "1\n"
          ]
        }
      ]
    },
    {
      "cell_type": "code",
      "source": [
        "N = range(int(input()), 0, -1)\n",
        "print('\\n'.join(map(str,N))) # for문 돌리지 않아서 속도 빠름!"
      ],
      "metadata": {
        "colab": {
          "base_uri": "https://localhost:8080/"
        },
        "id": "eYTtf70xzwGs",
        "outputId": "0005b4ee-c892-4b9c-b73c-8bd2c9bc9d90"
      },
      "execution_count": null,
      "outputs": [
        {
          "output_type": "stream",
          "name": "stdout",
          "text": [
            "5\n",
            "5\n",
            "4\n",
            "3\n",
            "2\n",
            "1\n"
          ]
        }
      ]
    },
    {
      "cell_type": "markdown",
      "source": [
        "문제7(11021): A+B - 7"
      ],
      "metadata": {
        "id": "-KYdhq934Bs6"
      }
    },
    {
      "cell_type": "code",
      "source": [
        "# import sys\n",
        "# input = sys.stdin.readline\n",
        "N=int(input())\n",
        "for i in range(1,N+1):\n",
        "  a,b=map(int,input().split())\n",
        "  print(f'Case #{i}: {a+b}')"
      ],
      "metadata": {
        "colab": {
          "base_uri": "https://localhost:8080/"
        },
        "id": "qfVao6Bl3l0t",
        "outputId": "80ab4911-d420-478a-dd14-2dc243931a22"
      },
      "execution_count": null,
      "outputs": [
        {
          "output_type": "stream",
          "name": "stdout",
          "text": [
            "3\n",
            "1 1\n",
            "Case #1: 2\n",
            "2 3\n",
            "Case #2: 5\n",
            "3 4\n",
            "Case #3: 7\n"
          ]
        }
      ]
    },
    {
      "cell_type": "markdown",
      "source": [
        "문제8(11022): A+B - 8"
      ],
      "metadata": {
        "id": "tYwiZORr5j4O"
      }
    },
    {
      "cell_type": "code",
      "source": [
        "# import sys\n",
        "# input = sys.stdin.readline\n",
        "N=int(input())\n",
        "for i in range(1,N+1):\n",
        "  a,b=map(int,input().split())\n",
        "  print(f'Case #{i}: {a} + {b} = {a+b}')"
      ],
      "metadata": {
        "colab": {
          "base_uri": "https://localhost:8080/"
        },
        "id": "tz_ttIRE45b9",
        "outputId": "e472c10a-2549-4ae6-9221-0dd3c176523a"
      },
      "execution_count": null,
      "outputs": [
        {
          "output_type": "stream",
          "name": "stdout",
          "text": [
            "3\n",
            "1 1\n",
            "Case #1: 1 + 1 = 2\n",
            "2 3\n",
            "Case #2: 2 + 3 = 5\n",
            "3 4\n",
            "Case #3: 3 + 4 = 7\n"
          ]
        }
      ]
    },
    {
      "cell_type": "markdown",
      "source": [
        "문제9(2438): 별 찍기 - 1"
      ],
      "metadata": {
        "id": "GurNEajW6D5b"
      }
    },
    {
      "cell_type": "code",
      "source": [
        "# import sys\n",
        "# input = sys.stdin.readline\n",
        "N=int(input())\n",
        "for i in range(1,N+1):\n",
        "  print('*'*i)"
      ],
      "metadata": {
        "colab": {
          "base_uri": "https://localhost:8080/"
        },
        "id": "KddSdec34nTK",
        "outputId": "2c8f4233-0bd8-4a39-d74a-fccf4ee71bf5"
      },
      "execution_count": null,
      "outputs": [
        {
          "output_type": "stream",
          "name": "stdout",
          "text": [
            "5\n",
            "*\n",
            "**\n",
            "***\n",
            "****\n",
            "*****\n"
          ]
        }
      ]
    },
    {
      "cell_type": "markdown",
      "source": [
        "문제10(2439): 별 찍기 - 2"
      ],
      "metadata": {
        "id": "8j8gN3gT61kC"
      }
    },
    {
      "cell_type": "code",
      "source": [
        "# import sys\n",
        "# input = sys.stdin.readline\n",
        "N=int(input())\n",
        "for i in range(1,N+1):\n",
        "  print(' '*(N-i),'*'*i,sep='')"
      ],
      "metadata": {
        "colab": {
          "base_uri": "https://localhost:8080/"
        },
        "id": "-mfEjm5n6dHe",
        "outputId": "1506c35f-684d-44b8-8ac2-8691c2f1d6f2"
      },
      "execution_count": null,
      "outputs": [
        {
          "output_type": "stream",
          "name": "stdout",
          "text": [
            "5\n",
            "    *\n",
            "   **\n",
            "  ***\n",
            " ****\n",
            "*****\n"
          ]
        }
      ]
    },
    {
      "cell_type": "markdown",
      "source": [
        "문제11(10871): X보다 작은 수"
      ],
      "metadata": {
        "id": "scvNfgxO7cK2"
      }
    },
    {
      "cell_type": "code",
      "source": [
        "# import sys\n",
        "# input = sys.stdin.readline\n",
        "N,X=map(int,input().split())\n",
        "A=input().split()\n",
        "for a in A:\n",
        "  if int(a)<X:\n",
        "    print(a,end=' ')"
      ],
      "metadata": {
        "colab": {
          "base_uri": "https://localhost:8080/"
        },
        "id": "194cUBtR7ZlX",
        "outputId": "6a9820e4-78eb-4f92-eef9-088e4c2d4664"
      },
      "execution_count": null,
      "outputs": [
        {
          "output_type": "stream",
          "name": "stdout",
          "text": [
            "10 5\n",
            "1 10 4 9 2 3 8 5 7 6\n",
            "1 4 2 3 "
          ]
        }
      ]
    },
    {
      "cell_type": "code",
      "source": [
        "# import sys\n",
        "# input = sys.stdin.readline\n",
        "N,X=map(int,input().split())\n",
        "A=[int(i) for i in input().split()]  # list comprehension으로 미리 정수 원소로 만들면 조금 더 빠름\n",
        "for a in A:\n",
        "  if a<X:\n",
        "    print(a,end=' ')"
      ],
      "metadata": {
        "colab": {
          "base_uri": "https://localhost:8080/"
        },
        "id": "myXTgZ-Y88PH",
        "outputId": "bd23b440-b8c1-4a3c-f085-99e32c62a6cd"
      },
      "execution_count": null,
      "outputs": [
        {
          "output_type": "stream",
          "name": "stdout",
          "text": [
            "10 5\n",
            "1 10 4 9 2 3 8 5 7 6\n",
            "1 4 2 3 "
          ]
        }
      ]
    },
    {
      "cell_type": "markdown",
      "source": [
        "문제12(10952): A+B - 5"
      ],
      "metadata": {
        "id": "e29V3EKD9pXF"
      }
    },
    {
      "cell_type": "code",
      "source": [
        "# import sys\n",
        "# input = sys.stdin.readline\n",
        "while True:\n",
        "  nums=input().split()\n",
        "  a=int(nums[0])\n",
        "  b=int(nums[1])\n",
        "  if a==0 and b==0: break\n",
        "  print(a+b)"
      ],
      "metadata": {
        "colab": {
          "base_uri": "https://localhost:8080/"
        },
        "id": "i0Ijsr4v9g-V",
        "outputId": "6a5d2e78-fc73-47f6-e1bc-e714e77f278a"
      },
      "execution_count": null,
      "outputs": [
        {
          "name": "stdout",
          "output_type": "stream",
          "text": [
            "1 1\n",
            "2\n",
            "2 3\n",
            "5\n",
            "0 0\n"
          ]
        }
      ]
    },
    {
      "cell_type": "markdown",
      "source": [
        "문제13(10951): A+B - 4"
      ],
      "metadata": {
        "id": "eknIh66Y-02t"
      }
    },
    {
      "cell_type": "code",
      "source": [
        "# import sys\n",
        "# input = sys.stdin.readline\n",
        "while True:\n",
        "  try:\n",
        "    nums=input().split()\n",
        "    a=int(nums[0])\n",
        "    b=int(nums[1])\n",
        "    print(a+b)\n",
        "  except: break"
      ],
      "metadata": {
        "colab": {
          "base_uri": "https://localhost:8080/"
        },
        "id": "iWilVaYa-q61",
        "outputId": "b2224f02-50b6-44f9-8576-c57830124b14"
      },
      "execution_count": null,
      "outputs": [
        {
          "name": "stdout",
          "output_type": "stream",
          "text": [
            "1 1\n",
            "2\n",
            "2 2\n",
            "4\n",
            "d\n"
          ]
        }
      ]
    },
    {
      "cell_type": "markdown",
      "source": [
        "문제14(1110): 더하기 사이클"
      ],
      "metadata": {
        "id": "uaXoQ7mDDHqo"
      }
    },
    {
      "cell_type": "code",
      "source": [
        "# import sys\n",
        "# input = sys.stdin.readline\n",
        "N=int(input())\n",
        "\n",
        "sum=N//10+N%10\n",
        "a=N%10\n",
        "b=sum%10\n",
        "length=1\n",
        "while True:\n",
        "  if a==N//10 and b==N%10: break\n",
        "  sum=a+b\n",
        "  a=b\n",
        "  b=sum%10\n",
        "  length+=1\n",
        "print(length)"
      ],
      "metadata": {
        "colab": {
          "base_uri": "https://localhost:8080/"
        },
        "id": "yEr1mq3IHiXo",
        "outputId": "502607fe-e95a-475c-c4b3-bad792bbcd80"
      },
      "execution_count": 12,
      "outputs": [
        {
          "output_type": "stream",
          "name": "stdout",
          "text": [
            "0\n",
            "1\n"
          ]
        }
      ]
    },
    {
      "cell_type": "code",
      "source": [
        "n = input()\n",
        "\n",
        "first = n\n",
        "count = 0\n",
        "\n",
        "while True:\n",
        "    if len(n) == 1:\n",
        "        n = '0' + n\n",
        "    n = n[-1] + str(int(n[0]) + int(n[-1]))[-1]\n",
        "    count += 1\n",
        "    \n",
        "    if int(first) == int(n):\n",
        "        break\n",
        "print(count)"
      ],
      "metadata": {
        "id": "Kq0CiV8bVj7j",
        "colab": {
          "base_uri": "https://localhost:8080/"
        },
        "outputId": "0f27c2ac-5b63-40b6-b2a0-b6f3a848444a"
      },
      "execution_count": 2,
      "outputs": [
        {
          "output_type": "stream",
          "name": "stdout",
          "text": [
            "0\n",
            "1\n"
          ]
        }
      ]
    }
  ]
}