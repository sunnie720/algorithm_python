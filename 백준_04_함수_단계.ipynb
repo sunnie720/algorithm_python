{
  "nbformat": 4,
  "nbformat_minor": 0,
  "metadata": {
    "colab": {
      "name": "백준_함수_단계.ipynb",
      "provenance": [],
      "authorship_tag": "ABX9TyN3k2r634aQLS17EZnuRGnJ"
    },
    "kernelspec": {
      "name": "python3",
      "display_name": "Python 3"
    },
    "language_info": {
      "name": "python"
    }
  },
  "cells": [
    {
      "cell_type": "markdown",
      "source": [
        "문제1(15596): 정수 N개의 합"
      ],
      "metadata": {
        "id": "FLWMGgkVlAY5"
      }
    },
    {
      "cell_type": "code",
      "source": [
        "def solve(a):\n",
        "  result=sum(a)\n",
        "  return result\n",
        "\n",
        "solve([1,2,3])"
      ],
      "metadata": {
        "colab": {
          "base_uri": "https://localhost:8080/"
        },
        "id": "OCkEi0Vqmc4y",
        "outputId": "4f394e90-0ccb-4fb2-f00f-0c0e75a8af9d"
      },
      "execution_count": 2,
      "outputs": [
        {
          "output_type": "execute_result",
          "data": {
            "text/plain": [
              "6"
            ]
          },
          "metadata": {},
          "execution_count": 2
        }
      ]
    },
    {
      "cell_type": "markdown",
      "source": [
        "문제2(4673): 셀프 넘버"
      ],
      "metadata": {
        "id": "hDSrU8N1mJoo"
      }
    },
    {
      "cell_type": "code",
      "source": [
        "def d():\n",
        "  not_self=[]\n",
        "  self_num=[]\n",
        "  for i in range(1,10001): \n",
        "    fst=i//1000\n",
        "    snd=(i%1000)//100\n",
        "    thd=((i%1000)%100)//10\n",
        "    fth=((i%1000)%100)%10\n",
        "    result=i+fst+snd+thd+fth\n",
        "    if i not in not_self:\n",
        "      self_num.append(i) \n",
        "    not_self.append(result)\n",
        "  for n in self_num:\n",
        "      print(n)"
      ],
      "metadata": {
        "id": "wxyDowAdm7xo"
      },
      "execution_count": 44,
      "outputs": []
    },
    {
      "cell_type": "markdown",
      "source": [
        "문제3(1065): 한수"
      ],
      "metadata": {
        "id": "Rm7LcpHLLucB"
      }
    },
    {
      "cell_type": "code",
      "source": [
        "def get_han(n):\n",
        "  han=[]\n",
        "  for num in range(1,N+1):\n",
        "    if num<100:\n",
        "      han.append(num)\n",
        "    else:\n",
        "      ds=[]\n",
        "      for i in range(len(str(num))-1):\n",
        "        d=int(str(num)[i+1])-int(str(num)[i])\n",
        "        ds.append(d)\n",
        "      if len(set(ds))==1:\n",
        "        han.append(num)\n",
        "  print(len(han))\n",
        "\n",
        "N=int(input())\n",
        "get_han(N)"
      ],
      "metadata": {
        "id": "Xp1UFECKH9y6"
      },
      "execution_count": 86,
      "outputs": []
    }
  ]
}
